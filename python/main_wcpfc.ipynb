{
 "cells": [
  {
   "cell_type": "code",
   "execution_count": 1,
   "metadata": {},
   "outputs": [],
   "source": [
    "%matplotlib inline"
   ]
  },
  {
   "cell_type": "code",
   "execution_count": 2,
   "metadata": {},
   "outputs": [],
   "source": [
    "import datetime\n",
    "import matplotlib.pyplot as plt\n",
    "import netCDF4 as nc\n",
    "import numpy as np\n",
    "import os\n",
    "import pandas as pd"
   ]
  },
  {
   "cell_type": "code",
   "execution_count": 3,
   "metadata": {},
   "outputs": [
    {
     "data": {
      "text/plain": [
       "'/opt/skipjack-bigeye-separation/python'"
      ]
     },
     "execution_count": 3,
     "metadata": {},
     "output_type": "execute_result"
    }
   ],
   "source": [
    "# - See what dir we're in\n",
    "os.getcwd()"
   ]
  },
  {
   "cell_type": "code",
   "execution_count": 4,
   "metadata": {},
   "outputs": [],
   "source": [
    "import scipy as sp\n",
    "from reverse_colormap import reverse_colormap\n",
    "import cmocean"
   ]
  },
  {
   "cell_type": "code",
   "execution_count": 5,
   "metadata": {},
   "outputs": [
    {
     "ename": "KeyError",
     "evalue": "'PROJ_LIB'",
     "output_type": "error",
     "traceback": [
      "\u001b[0;31m---------------------------------------------------------------------------\u001b[0m",
      "\u001b[0;31mKeyError\u001b[0m                                  Traceback (most recent call last)",
      "\u001b[0;32m<ipython-input-5-31975e8ac67d>\u001b[0m in \u001b[0;36m<module>\u001b[0;34m\u001b[0m\n\u001b[0;32m----> 1\u001b[0;31m \u001b[0;32mfrom\u001b[0m \u001b[0mmpl_toolkits\u001b[0m\u001b[0;34m.\u001b[0m\u001b[0mbasemap\u001b[0m \u001b[0;32mimport\u001b[0m \u001b[0mBasemap\u001b[0m\u001b[0;34m,\u001b[0m \u001b[0maddcyclic\u001b[0m\u001b[0;34m,\u001b[0m \u001b[0mshiftgrid\u001b[0m\u001b[0;34m\u001b[0m\u001b[0;34m\u001b[0m\u001b[0m\n\u001b[0m",
      "\u001b[0;32m/opt/conda/lib/python3.7/site-packages/mpl_toolkits/basemap/__init__.py\u001b[0m in \u001b[0;36m<module>\u001b[0;34m\u001b[0m\n\u001b[1;32m    153\u001b[0m \u001b[0;34m\u001b[0m\u001b[0m\n\u001b[1;32m    154\u001b[0m \u001b[0;31m# create dictionary that maps epsg codes to Basemap kwargs.\u001b[0m\u001b[0;34m\u001b[0m\u001b[0;34m\u001b[0m\u001b[0;34m\u001b[0m\u001b[0m\n\u001b[0;32m--> 155\u001b[0;31m \u001b[0mpyproj_datadir\u001b[0m \u001b[0;34m=\u001b[0m \u001b[0mos\u001b[0m\u001b[0;34m.\u001b[0m\u001b[0menviron\u001b[0m\u001b[0;34m[\u001b[0m\u001b[0;34m'PROJ_LIB'\u001b[0m\u001b[0;34m]\u001b[0m\u001b[0;34m\u001b[0m\u001b[0;34m\u001b[0m\u001b[0m\n\u001b[0m\u001b[1;32m    156\u001b[0m \u001b[0mepsgf\u001b[0m \u001b[0;34m=\u001b[0m \u001b[0mopen\u001b[0m\u001b[0;34m(\u001b[0m\u001b[0mos\u001b[0m\u001b[0;34m.\u001b[0m\u001b[0mpath\u001b[0m\u001b[0;34m.\u001b[0m\u001b[0mjoin\u001b[0m\u001b[0;34m(\u001b[0m\u001b[0mpyproj_datadir\u001b[0m\u001b[0;34m,\u001b[0m\u001b[0;34m'epsg'\u001b[0m\u001b[0;34m)\u001b[0m\u001b[0;34m)\u001b[0m\u001b[0;34m\u001b[0m\u001b[0;34m\u001b[0m\u001b[0m\n\u001b[1;32m    157\u001b[0m \u001b[0mepsg_dict\u001b[0m\u001b[0;34m=\u001b[0m\u001b[0;34m{\u001b[0m\u001b[0;34m}\u001b[0m\u001b[0;34m\u001b[0m\u001b[0;34m\u001b[0m\u001b[0m\n",
      "\u001b[0;32m/opt/conda/lib/python3.7/os.py\u001b[0m in \u001b[0;36m__getitem__\u001b[0;34m(self, key)\u001b[0m\n\u001b[1;32m    676\u001b[0m         \u001b[0;32mexcept\u001b[0m \u001b[0mKeyError\u001b[0m\u001b[0;34m:\u001b[0m\u001b[0;34m\u001b[0m\u001b[0;34m\u001b[0m\u001b[0m\n\u001b[1;32m    677\u001b[0m             \u001b[0;31m# raise KeyError with the original key value\u001b[0m\u001b[0;34m\u001b[0m\u001b[0;34m\u001b[0m\u001b[0;34m\u001b[0m\u001b[0m\n\u001b[0;32m--> 678\u001b[0;31m             \u001b[0;32mraise\u001b[0m \u001b[0mKeyError\u001b[0m\u001b[0;34m(\u001b[0m\u001b[0mkey\u001b[0m\u001b[0;34m)\u001b[0m \u001b[0;32mfrom\u001b[0m \u001b[0;32mNone\u001b[0m\u001b[0;34m\u001b[0m\u001b[0;34m\u001b[0m\u001b[0m\n\u001b[0m\u001b[1;32m    679\u001b[0m         \u001b[0;32mreturn\u001b[0m \u001b[0mself\u001b[0m\u001b[0;34m.\u001b[0m\u001b[0mdecodevalue\u001b[0m\u001b[0;34m(\u001b[0m\u001b[0mvalue\u001b[0m\u001b[0;34m)\u001b[0m\u001b[0;34m\u001b[0m\u001b[0;34m\u001b[0m\u001b[0m\n\u001b[1;32m    680\u001b[0m \u001b[0;34m\u001b[0m\u001b[0m\n",
      "\u001b[0;31mKeyError\u001b[0m: 'PROJ_LIB'"
     ]
    }
   ],
   "source": [
    "from mpl_toolkits.basemap import Basemap, addcyclic, shiftgrid"
   ]
  },
  {
   "cell_type": "code",
   "execution_count": null,
   "metadata": {},
   "outputs": [],
   "source": [
    "dpath = '/opt/skipjack-bigeye-separation/data/'"
   ]
  },
  {
   "cell_type": "markdown",
   "metadata": {},
   "source": [
    "# Load monthly 5 by 5 degree WCPFC catch and effort data"
   ]
  },
  {
   "cell_type": "markdown",
   "metadata": {},
   "source": [
    "Variables loaded are:  \n",
    "lon, lat, time,\n",
    "skj_c_una, skj_c_log, skj_c_dfad, skj_c_afad, skj_c_oth,  \n",
    "bet_c_una, bet_c_log, bet_c_dfad, bet_c_afad, bet_c_oth,  \n",
    "sets_una, sets_log, sets_dfad, sets_afad, sets_oth"
   ]
  },
  {
   "cell_type": "code",
   "execution_count": null,
   "metadata": {},
   "outputs": [],
   "source": [
    "ncfile = dpath + 'WCPFC/5by5deg/ByMonth/PurseSeine_0/WCPFC_purseseine_bysettype_monthly_5deg.nc'\n",
    "fh = nc.Dataset(ncfile, mode='r') # fh = file handle"
   ]
  },
  {
   "cell_type": "code",
   "execution_count": null,
   "metadata": {},
   "outputs": [],
   "source": [
    "lon = fh.variables['lon'][:]\n",
    "lat = fh.variables['lat'][:]\n",
    "time = fh.variables['time'][:] # monthly data starts jan-1967"
   ]
  },
  {
   "cell_type": "code",
   "execution_count": null,
   "metadata": {},
   "outputs": [],
   "source": [
    "# - Dimensions of following variables are time, y, x\n",
    "skj_c_una = fh.variables['skj_c_una'][:];\n",
    "skj_c_log = fh.variables['skj_c_log'][:];\n",
    "skj_c_dfad = fh.variables['skj_c_dfad'][:];\n",
    "skj_c_afad = fh.variables['skj_c_afad'][:];\n",
    "skj_c_oth = fh.variables['skj_c_oth'][:];\n",
    "\n",
    "bet_c_una = fh.variables['bet_c_una'][:];\n",
    "bet_c_log = fh.variables['bet_c_log'][:];\n",
    "bet_c_dfad = fh.variables['bet_c_dfad'][:];\n",
    "bet_c_afad = fh.variables['bet_c_afad'][:];\n",
    "bet_c_oth = fh.variables['bet_c_oth'][:];\n",
    "\n",
    "sets_una = fh.variables['sets_una'][:];\n",
    "sets_log = fh.variables['sets_log'][:];\n",
    "sets_dfad = fh.variables['sets_dfad'][:];\n",
    "sets_afad = fh.variables['sets_afad'][:];\n",
    "sets_oth = fh.variables['sets_oth'][:];"
   ]
  },
  {
   "cell_type": "code",
   "execution_count": null,
   "metadata": {},
   "outputs": [],
   "source": [
    "fh.close()"
   ]
  },
  {
   "cell_type": "code",
   "execution_count": null,
   "metadata": {},
   "outputs": [],
   "source": [
    "# - Check that everything looks as expected\n",
    "print(lon)\n",
    "print(type(lon))\n",
    "print(lat)\n",
    "print(time.shape)\n",
    "print(np.shape(skj_c_una))"
   ]
  },
  {
   "cell_type": "markdown",
   "metadata": {},
   "source": [
    "# Define beginning and end dates for catch data"
   ]
  },
  {
   "cell_type": "markdown",
   "metadata": {},
   "source": [
    "Variables created are:  \n",
    "begdate, enddate, timemocatch"
   ]
  },
  {
   "cell_type": "code",
   "execution_count": null,
   "metadata": {},
   "outputs": [],
   "source": [
    "# - Time goes from Jan 1967 - Dec 2017 --> 612 months\n",
    "begdate = datetime.date(year = 1967, month = 1, day = 1)\n",
    "enddate = datetime.date(year = 2017, month = 12, day = 1)\n",
    "timemocatch = pd.date_range(begdate, enddate, freq='MS')\n",
    "#np.array(timemocatch)"
   ]
  },
  {
   "cell_type": "markdown",
   "metadata": {},
   "source": [
    "# Load monthly ENSO time series"
   ]
  },
  {
   "cell_type": "markdown",
   "metadata": {},
   "source": [
    "Variables loaded/calculated are:  \n",
    "oni, onien, oniln, onitime"
   ]
  },
  {
   "cell_type": "code",
   "execution_count": null,
   "metadata": {},
   "outputs": [],
   "source": [
    "# - Load ONI \n",
    "dfoni = pd.read_csv(dpath+'ENSOindices/oni/oniindex1950_2018.txt',names=['Date','ONI']);\n",
    "#dfoni.head(2)\n",
    "\n",
    "# - Month fractions corresp to jan, feb, mar, etc. in the ONI txt file\n",
    "monthfracs = [0,0.0834,0.1666,0.25,0.3334,0.4166,0.5,0.5834,0.6666,0.75,0.8334,0.9166];\n",
    "\n",
    "# - Get ONI ts over desired timeframe\n",
    "onibegmoidx = dfoni.index[dfoni['Date'] == (begdate.year + monthfracs[begdate.month-1])][0]\n",
    "oniendmoidx = dfoni.index[dfoni['Date'] == (enddate.year + monthfracs[enddate.month-1])][0]\n",
    "oni = dfoni['ONI'].iloc[onibegmoidx:(oniendmoidx+1)].values\n",
    "onitime = pd.date_range(begdate, enddate, freq='MS') # should be 612 months long"
   ]
  },
  {
   "cell_type": "code",
   "execution_count": null,
   "metadata": {},
   "outputs": [],
   "source": [
    "# - Create EN/LN month classifications\n",
    "onien = [0]*len(oni) # 1 = el nino month\n",
    "oniln = [0]*len(oni) # 1 = la nina month\n",
    "\n",
    "# - Classify El Nino months\n",
    "cmcounter = 0; # consecutive months counter\n",
    "for imonth in range(len(oni)):\n",
    "    if oni[imonth]>=0.5:\n",
    "        cmcounter=cmcounter+1;\n",
    "    elif oni[imonth]<0.5:\n",
    "        cmcounter=0;\n",
    "    if cmcounter>=5:\n",
    "        onien[imonth-cmcounter:imonth]=[1]*cmcounter;\n",
    "\n",
    "# - Classify La Nina months\n",
    "cmcounter = 0; # consecutive months counter\n",
    "for imonth in range(len(oni)):\n",
    "    if oni[imonth]<=-0.5:\n",
    "        cmcounter=cmcounter+1;\n",
    "    elif oni[imonth]>-0.5:\n",
    "        cmcounter=0;\n",
    "    if cmcounter>=5:\n",
    "        oniln[imonth-cmcounter:imonth]=[1]*cmcounter;"
   ]
  },
  {
   "cell_type": "code",
   "execution_count": null,
   "metadata": {},
   "outputs": [],
   "source": [
    "type(oni)"
   ]
  },
  {
   "cell_type": "code",
   "execution_count": null,
   "metadata": {},
   "outputs": [],
   "source": [
    "plotensoidx=1\n",
    "\n",
    "if plotensoidx==1:\n",
    "    fig = plt.figure(figsize=(11,4))\n",
    "    plt.plot(onitime,oni)\n",
    "    plt.plot(onitime,onien)\n",
    "    plt.plot(onitime,oniln)\n",
    "    plt.legend([\"oni\",\"onien\",\"oniln\"])"
   ]
  },
  {
   "cell_type": "markdown",
   "metadata": {},
   "source": [
    "# Calculate WCPFC total catch, CPUE, effot, bet:skj catch ratio, bet:skj CPUE ratio"
   ]
  },
  {
   "cell_type": "markdown",
   "metadata": {},
   "source": [
    "Variables calced are:  \n",
    "skj_c_tot, bet_c_tot, sets_tot, skj_cp_tot, bet_cp_tot, bettoskj_c_tot, bettoskj_cp_tot"
   ]
  },
  {
   "cell_type": "code",
   "execution_count": 5,
   "metadata": {},
   "outputs": [
    {
     "ename": "NameError",
     "evalue": "name 'skj_c_una' is not defined",
     "output_type": "error",
     "traceback": [
      "\u001b[0;31m---------------------------------------------------------------------------\u001b[0m",
      "\u001b[0;31mNameError\u001b[0m                                 Traceback (most recent call last)",
      "\u001b[0;32m<ipython-input-5-352cf34145c3>\u001b[0m in \u001b[0;36m<module>\u001b[0;34m\u001b[0m\n\u001b[0;32m----> 1\u001b[0;31m \u001b[0mskj_c_tot\u001b[0m \u001b[0;34m=\u001b[0m \u001b[0mskj_c_una\u001b[0m \u001b[0;34m+\u001b[0m \u001b[0mskj_c_log\u001b[0m \u001b[0;34m+\u001b[0m \u001b[0mskj_c_dfad\u001b[0m \u001b[0;34m+\u001b[0m \u001b[0mskj_c_afad\u001b[0m \u001b[0;34m+\u001b[0m \u001b[0mskj_c_oth\u001b[0m\u001b[0;34m\u001b[0m\u001b[0;34m\u001b[0m\u001b[0m\n\u001b[0m\u001b[1;32m      2\u001b[0m \u001b[0mbet_c_tot\u001b[0m \u001b[0;34m=\u001b[0m \u001b[0mbet_c_una\u001b[0m \u001b[0;34m+\u001b[0m \u001b[0mbet_c_log\u001b[0m \u001b[0;34m+\u001b[0m \u001b[0mbet_c_dfad\u001b[0m \u001b[0;34m+\u001b[0m \u001b[0mbet_c_afad\u001b[0m \u001b[0;34m+\u001b[0m \u001b[0mbet_c_oth\u001b[0m\u001b[0;34m\u001b[0m\u001b[0;34m\u001b[0m\u001b[0m\n\u001b[1;32m      3\u001b[0m \u001b[0msets_tot\u001b[0m \u001b[0;34m=\u001b[0m \u001b[0msets_una\u001b[0m \u001b[0;34m+\u001b[0m \u001b[0msets_log\u001b[0m \u001b[0;34m+\u001b[0m \u001b[0msets_dfad\u001b[0m \u001b[0;34m+\u001b[0m \u001b[0msets_afad\u001b[0m \u001b[0;34m+\u001b[0m \u001b[0msets_oth\u001b[0m\u001b[0;34m\u001b[0m\u001b[0;34m\u001b[0m\u001b[0m\n\u001b[1;32m      4\u001b[0m \u001b[0mskj_cp_tot\u001b[0m \u001b[0;34m=\u001b[0m \u001b[0mskj_c_tot\u001b[0m\u001b[0;34m/\u001b[0m\u001b[0msets_tot\u001b[0m\u001b[0;34m\u001b[0m\u001b[0;34m\u001b[0m\u001b[0m\n\u001b[1;32m      5\u001b[0m \u001b[0mbet_cp_tot\u001b[0m \u001b[0;34m=\u001b[0m \u001b[0mbet_c_tot\u001b[0m\u001b[0;34m/\u001b[0m\u001b[0msets_tot\u001b[0m\u001b[0;34m\u001b[0m\u001b[0;34m\u001b[0m\u001b[0m\n",
      "\u001b[0;31mNameError\u001b[0m: name 'skj_c_una' is not defined"
     ]
    }
   ],
   "source": [
    "skj_c_tot = skj_c_una + skj_c_log + skj_c_dfad + skj_c_afad + skj_c_oth\n",
    "bet_c_tot = bet_c_una + bet_c_log + bet_c_dfad + bet_c_afad + bet_c_oth\n",
    "sets_tot = sets_una + sets_log + sets_dfad + sets_afad + sets_oth\n",
    "skj_cp_tot = skj_c_tot/sets_tot\n",
    "bet_cp_tot = bet_c_tot/sets_tot\n",
    "bettoskj_c_tot = bet_c_tot/skj_c_tot\n",
    "bettoskj_cp_tot = bet_c_tot/skj_cp_tot"
   ]
  },
  {
   "cell_type": "markdown",
   "metadata": {},
   "source": [
    "# Calculate mean and ENSO composites of total catch, CPUE, effort bet:skj catch and CPUE"
   ]
  },
  {
   "cell_type": "code",
   "execution_count": 6,
   "metadata": {},
   "outputs": [
    {
     "ename": "NameError",
     "evalue": "name 'skj_c_tot' is not defined",
     "output_type": "error",
     "traceback": [
      "\u001b[0;31m---------------------------------------------------------------------------\u001b[0m",
      "\u001b[0;31mNameError\u001b[0m                                 Traceback (most recent call last)",
      "\u001b[0;32m<ipython-input-6-7e79849f34f7>\u001b[0m in \u001b[0;36m<module>\u001b[0;34m\u001b[0m\n\u001b[0;32m----> 1\u001b[0;31m \u001b[0mskj_c_tot_mean\u001b[0m \u001b[0;34m=\u001b[0m \u001b[0mnp\u001b[0m\u001b[0;34m.\u001b[0m\u001b[0mmean\u001b[0m\u001b[0;34m(\u001b[0m\u001b[0mskj_c_tot\u001b[0m\u001b[0;34m,\u001b[0m\u001b[0maxis\u001b[0m\u001b[0;34m=\u001b[0m\u001b[0;36m0\u001b[0m\u001b[0;34m)\u001b[0m\u001b[0;34m\u001b[0m\u001b[0;34m\u001b[0m\u001b[0m\n\u001b[0m\u001b[1;32m      2\u001b[0m \u001b[0mskj_c_tot_en\u001b[0m \u001b[0;34m=\u001b[0m \u001b[0mnp\u001b[0m\u001b[0;34m.\u001b[0m\u001b[0mmean\u001b[0m\u001b[0;34m(\u001b[0m\u001b[0mnp\u001b[0m\u001b[0;34m.\u001b[0m\u001b[0msqueeze\u001b[0m\u001b[0;34m(\u001b[0m\u001b[0mskj_c_tot\u001b[0m\u001b[0;34m[\u001b[0m\u001b[0mnp\u001b[0m\u001b[0;34m.\u001b[0m\u001b[0mwhere\u001b[0m\u001b[0;34m(\u001b[0m\u001b[0monien\u001b[0m\u001b[0;34m)\u001b[0m\u001b[0;34m,\u001b[0m\u001b[0;34m:\u001b[0m\u001b[0;34m,\u001b[0m\u001b[0;34m:\u001b[0m\u001b[0;34m]\u001b[0m\u001b[0;34m)\u001b[0m\u001b[0;34m,\u001b[0m\u001b[0maxis\u001b[0m\u001b[0;34m=\u001b[0m\u001b[0;36m0\u001b[0m\u001b[0;34m)\u001b[0m\u001b[0;34m\u001b[0m\u001b[0;34m\u001b[0m\u001b[0m\n\u001b[1;32m      3\u001b[0m \u001b[0mskj_c_tot_ln\u001b[0m \u001b[0;34m=\u001b[0m \u001b[0mnp\u001b[0m\u001b[0;34m.\u001b[0m\u001b[0mmean\u001b[0m\u001b[0;34m(\u001b[0m\u001b[0mnp\u001b[0m\u001b[0;34m.\u001b[0m\u001b[0msqueeze\u001b[0m\u001b[0;34m(\u001b[0m\u001b[0mskj_c_tot\u001b[0m\u001b[0;34m[\u001b[0m\u001b[0mnp\u001b[0m\u001b[0;34m.\u001b[0m\u001b[0mwhere\u001b[0m\u001b[0;34m(\u001b[0m\u001b[0moniln\u001b[0m\u001b[0;34m)\u001b[0m\u001b[0;34m,\u001b[0m\u001b[0;34m:\u001b[0m\u001b[0;34m,\u001b[0m\u001b[0;34m:\u001b[0m\u001b[0;34m]\u001b[0m\u001b[0;34m)\u001b[0m\u001b[0;34m,\u001b[0m\u001b[0maxis\u001b[0m\u001b[0;34m=\u001b[0m\u001b[0;36m0\u001b[0m\u001b[0;34m)\u001b[0m\u001b[0;34m\u001b[0m\u001b[0;34m\u001b[0m\u001b[0m\n\u001b[1;32m      4\u001b[0m \u001b[0;34m\u001b[0m\u001b[0m\n\u001b[1;32m      5\u001b[0m \u001b[0mbet_c_tot_mean\u001b[0m \u001b[0;34m=\u001b[0m \u001b[0mnp\u001b[0m\u001b[0;34m.\u001b[0m\u001b[0mmean\u001b[0m\u001b[0;34m(\u001b[0m\u001b[0mbet_c_tot\u001b[0m\u001b[0;34m,\u001b[0m\u001b[0maxis\u001b[0m\u001b[0;34m=\u001b[0m\u001b[0;36m0\u001b[0m\u001b[0;34m)\u001b[0m\u001b[0;34m\u001b[0m\u001b[0;34m\u001b[0m\u001b[0m\n",
      "\u001b[0;31mNameError\u001b[0m: name 'skj_c_tot' is not defined"
     ]
    }
   ],
   "source": [
    "skj_c_tot_mean = np.mean(skj_c_tot,axis=0)\n",
    "skj_c_tot_en = np.mean(np.squeeze(skj_c_tot[np.where(onien),:,:]),axis=0)\n",
    "skj_c_tot_ln = np.mean(np.squeeze(skj_c_tot[np.where(oniln),:,:]),axis=0)\n",
    "\n",
    "bet_c_tot_mean = np.mean(bet_c_tot,axis=0)\n",
    "bet_c_tot_en = np.mean(np.squeeze(bet_c_tot[np.where(onien),:,:]),axis=0)\n",
    "bet_c_tot_ln = np.mean(np.squeeze(bet_c_tot[np.where(oniln),:,:]),axis=0)\n",
    "\n",
    "skj_cp_tot_mean = np.mean(skj_cp_tot,axis=0)\n",
    "skj_cp_tot_en = np.mean(np.squeeze(skj_cp_tot[np.where(onien),:,:]),axis=0)\n",
    "skj_cp_tot_ln = np.mean(np.squeeze(skj_cp_tot[np.where(oniln),:,:]),axis=0)\n",
    "\n",
    "bet_cp_tot_mean = np.mean(bet_cp_tot,axis=0)\n",
    "bet_cp_tot_en = np.mean(np.squeeze(bet_cp_tot[np.where(onien),:,:]),axis=0)\n",
    "bet_cp_tot_ln = np.mean(np.squeeze(bet_cp_tot[np.where(oniln),:,:]),axis=0)\n",
    "\n",
    "sets_tot_mean = np.mean(sets_tot,axis=0)\n",
    "sets_tot_en = np.mean(np.squeeze(sets_tot[np.where(onien),:,:]),axis=0)\n",
    "sets_tot_ln = np.mean(np.squeeze(sets_tot[np.where(oniln),:,:]),axis=0)\n",
    "\n",
    "bettoskj_c_tot_mean = np.mean(bettoskj_c_tot,axis=0)\n",
    "bettoskj_c_tot_en = np.mean(np.squeeze(bettoskj_c_tot[np.where(onien),:,:]),axis=0)\n",
    "bettoskj_c_tot_ln = np.mean(np.squeeze(bettoskj_c_tot[np.where(oniln),:,:]),axis=0)"
   ]
  },
  {
   "cell_type": "code",
   "execution_count": null,
   "metadata": {},
   "outputs": [],
   "source": []
  }
 ],
 "metadata": {
  "kernelspec": {
   "display_name": "Python 3",
   "language": "python",
   "name": "python3"
  },
  "language_info": {
   "codemirror_mode": {
    "name": "ipython",
    "version": 3
   },
   "file_extension": ".py",
   "mimetype": "text/x-python",
   "name": "python",
   "nbconvert_exporter": "python",
   "pygments_lexer": "ipython3",
   "version": "3.7.3"
  }
 },
 "nbformat": 4,
 "nbformat_minor": 4
}
