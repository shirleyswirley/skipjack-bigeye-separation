{
 "cells": [
  {
   "cell_type": "code",
   "execution_count": null,
   "metadata": {},
   "outputs": [],
   "source": [
    "# - Define plot params\n",
    "unitsnow = '[metric tons/set]'\n",
    "cmapnow = plt.cm.get_cmap('viridis',11)\n",
    "\n",
    "eezfcnow = 'none'\n",
    "eezlcnow = 'silver'\n",
    "eezlsnow = '-'\n",
    "eezlwnow = 1.5"
   ]
  },
  {
   "cell_type": "code",
   "execution_count": null,
   "metadata": {},
   "outputs": [],
   "source": [
    "# - Set proj and define axes\n",
    "fig,axes = plt.subplots(nrows=4, ncols=1, figsize=(8,13),\n",
    "    subplot_kw={'projection': ccrs.PlateCarree(central_longitude=200)})\n",
    "\n",
    "# - Make maps pretty\n",
    "for _, ax in enumerate(fig.axes):\n",
    "    exec(open('helper_scripts/create_map_bgs.py').read())\n",
    "\n",
    "skj_cp_tot_mean.plot(\n",
    "    ax=axes[0], transform=ccrs.PlateCarree(),\n",
    "    cmap=cmapnow, #vmin=0, vmax=60,\n",
    "    cbar_kwargs={'pad': 0.02, 'label': unitsnow})\n",
    "axes[0].set_xlabel(''); axes[0].set_ylabel('')\n",
    "axes[0].set_title('Mean skipjack (SKJ) CPUE')\n",
    "ax = axes[0]\n",
    "#nueezs.plot(\n",
    "#    ax=axes[0], transform=ccrs.PlateCarree(),\n",
    "#    color=eezfcnow, edgecolor=eezlcnow,\n",
    "#    linewidth=eezlwnow, linestyle=eezlsnow)\n",
    "\n",
    "bet_cp_tot_mean.plot(\n",
    "    ax=axes[1], transform=ccrs.PlateCarree(),\n",
    "    cmap=cmapnow, #vmin=0, vmax=15,\n",
    "    cbar_kwargs={'pad': 0.02, 'label': unitsnow})\n",
    "axes[1].set_xlabel(''); axes[1].set_ylabel('')\n",
    "axes[1].set_title('Mean bigeye (BET) CPUE')\n",
    "\n",
    "bettoskj_cp_tot_mean.plot(\n",
    "    ax=axes[2], transform=ccrs.PlateCarree(),\n",
    "    cmap=cmapnow, #vmin=0, vmax=0.32,\n",
    "    cbar_kwargs={'pad': 0.02, 'label': ''})\n",
    "axes[2].set_xlabel(''); axes[2].set_ylabel('')\n",
    "axes[2].set_title('BET:SKJ CPUE')\n",
    "\n",
    "bettoskj_cp_tot_mean.plot(\n",
    "    ax=axes[3], transform=ccrs.PlateCarree(),\n",
    "    cmap=cmapnow, #vmin=0, vmax=0.32,\n",
    "    cbar_kwargs={'pad': 0.02, 'label': ''})\n",
    "axes[3].set_xlabel(''); axes[3].set_ylabel('')\n",
    "axes[3].set_title('BET:SKJ CPUE')\n",
    "\n",
    "fig.savefig(figpath + 'mainfig2_means.png',\n",
    "            bbox_inches='tight', pad_inches = 0, dpi = 200)"
   ]
  }
 ],
 "metadata": {
  "kernelspec": {
   "display_name": "Python 3",
   "language": "python",
   "name": "python3"
  },
  "language_info": {
   "codemirror_mode": {
    "name": "ipython",
    "version": 3
   },
   "file_extension": ".py",
   "mimetype": "text/x-python",
   "name": "python",
   "nbconvert_exporter": "python",
   "pygments_lexer": "ipython3",
   "version": "3.7.3"
  }
 },
 "nbformat": 4,
 "nbformat_minor": 4
}
