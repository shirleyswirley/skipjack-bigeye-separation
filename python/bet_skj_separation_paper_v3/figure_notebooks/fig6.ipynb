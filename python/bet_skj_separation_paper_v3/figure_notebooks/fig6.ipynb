{
 "cells": [
  {
   "cell_type": "markdown",
   "metadata": {},
   "source": [
    "# Group seasonal values over EEZs"
   ]
  },
  {
   "cell_type": "code",
   "execution_count": 86,
   "metadata": {},
   "outputs": [],
   "source": [
    "nueezsnow = ['Palau','Micronesia','Papua New Guinea','Solomon Islands','Nauru','Marshall Islands',\n",
    "          'Kiribati (Gilbert Islands)','Tuvalu','Kiribati (Phoenix Islands)','Kiribati (Line Islands)'];\n",
    "nueezsnow_abbrev = ['PLW','FSM','PNG','SLB','NRU','MHL','KIR-G','TUV','KIR-P','KIR-L']\n",
    "alphafdr = 0.1\n",
    "\n",
    "skj_cp_tot_win_nueezs, skj_cp_tot_spr_nueezs, skj_cp_tot_sum_nueezs, \\\n",
    "    skj_cp_tot_aut_nueezs, skj_cp_tot_seaskwpv_nueezs = \\\n",
    "    get_seas_eezmask_seaskwpval(skj_cp_tot, nueezsnow, nueezmask, df_nuenn)\n",
    "skj_cp_tot_seaskwptf_nueezs = controlfdr1d(skj_cp_tot_seaskwpv_nueezs, alphafdr)\n",
    "skj_cp_tot_seaskwsignifidxs_nueezs = np.where(\n",
    "    skj_cp_tot_seaskwpv_nueezs<skj_cp_tot_seaskwptf_nueezs)[0]\n",
    "\n",
    "bet_cp_tot_win_nueezs, bet_cp_tot_spr_nueezs, bet_cp_tot_sum_nueezs, \\\n",
    "    bet_cp_tot_aut_nueezs, bet_cp_tot_seaskwpv_nueezs = \\\n",
    "    get_seas_eezmask_seaskwpval(bet_cp_tot, nueezsnow, nueezmask, df_nuenn)\n",
    "bet_cp_tot_seaskwptf_nueezs = controlfdr1d(bet_cp_tot_seaskwpv_nueezs, alphafdr)\n",
    "bet_cp_tot_seaskwsignifidxs_nueezs = np.where(\n",
    "    bet_cp_tot_seaskwpv_nueezs<bet_cp_tot_seaskwptf_nueezs)[0]\n",
    "\n",
    "bettoskj_cp_tot_win_nueezs, bettoskj_cp_tot_spr_nueezs, bettoskj_cp_tot_sum_nueezs, \\\n",
    "    bettoskj_cp_tot_aut_nueezs, bettoskj_cp_tot_seaskwpv_nueezs = \\\n",
    "    get_seas_eezmask_seaskwpval(bettoskj_cp_tot, nueezsnow, nueezmask, df_nuenn)\n",
    "bettoskj_cp_tot_seaskwptf_nueezs = controlfdr1d(bettoskj_cp_tot_seaskwpv_nueezs, alphafdr)\n",
    "bettoskj_cp_tot_seaskwsignifidxs_nueezs = np.where(\n",
    "    bettoskj_cp_tot_seaskwpv_nueezs<bettoskj_cp_tot_seaskwptf_nueezs)[0]\n",
    "\n",
    "skjmbet_cp_tot = skj_cp_tot - bet_cp_tot\n",
    "skjmbet_cp_tot_win_nueezs, skjmbet_cp_tot_spr_nueezs, skjmbet_cp_tot_sum_nueezs, \\\n",
    "    skjmbet_cp_tot_aut_nueezs, skjmbet_cp_tot_seaskwpv_nueezs = \\\n",
    "    get_seas_eezmask_seaskwpval(skjmbet_cp_tot, nueezsnow, nueezmask, df_nuenn)\n",
    "skjmbet_cp_tot_seaskwptf_nueezs = controlfdr1d(skjmbet_cp_tot_seaskwpv_nueezs, alphafdr)\n",
    "skjmbet_cp_tot_seaskwsignifidxs_nueezs = np.where(\n",
    "    skjmbet_cp_tot_seaskwpv_nueezs<skjmbet_cp_tot_seaskwptf_nueezs)[0]"
   ]
  },
  {
   "cell_type": "markdown",
   "metadata": {},
   "source": [
    "# Boxplot seasonal values over EEZs"
   ]
  },
  {
   "cell_type": "code",
   "execution_count": null,
   "metadata": {},
   "outputs": [],
   "source": [
    "ticks = nueezsnow_abbrev\n",
    "fig,axes=plt.subplots(nrows=3,ncols=1,figsize=(6,10))\n",
    "#fig = plt.figure(figsize=(6,10))\n",
    "#ax1 = plt.subplot2grid((12, 1), (0, 0), rowspan=4, colspan=1)\n",
    "#ax2 = plt.subplot2grid((12, 1), (4, 0), rowspan=1, colspan=1)\n",
    "#ax3 = plt.subplot2grid((12, 1), (5, 0), rowspan=3, colspan=1)\n",
    "#ax4 = plt.subplot2grid((12, 1), (8, 0), rowspan=4, colspan=1)\n",
    "\n",
    "# - SKJ CPUE\n",
    "axnow = axes[0]\n",
    "titlenow = 'SKJ CPUE within PNA EEZs'\n",
    "unitsnow = 'CPUE [metric tons/set]'\n",
    "winnow = skj_cp_tot_win_nueezs\n",
    "sprnow = skj_cp_tot_spr_nueezs; sprnow[9]=[] # b/c only 2 values\n",
    "sumnow = skj_cp_tot_sum_nueezs\n",
    "autnow = skj_cp_tot_aut_nueezs\n",
    "plotlegend=1; setylimnow=1; yminnow, ymaxnow = -3.85, 66  \n",
    "plotsignif=1; signifidxsnow = skj_cp_tot_seaskwsignifidxs_nueezs \n",
    "exec(open('helper_scripts/seas_boxplots.py').read())\n",
    "print('SKJ CPUE boxplot # of months in obs:')\n",
    "for ieez in range(0,len(winnow)):\n",
    "    print(nueezsnow_abbrev[ieez], len(winnow[ieez]),\n",
    "          len(sprnow[ieez]), len(sumnow[ieez]), len(autnow[ieez]))\n",
    "\n",
    "# - BET CPUE\n",
    "axnow = axes[1]\n",
    "titlenow = 'BET CPUE within PNA EEZs'\n",
    "unitsnow = 'CPUE [metric tons/set]'\n",
    "winnow = bet_cp_tot_win_nueezs\n",
    "sprnow = bet_cp_tot_spr_nueezs; sprnow[9]=[] # b/c only 2 values\n",
    "sumnow = bet_cp_tot_sum_nueezs\n",
    "autnow = bet_cp_tot_aut_nueezs\n",
    "plotlegend=0; setylimnow=1; yminnow, ymaxnow = -0.5, 8.6 \n",
    "plotsignif=1; signifidxsnow = bet_cp_tot_seaskwsignifidxs_nueezs \n",
    "exec(open('helper_scripts/seas_boxplots.py').read())\n",
    "print('BET CPUE boxplot # of months in obs:')\n",
    "for ieez in range(0,len(winnow)):\n",
    "    print(nueezsnow_abbrev[ieez], len(winnow[ieez]),\n",
    "          len(sprnow[ieez]), len(sumnow[ieez]), len(autnow[ieez]))\n",
    "    \n",
    "# - BET:SKJ CPUE\n",
    "axnow = axes[2]\n",
    "titlenow = 'BET:SKJ CPUE within PNA EEZs'\n",
    "unitsnow = ''\n",
    "winnow = bettoskj_cp_tot_win_nueezs\n",
    "sprnow = bettoskj_cp_tot_spr_nueezs; sprnow[9]=[] # b/c only 2 values\n",
    "sumnow = bettoskj_cp_tot_sum_nueezs\n",
    "autnow = bettoskj_cp_tot_aut_nueezs\n",
    "plotlegend=0; setylimnow=1; yminnow, ymaxnow = -0.017, 0.3\n",
    "plotsignif=1; signifidxsnow = bettoskj_cp_tot_seaskwsignifidxs_nueezs \n",
    "exec(open('helper_scripts/seas_boxplots.py').read())\n",
    "print('BET:SKJ CPUE boxplot # of months in obs:')\n",
    "for ieez in range(0,len(winnow)):\n",
    "    print(nueezsnow_abbrev[ieez], len(winnow[ieez]),\n",
    "          len(sprnow[ieez]), len(sumnow[ieez]), len(autnow[ieez]))\n",
    "\n",
    "fig.savefig(figpath + 'mainfig6_bscpue_seasonsboxplot.png',\n",
    "            bbox_inches='tight', pad_inches = 0, dpi = 200)"
   ]
  }
 ],
 "metadata": {
  "kernelspec": {
   "display_name": "Python 3",
   "language": "python",
   "name": "python3"
  },
  "language_info": {
   "codemirror_mode": {
    "name": "ipython",
    "version": 3
   },
   "file_extension": ".py",
   "mimetype": "text/x-python",
   "name": "python",
   "nbconvert_exporter": "python",
   "pygments_lexer": "ipython3",
   "version": "3.7.3"
  }
 },
 "nbformat": 4,
 "nbformat_minor": 4
}
