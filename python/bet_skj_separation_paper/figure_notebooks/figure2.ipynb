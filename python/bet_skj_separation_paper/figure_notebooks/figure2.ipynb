{
 "cells": [
  {
   "cell_type": "code",
   "execution_count": null,
   "metadata": {},
   "outputs": [],
   "source": [
    "# - Set proj and define axes\n",
    "fig,axes = plt.subplots(nrows=1, ncols=3,figsize=(16,3),\n",
    "    subplot_kw={'projection': ccrs.PlateCarree(central_longitude=200)})\n",
    "\n",
    "# - Make maps pretty\n",
    "for ax in axes:\n",
    "    exec(open('helper_scripts/create_map_bgs.py').read())\n",
    "\n",
    "# - Plot\n",
    "unitsnow = '[metric tons/set]'\n",
    "\n",
    "skj_cp_tot_mean.plot(ax=axes[0], transform=ccrs.PlateCarree(),\n",
    "                     cmap=cm.viridis,\n",
    "                     cbar_kwargs={'pad': 0.02, 'label': unitsnow});\n",
    "axes[0].set_xlabel(''); axes[0].set_ylabel('');\n",
    "axes[0].set_title('Mean SKJ CPUE')\n",
    "\n",
    "bet_cp_tot_mean.plot(ax=axes[1], transform=ccrs.PlateCarree(),\n",
    "                     cmap=cm.viridis,\n",
    "                     cbar_kwargs={'pad': 0.02, 'label': unitsnow});\n",
    "axes[1].set_xlabel(''); axes[1].set_ylabel('');\n",
    "axes[1].set_title('Mean BET CPUE')\n",
    "\n",
    "bettoskj_cp_tot_mean.plot(ax=axes[2], transform=ccrs.PlateCarree(),\n",
    "                          cmap=cm.viridis,\n",
    "                          cbar_kwargs={'pad': 0.02, 'label': ''});\n",
    "axes[2].set_xlabel(''); axes[2].set_ylabel('');\n",
    "axes[2].set_title('BET:SKJ CPUE (monthly avg)');\n",
    "\n",
    "fig.savefig(figpath + 'mainfig2_meanbscpue.png', bbox_inches='tight', pad_inches = 0, dpi = 200)"
   ]
  }
 ],
 "metadata": {
  "kernelspec": {
   "display_name": "Python 3",
   "language": "python",
   "name": "python3"
  },
  "language_info": {
   "codemirror_mode": {
    "name": "ipython",
    "version": 3
   },
   "file_extension": ".py",
   "mimetype": "text/x-python",
   "name": "python",
   "nbconvert_exporter": "python",
   "pygments_lexer": "ipython3",
   "version": "3.7.3"
  }
 },
 "nbformat": 4,
 "nbformat_minor": 4
}
