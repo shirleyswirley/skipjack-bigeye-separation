{
 "cells": [
  {
   "cell_type": "markdown",
   "metadata": {},
   "source": [
    "# Compute quotient analyses for SKJ CPUE vs. environmental conditions"
   ]
  },
  {
   "cell_type": "code",
   "execution_count": null,
   "metadata": {},
   "outputs": [],
   "source": [
    "nruns = 399; nbins = 30"
   ]
  },
  {
   "cell_type": "code",
   "execution_count": null,
   "metadata": {},
   "outputs": [],
   "source": [
    "ivfull = sst; dvfull = skj_cp_tot\n",
    "ivname = 'sst'; dvname = 'skj_cp_tot'\n",
    "iv_sstskjcp, binedges_sstskjcp, bincenters_sstskjcp, ivcounts_sstskjcp, \\\n",
    "    dvcounts_sstskjcp, dvquot_sstskjcp, qlimsreplaceT_sstskjcp, qlimsreplaceF_sstskjcp \\\n",
    "    = quotient_analysis_full(ivfull,dvfull,ivname,dvname,nbins,nruns,plothists=0)"
   ]
  },
  {
   "cell_type": "code",
   "execution_count": null,
   "metadata": {},
   "outputs": [],
   "source": [
    "ivfull = temp100; dvfull = skj_cp_tot\n",
    "ivname = 'temp100'; dvname = 'skj_cp_tot'\n",
    "iv_temp100skjcp, binedges_temp100skjcp, bincenters_temp100skjcp, ivcounts_temp100skjcp, \\\n",
    "    dvcounts_temp100skjcp, dvquot_temp100skjcp, qlimsreplaceT_temp100skjcp, qlimsreplaceF_temp100skjcp \\\n",
    "    = quotient_analysis_full(ivfull,dvfull,ivname,dvname,nbins,nruns,plothists=0)"
   ]
  },
  {
   "cell_type": "code",
   "execution_count": null,
   "metadata": {},
   "outputs": [],
   "source": [
    "ivfull = tcd; dvfull = skj_cp_tot\n",
    "ivname = 'tcd'; dvname = 'skj_cp_tot'\n",
    "iv_tcdskjcp, binedges_tcdskjcp, bincenters_tcdskjcp, ivcounts_tcdskjcp, \\\n",
    "    dvcounts_tcdskjcp, dvquot_tcdskjcp, qlimsreplaceT_tcdskjcp, qlimsreplaceF_tcdskjcp \\\n",
    "    = quotient_analysis_full(ivfull,dvfull,ivname,dvname,nbins,nruns,plothists=0)"
   ]
  },
  {
   "cell_type": "code",
   "execution_count": null,
   "metadata": {},
   "outputs": [],
   "source": [
    "ivfull = sss; dvfull = skj_cp_tot\n",
    "ivname = 'sss'; dvname = 'skj_cp_tot'\n",
    "iv_sssskjcp, binedges_sssskjcp, bincenters_sssskjcp, ivcounts_sssskjcp, \\\n",
    "    dvcounts_sssskjcp, dvquot_sssskjcp, qlimsreplaceT_sssskjcp, qlimsreplaceF_sssskjcp \\\n",
    "    = quotient_analysis_full(ivfull,dvfull,ivname,dvname,nbins,nruns,plothists=0)"
   ]
  },
  {
   "cell_type": "code",
   "execution_count": null,
   "metadata": {},
   "outputs": [],
   "source": [
    "ivfull = o2100; dvfull = skj_cp_tot\n",
    "ivname = 'o2100'; dvname = 'skj_cp_tot'\n",
    "iv_o2100skjcp, binedges_o2100skjcp, bincenters_o2100skjcp, ivcounts_o2100skjcp, \\\n",
    "    dvcounts_o2100skjcp, dvquot_o2100skjcp, qlimsreplaceT_o2100skjcp, qlimsreplaceF_o2100skjcp \\\n",
    "    = quotient_analysis_full(ivfull,dvfull,ivname,dvname,nbins,nruns,plothists=0)"
   ]
  },
  {
   "cell_type": "code",
   "execution_count": null,
   "metadata": {},
   "outputs": [],
   "source": [
    "ivfull = po2100; dvfull = skj_cp_tot\n",
    "ivname = 'po2100'; dvname = 'skj_cp_tot'\n",
    "iv_po2100skjcp, binedges_po2100skjcp, bincenters_po2100skjcp, ivcounts_po2100skjcp, \\\n",
    "    dvcounts_po2100skjcp, dvquot_po2100skjcp, qlimsreplaceT_po2100skjcp, qlimsreplaceF_po2100skjcp \\\n",
    "    = quotient_analysis_full(ivfull,dvfull,ivname,dvname,nbins,nruns,plothists=0)"
   ]
  },
  {
   "cell_type": "code",
   "execution_count": null,
   "metadata": {},
   "outputs": [],
   "source": [
    "ivfull = thd; dvfull = skj_cp_tot\n",
    "ivname = 'thd'; dvname = 'skj_cp_tot'\n",
    "iv_thdskjcp, binedges_thdskjcp, bincenters_thdskjcp, ivcounts_thdskjcp, \\\n",
    "    dvcounts_thdskjcp, dvquot_thdskjcp, qlimsreplaceT_thdskjcp, qlimsreplaceF_thdskjcp \\\n",
    "    = quotient_analysis_full(ivfull,dvfull,ivname,dvname,nbins,nruns,plothists=0)"
   ]
  },
  {
   "cell_type": "code",
   "execution_count": null,
   "metadata": {},
   "outputs": [],
   "source": [
    "ivfull = logchl; dvfull = skj_cp_tot\n",
    "ivname = 'logchl'; dvname = 'skj_cp_tot'\n",
    "iv_logchlskjcp, binedges_logchlskjcp, bincenters_logchlskjcp, ivcounts_logchlskjcp, \\\n",
    "    dvcounts_logchlskjcp, dvquot_logchlskjcp, qlimsreplaceT_logchlskjcp, qlimsreplaceF_logchlskjcp \\\n",
    "    = quotient_analysis_full(ivfull,dvfull,ivname,dvname,nbins,nruns,plothists=0)"
   ]
  },
  {
   "cell_type": "code",
   "execution_count": null,
   "metadata": {},
   "outputs": [],
   "source": [
    "ivfull = mld; dvfull = skj_cp_tot\n",
    "ivname = 'mld'; dvname = 'skj_cp_tot'\n",
    "iv_mldskjcp, binedges_mldskjcp, bincenters_mldskjcp, ivcounts_mldskjcp, \\\n",
    "    dvcounts_mldskjcp, dvquot_mldskjcp, qlimsreplaceT_mldskjcp, qlimsreplaceF_mldskjcp \\\n",
    "    = quotient_analysis_full(ivfull,dvfull,ivname,dvname,nbins,nruns,plothists=0)"
   ]
  },
  {
   "cell_type": "code",
   "execution_count": null,
   "metadata": {},
   "outputs": [],
   "source": [
    "ivfull = ssha; dvfull = skj_cp_tot\n",
    "ivname = 'ssha'; dvname = 'skj_cp_tot'\n",
    "iv_sshaskjcp, binedges_sshaskjcp, bincenters_sshaskjcp, ivcounts_sshaskjcp, \\\n",
    "    dvcounts_sshaskjcp, dvquot_sshaskjcp, qlimsreplaceT_sshaskjcp, qlimsreplaceF_sshaskjcp \\\n",
    "    = quotient_analysis_full(ivfull,dvfull,ivname,dvname,nbins,nruns,plothists=0)"
   ]
  },
  {
   "cell_type": "code",
   "execution_count": 30,
   "metadata": {},
   "outputs": [],
   "source": [
    "ivunitsall = ['degC','umol/kg','psu','log(mg/m$^3$)','m','cm']\n",
    "ivnicenamesall = ['SST','O$2_{100m}$','SSS','log(CHL)','MLD','SSHA']\n",
    "dvnicenamesall = ['Skipjack CPUE','Skipjack CPUE','Skipjack CPUE',\n",
    "                  'Skipjack CPUE','Skipjack CPUE','Skipjack CPUE']\n",
    "ivall = [iv_sstskjcp, iv_o2100skjcp, iv_sssskjcp,\n",
    "         iv_logchlskjcp, iv_mldskjcp, iv_sshaskjcp]\n",
    "binedgesall = [binedges_sstskjcp, binedges_o2100skjcp, binedges_sssskjcp,\n",
    "               binedges_logchlskjcp, binedges_mldskjcp, binedges_sshaskjcp]\n",
    "bincentersall = [bincenters_sstskjcp, bincenters_o2100skjcp, bincenters_sssskjcp,\n",
    "                 bincenters_logchlskjcp, bincenters_mldskjcp, bincenters_sshaskjcp]\n",
    "ivcountsall = [ivcounts_sstskjcp, ivcounts_o2100skjcp, ivcounts_sssskjcp,\n",
    "               ivcounts_logchlskjcp, ivcounts_mldskjcp, ivcounts_sshaskjcp]\n",
    "dvcountsall = [dvcounts_sstskjcp, dvcounts_o2100skjcp, dvcounts_sssskjcp,\n",
    "               dvcounts_logchlskjcp, dvcounts_mldskjcp, dvcounts_sshaskjcp]\n",
    "dvquotall = [dvquot_sstskjcp, dvquot_o2100skjcp, dvquot_sssskjcp,\n",
    "             dvquot_logchlskjcp, dvquot_mldskjcp, dvquot_sshaskjcp]\n",
    "qlimsreplaceTall = [qlimsreplaceT_sstskjcp, qlimsreplaceT_o2100skjcp, qlimsreplaceT_sssskjcp,\n",
    "                    qlimsreplaceT_logchlskjcp, qlimsreplaceT_mldskjcp, qlimsreplaceT_sshaskjcp]\n",
    "qlimsreplaceFall = [qlimsreplaceF_sstskjcp, qlimsreplaceF_o2100skjcp, qlimsreplaceF_sssskjcp,\n",
    "                    qlimsreplaceF_logchlskjcp, qlimsreplaceF_mldskjcp, qlimsreplaceF_sshaskjcp]"
   ]
  },
  {
   "cell_type": "code",
   "execution_count": null,
   "metadata": {},
   "outputs": [],
   "source": [
    "plotbarorhist='bar'; plotlegend=1;\n",
    "plotqlimsreplaceT=1; plotqlimsreplaceF=0\n",
    "nrows=6; ncols=1\n",
    "fig,axes = plt.subplots(nrows=nrows, ncols=ncols, figsize=(8,18))\n",
    "isp = 0 # subplot index\n",
    "for yax in range(0,nrows):\n",
    "    for xax in range(0,ncols):\n",
    "        ivunits = ivunitsall[isp]\n",
    "        ivnicename = ivnicenamesall[isp]; dvnicename = dvnicenamesall[isp]\n",
    "        iv = ivall[isp]\n",
    "        binedges = binedgesall[isp]; bincenters = bincentersall[isp]\n",
    "        ivcounts = ivcountsall[isp]; dvcounts = dvcountsall[isp]\n",
    "        dvquot = dvquotall[isp]\n",
    "        qlimsreplaceT = qlimsreplaceTall[isp]; qlimsreplaceF = qlimsreplaceFall[isp]\n",
    "        if ncols>1 and nrows>1:\n",
    "            ax = axes[yax][xax]\n",
    "        elif ncols==1 and nrows>1:\n",
    "            ax = axes[yax] \n",
    "        elif ncols>1 and nrows==1:\n",
    "            ax = axes[xax] \n",
    "        exec(open(\"development/plot_qa.py\").read())\n",
    "        isp = isp+1\n",
    "fig.tight_layout()\n",
    "#fig.savefig(figpath + 'question3b_skjcpue_quotientanalysis.png', bbox_inches='tight', pad_inches = 0, dpi = 200)"
   ]
  }
 ],
 "metadata": {
  "kernelspec": {
   "display_name": "Python 3",
   "language": "python",
   "name": "python3"
  },
  "language_info": {
   "codemirror_mode": {
    "name": "ipython",
    "version": 3
   },
   "file_extension": ".py",
   "mimetype": "text/x-python",
   "name": "python",
   "nbconvert_exporter": "python",
   "pygments_lexer": "ipython3",
   "version": "3.7.3"
  }
 },
 "nbformat": 4,
 "nbformat_minor": 4
}
