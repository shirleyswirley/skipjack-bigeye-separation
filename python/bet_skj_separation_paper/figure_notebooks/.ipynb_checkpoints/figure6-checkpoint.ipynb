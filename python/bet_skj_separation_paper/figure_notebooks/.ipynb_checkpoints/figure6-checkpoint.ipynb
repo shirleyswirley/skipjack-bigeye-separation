{
 "cells": [
  {
   "cell_type": "markdown",
   "metadata": {},
   "source": [
    "### Compute EN vs. LN p-val maps"
   ]
  },
  {
   "cell_type": "code",
   "execution_count": 18,
   "metadata": {},
   "outputs": [],
   "source": [
    "alphafdr = 0.1\n",
    "\n",
    "skj_cp_tot_anom_enln_wrs_pval = wrspvalmap_loop(\n",
    "    skj_cp_tot_anom[onienln==1],skj_cp_tot_anom[onienln==-1],'skj_cp_tot_anom_enln')\n",
    "skj_cp_tot_anom_enln_wrs_ptf = controlfdr2d(skj_cp_tot_anom_enln_wrs_pval,alphafdr) \n",
    "\n",
    "bet_cp_tot_anom_enln_wrs_pval = wrspvalmap_loop(\n",
    "    bet_cp_tot_anom[onienln==1],bet_cp_tot_anom[onienln==-1],'bet_cp_tot_anom_enln')\n",
    "bet_cp_tot_anom_enln_wrs_ptf = controlfdr2d(bet_cp_tot_anom_enln_wrs_pval,alphafdr) \n",
    "\n",
    "bettoskj_cp_tot_anom_enln_wrs_pval = wrspvalmap_loop(\n",
    "    bettoskj_cp_tot_anom[onienln==1],bettoskj_cp_tot_anom[onienln==-1],'bettoskj_cp_tot_anom_enln')\n",
    "bettoskj_cp_tot_anom_enln_wrs_ptf = controlfdr2d(bettoskj_cp_tot_anom_enln_wrs_pval,alphafdr)"
   ]
  },
  {
   "cell_type": "markdown",
   "metadata": {},
   "source": [
    "### Plot"
   ]
  },
  {
   "cell_type": "code",
   "execution_count": null,
   "metadata": {},
   "outputs": [],
   "source": [
    "cm.viridis._rgba_over = None; #cm.viridis._rgba_under = None;\n",
    "cm.viridis._set_extremes() \n",
    "\n",
    "# - Set proj and define axes\n",
    "#fig,axes = plt.subplots(nrows=2, ncols=3, figsize=(16,15), # (18.5,14) for 4x4 \n",
    "fig,axes = plt.subplots(nrows=2, ncols=3, figsize=(16,7.5),\n",
    "                        subplot_kw={'projection': ccrs.PlateCarree(central_longitude=200)})\n",
    "\n",
    "# - Define units for colorbar labels\n",
    "unitsnow = [['[metric tons/set]','[metric tons/set]',''],\n",
    "            ['[metric tons/set]','[metric tons/set]','']]\n",
    "\n",
    "# - Make maps pretty + plot\n",
    "for irow in range(axes.shape[0]):\n",
    "\n",
    "    if irow==0: # el nino\n",
    "        cmnow = cm.seismic; timelabelnow = ' - EN anom'; extendnow = 'both';\n",
    "        skj_cp_tot_now = skj_cp_tot_anom[onienln==1].mean(dim='time'); vmin1=-10; vmax1=10;\n",
    "        bet_cp_tot_now = bet_cp_tot_anom[onienln==1].mean(dim='time'); vmin2=-1.6; vmax2=1.6;\n",
    "        bettoskj_cp_tot_now = bettoskj_cp_tot_anom[onienln==1].mean(dim='time'); vmin3=-0.065; vmax3=0.065;\n",
    "        bettoskj_totcp_tot_now = (bet_cp_tot_anom[onienln==1].sum(dim='time')\n",
    "                                 )/(skj_cp_tot_anom[onienln==1].sum(dim='time')); vmin4=-1.2; vmax4=1.2;\n",
    "        signifstipplenow=1;\n",
    "        skj_cp_tot_pv_now = skj_cp_tot_anom_enln_wrs_pval; skj_cp_tot_ptf_now = skj_cp_tot_anom_enln_wrs_ptf; \n",
    "        bet_cp_tot_pv_now = bet_cp_tot_anom_enln_wrs_pval; bet_cp_tot_ptf_now = bet_cp_tot_anom_enln_wrs_ptf; \n",
    "        bettoskj_cp_tot_pv_now = bettoskj_cp_tot_anom_enln_wrs_pval; bettoskj_cp_tot_ptf_now = bettoskj_cp_tot_anom_enln_wrs_ptf; \n",
    "    elif irow==1: # la nina\n",
    "        cmnow = cm.seismic; timelabelnow = ' - LN anom'; extendnow = 'both';\n",
    "        skj_cp_tot_now = skj_cp_tot_anom[onienln==-1].mean(dim='time'); vmin1=-10; vmax1=10;\n",
    "        bet_cp_tot_now = bet_cp_tot_anom[onienln==-1].mean(dim='time'); vmin2=-1.6; vmax2=1.6;\n",
    "        bettoskj_cp_tot_now = bettoskj_cp_tot_anom[onienln==-1].mean(dim='time'); vmin3=-0.065; vmax3=0.065;\n",
    "        bettoskj_totcp_tot_now = (bet_cp_tot_anom[onienln==-1].sum(dim='time')\n",
    "                                 )/(skj_cp_tot_anom[onienln==-1].sum(dim='time')); vmin4=-1.2; vmax4=1.2;\n",
    "        signifstipplenow=1;\n",
    "        skj_cp_tot_pv_now = skj_cp_tot_anom_enln_wrs_pval; skj_cp_tot_ptf_now = skj_cp_tot_anom_enln_wrs_ptf; \n",
    "        bet_cp_tot_pv_now = bet_cp_tot_anom_enln_wrs_pval; bet_cp_tot_ptf_now = bet_cp_tot_anom_enln_wrs_ptf; \n",
    "        bettoskj_cp_tot_pv_now = bettoskj_cp_tot_anom_enln_wrs_pval; bettoskj_cp_tot_ptf_now = bettoskj_cp_tot_anom_enln_wrs_ptf; \n",
    "        \n",
    "    for icol in range(axes.shape[1]):\n",
    "        ax = axes[irow][icol]\n",
    "        exec(open('helper_scripts/create_map_bgs.py').read())\n",
    "        if icol==0:\n",
    "            skj_cp_tot_now.plot(\n",
    "                ax=ax, transform=ccrs.PlateCarree(), cmap=cmnow, vmin=vmin1, vmax=vmax1,\n",
    "                cbar_kwargs={'pad': 0.02, 'label': unitsnow[irow][icol], 'extend': extendnow})\n",
    "            if signifstipplenow==1:\n",
    "                [signiflonnow,signiflatnow]=find_where_pval_small(\n",
    "                    skj_cp_tot_anom_enln_wrs_pval,skj_cp_tot_anom_enln_wrs_ptf)\n",
    "                ax.scatter(signiflonnow, signiflatnow, c='yellow', s=2, transform=ccrs.PlateCarree());\n",
    "            ax.set_xlabel(''); ax.set_ylabel('');\n",
    "            ax.set_title('SKJ CPUE' + timelabelnow)\n",
    "        elif icol==1: \n",
    "            bet_cp_tot_now.plot(\n",
    "                ax=ax, transform=ccrs.PlateCarree(), cmap=cmnow, vmin=vmin2, vmax=vmax2,\n",
    "                cbar_kwargs={'pad': 0.02, 'label': unitsnow[irow][icol], 'extend': extendnow})\n",
    "            if signifstipplenow==1:\n",
    "                [signiflonnow,signiflatnow]=find_where_pval_small(\n",
    "                    bet_cp_tot_anom_enln_wrs_pval,bet_cp_tot_anom_enln_wrs_ptf)\n",
    "                ax.scatter(signiflonnow, signiflatnow, c='yellow', s=2, transform=ccrs.PlateCarree());\n",
    "            ax.set_xlabel(''); ax.set_ylabel('');\n",
    "            ax.set_title('BET CPUE' + timelabelnow)\n",
    "        elif icol==2: \n",
    "            bettoskj_cp_tot_now.plot(\n",
    "                ax=ax, transform=ccrs.PlateCarree(), cmap=cmnow, vmin=vmin3, vmax=vmax3,\n",
    "                cbar_kwargs={'pad': 0.02, 'label': unitsnow[irow][icol], 'extend': extendnow})\n",
    "            if signifstipplenow==1:\n",
    "                [signiflonnow,signiflatnow]=find_where_pval_small(\n",
    "                    bettoskj_cp_tot_anom_enln_wrs_pval,bettoskj_cp_tot_anom_enln_wrs_ptf)\n",
    "                ax.scatter(signiflonnow, signiflatnow, c='yellow', s=2, transform=ccrs.PlateCarree());\n",
    "            ax.set_xlabel(''); ax.set_ylabel('');\n",
    "            ax.set_title('BET:SKJ CPUE (monthly avg)' + timelabelnow)\n",
    "       \n",
    "fig.savefig(figpath + 'mainfig6_bscpue_ensomeans.png', bbox_inches='tight', pad_inches = 0, dpi = 200)"
   ]
  }
 ],
 "metadata": {
  "kernelspec": {
   "display_name": "Python 3",
   "language": "python",
   "name": "python3"
  },
  "language_info": {
   "codemirror_mode": {
    "name": "ipython",
    "version": 3
   },
   "file_extension": ".py",
   "mimetype": "text/x-python",
   "name": "python",
   "nbconvert_exporter": "python",
   "pygments_lexer": "ipython3",
   "version": "3.7.3"
  }
 },
 "nbformat": 4,
 "nbformat_minor": 4
}
