{
 "cells": [
  {
   "cell_type": "markdown",
   "metadata": {},
   "source": [
    "### Group EN/LN/all values over EEZs"
   ]
  },
  {
   "cell_type": "code",
   "execution_count": 30,
   "metadata": {},
   "outputs": [],
   "source": [
    "nueezs = ['Palau','Micronesia','Papua New Guinea','Solomon Islands','Nauru','Marshall Islands',\n",
    "          'Kiribati (Gilbert Islands)','Tuvalu','Kiribati (Phoenix Islands)','Kiribati (Line Islands)'];\n",
    "nueezs_abbrev = ['PLW','FSM','PNG','SLB','NRU','MHL','KIR-G','TUV','KIR-P','KIR-L']\n",
    "alphafdr = 0.1\n",
    "\n",
    "skj_cp_tot_all_nueezs,skj_cp_tot_en_nueezs,skj_cp_tot_ln_nueezs,skj_cp_tot_enlnwrspv_nueezs = \\\n",
    "    get_allenln_eezmask_enlnwrspval(skj_cp_tot, nueezs, eezmask, df_enn)\n",
    "skj_cp_tot_enlnwrsptf_nueezs = controlfdr1d(skj_cp_tot_enlnwrspv_nueezs,alphafdr)\n",
    "skj_cp_tot_enlnwrssignifidxs_nueezs = np.where(skj_cp_tot_enlnwrspv_nueezs<skj_cp_tot_enlnwrsptf_nueezs)[0]\n",
    "\n",
    "bet_cp_tot_all_nueezs,bet_cp_tot_en_nueezs,bet_cp_tot_ln_nueezs,bet_cp_tot_enlnwrspv_nueezs = \\\n",
    "    get_allenln_eezmask_enlnwrspval(bet_cp_tot, nueezs, eezmask, df_enn)\n",
    "bet_cp_tot_enlnwrsptf_nueezs = controlfdr1d(skj_cp_tot_enlnwrspv_nueezs,alphafdr)\n",
    "bet_cp_tot_enlnwrssignifidxs_nueezs = np.where(skj_cp_tot_enlnwrspv_nueezs<skj_cp_tot_enlnwrsptf_nueezs)[0]\n",
    "\n",
    "bettoskj_cp_tot_all_nueezs,bettoskj_cp_tot_en_nueezs,bettoskj_cp_tot_ln_nueezs,bettoskj_cp_tot_enlnwrspv_nueezs = \\\n",
    "    get_allenln_eezmask_enlnwrspval(bettoskj_cp_tot, nueezs, eezmask, df_enn)\n",
    "bettoskj_cp_tot_enlnwrsptf_nueezs = controlfdr1d(bettoskj_cp_tot_enlnwrspv_nueezs,alphafdr)\n",
    "bettoskj_cp_tot_enlnwrssignifidxs_nueezs = np.where(bettoskj_cp_tot_enlnwrspv_nueezs<bettoskj_cp_tot_enlnwrsptf_nueezs)[0]\n",
    "\n",
    "skjmbet_cp_tot_all_nueezs,skjmbet_cp_tot_en_nueezs,skjmbet_cp_tot_ln_nueezs,skjmbet_cp_tot_enlnwrspv_nueezs = \\\n",
    "    get_allenln_eezmask_enlnwrspval(skj_cp_tot-bet_cp_tot, nueezs, eezmask, df_enn)\n",
    "skjmbet_cp_tot_enlnwrsptf_nueezs = controlfdr1d(skjmbet_cp_tot_enlnwrspv_nueezs,alphafdr)\n",
    "skjmbet_cp_tot_enlnwrssignifidxs_nueezs = np.where(skjmbet_cp_tot_enlnwrspv_nueezs<skjmbet_cp_tot_enlnwrsptf_nueezs)[0]"
   ]
  },
  {
   "cell_type": "markdown",
   "metadata": {},
   "source": [
    "### Boxplot EN/all/LN values over EEZs"
   ]
  },
  {
   "cell_type": "code",
   "execution_count": null,
   "metadata": {},
   "outputs": [],
   "source": [
    "ticks = nueezs_abbrev\n",
    "fig,axes=plt.subplots(nrows=4,ncols=1,figsize=(10,20))\n",
    "\n",
    "# - SKJ CPUE\n",
    "axnow = axes[0]; titlenow = 'SKJ CPUE'; unitsnow = '[metric tons/set]'\n",
    "ennow = skj_cp_tot_en_nueezs; allnow = skj_cp_tot_all_nueezs; lnnow = skj_cp_tot_ln_nueezs\n",
    "plotsignif=1; signifidxsnow = skj_cp_tot_enlnwrssignifidxs_nueezs \n",
    "exec(open('helper_scripts/enln_boxplots.py').read())\n",
    "\n",
    "# - BET CPUE\n",
    "axnow = axes[1]; titlenow = 'BET CPUE'; unitsnow = '[metric tons/set]'\n",
    "ennow = bet_cp_tot_en_nueezs; allnow = bet_cp_tot_all_nueezs; lnnow = bet_cp_tot_ln_nueezs\n",
    "plotsignif=1; signifidxsnow = bet_cp_tot_enlnwrssignifidxs_nueezs \n",
    "exec(open('helper_scripts/enln_boxplots.py').read())\n",
    "\n",
    "# - BET:SKJ CPUE\n",
    "axnow = axes[2]; titlenow = 'BET:SKJ CPUE'; unitsnow = ''\n",
    "ennow = bettoskj_cp_tot_en_nueezs; allnow = bettoskj_cp_tot_all_nueezs; lnnow = bettoskj_cp_tot_ln_nueezs\n",
    "plotsignif=1; signifidxsnow = bettoskj_cp_tot_enlnwrssignifidxs_nueezs \n",
    "exec(open('helper_scripts/enln_boxplots.py').read())\n",
    "\n",
    "# - SKJ MINUS BET CPUE\n",
    "axnow = axes[3]; titlenow = 'SKJ-BET CPUE'; unitsnow = '[metric tons/set]'\n",
    "ennow = skjmbet_cp_tot_en_nueezs; allnow = skjmbet_cp_tot_all_nueezs; lnnow = skjmbet_cp_tot_ln_nueezs\n",
    "plotsignif=1; signifidxsnow = skjmbet_cp_tot_enlnwrssignifidxs_nueezs \n",
    "exec(open('helper_scripts/enln_boxplots.py').read())\n",
    "\n",
    "fig.savefig(figpath + 'mainfig7_bscpue_ensoboxplot.png', bbox_inches='tight', pad_inches = 0, dpi = 200)"
   ]
  }
 ],
 "metadata": {
  "kernelspec": {
   "display_name": "Python 3",
   "language": "python",
   "name": "python3"
  },
  "language_info": {
   "codemirror_mode": {
    "name": "ipython",
    "version": 3
   },
   "file_extension": ".py",
   "mimetype": "text/x-python",
   "name": "python",
   "nbconvert_exporter": "python",
   "pygments_lexer": "ipython3",
   "version": "3.7.3"
  }
 },
 "nbformat": 4,
 "nbformat_minor": 4
}
