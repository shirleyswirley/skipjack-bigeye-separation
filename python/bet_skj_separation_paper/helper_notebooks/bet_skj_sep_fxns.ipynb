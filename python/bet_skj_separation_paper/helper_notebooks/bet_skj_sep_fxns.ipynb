{
 "cells": [
  {
   "cell_type": "markdown",
   "metadata": {},
   "source": [
    "### Define fxn to calculate regress and correl coeff maps"
   ]
  },
  {
   "cell_type": "code",
   "execution_count": 5,
   "metadata": {},
   "outputs": [],
   "source": [
    "# - Calculate correl and regress coeff map btwn two (time,lat,lon) xr dataarrays\n",
    "def gettemprcmap_loop(x3dnow,y3dnow,namebasenow):\n",
    "\n",
    "    # - Initialize nan DataArray same size as x3dnow\n",
    "    # --> new DataArray takes name of old though, so will need to rename\n",
    "    # (Apparently you can't initialize empty or full DataArrays yet still: https://github.com/pydata/xarray/issues/277)\n",
    "    rc2dnow = x3dnow.mean(dim='time') * np.nan\n",
    "    int2dnow = x3dnow.mean(dim='time') * np.nan\n",
    "    rcpval2dnow = x3dnow.mean(dim='time') * np.nan\n",
    "    cc2dnow = x3dnow.mean(dim='time') * np.nan\n",
    "    ccpval2dnow = x3dnow.mean(dim='time') * np.nan\n",
    "    stderr2dnow = x3dnow.mean(dim='time') * np.nan\n",
    "\n",
    "    # - Loop over each lat/lon combo\n",
    "    for ilat in range(x3dnow.lat.size):\n",
    "        for ilon in range(x3dnow.lon.size):\n",
    "            xnow = x3dnow[:,ilat,ilon]\n",
    "            ynow = y3dnow[:,ilat,ilon]\n",
    "            # - Get rid of any times where xnow or ynow is nan or inf\n",
    "            valsnow = (~xr.ufuncs.isnan(xnow))&(~xr.ufuncs.isnan(ynow))&(~xr.ufuncs.isinf(xnow))&(~xr.ufuncs.isinf(ynow))\n",
    "            if valsnow.sum()>=2:\n",
    "                #print([ilat,ilon])\n",
    "                ccnow = stats.pearsonr(xnow[valsnow],ynow[valsnow]) \n",
    "                cc2dnow[ilat,ilon] = ccnow[0]\n",
    "                ccpval2dnow[ilat,ilon] = ccnow[1]\n",
    "                #[rc2dnow[ilat,ilon], int2dnow[ilat,ilon], cc2dnow[ilat,ilon], pval2dnow[ilat,ilon], \n",
    "                # stderr2dnow[ilat,ilon]] = stats.linregress(xnow[valsnow],ynow[valsnow]) \n",
    "                linregnow = stats.linregress(xnow[valsnow],ynow[valsnow]) \n",
    "                rc2dnow[ilat,ilon] = linregnow[0]\n",
    "                int2dnow[ilat,ilon] = linregnow[1]\n",
    "                rcpval2dnow[ilat,ilon] = linregnow[3]\n",
    "                stderr2dnow[ilat,ilon] = linregnow[4]\n",
    "\n",
    "    # - Rename\n",
    "    rc2dnow.name = namebasenow+'_rc'\n",
    "    int2dnow.name = namebasenow+'_int'\n",
    "    rcpval2dnow.name = namebasenow+'_rc_pval'\n",
    "    cc2dnow.name = namebasenow+'_cc'\n",
    "    ccpval2dnow.name = namebasenow+'_cc_pval'\n",
    "    stderr2dnow.name = namebasenow+'_stderr'\n",
    "    \n",
    "    return [rc2dnow,int2dnow,rcpval2dnow,cc2dnow,ccpval2dnow,stderr2dnow]"
   ]
  },
  {
   "cell_type": "markdown",
   "metadata": {},
   "source": [
    "### Define fxn to generate Wilcoxon ranksum p-value maps"
   ]
  },
  {
   "cell_type": "code",
   "execution_count": 6,
   "metadata": {},
   "outputs": [],
   "source": [
    "# - Calculate wilcoxon rank sum p-val map btwn two (time,lat,lon) xr dataarrays\n",
    "def wrspvalmap_loop(x3dnow,y3dnow,namebasenow):\n",
    "\n",
    "    # - Initialize nan DataArray same size as x3dnow\n",
    "    # --> new DataArray takes name of old though, so will need to rename\n",
    "    pval2dnow = xr.full_like(x3dnow.mean(dim='time'), np.nan)\n",
    "\n",
    "    # - Loop over each lat/lon combo\n",
    "    for ilat in range(x3dnow.lat.size):\n",
    "        for ilon in range(x3dnow.lon.size):\n",
    "            xnow = x3dnow[:,ilat,ilon]\n",
    "            ynow = y3dnow[:,ilat,ilon]\n",
    "            # - Get rid of any times where xnow or ynow is nan or inf\n",
    "            xvalsnow = (~xr.ufuncs.isnan(xnow))&(~xr.ufuncs.isinf(xnow))\n",
    "            yvalsnow = (~xr.ufuncs.isnan(ynow))&(~xr.ufuncs.isinf(ynow))\n",
    "            if (xvalsnow.sum()>=1)&(yvalsnow.sum()>=1):\n",
    "                #print([ilat,ilon])\n",
    "                wrsnow = stats.ranksums(xnow[xvalsnow],ynow[yvalsnow]) \n",
    "                pval2dnow[ilat,ilon] = wrsnow[1]\n",
    "    \n",
    "    # - Rename\n",
    "    pval2dnow.name = namebasenow+'_wrs_pval'\n",
    "    \n",
    "    return pval2dnow"
   ]
  },
  {
   "cell_type": "markdown",
   "metadata": {},
   "source": [
    "### Define fxn to control false discovery rate"
   ]
  },
  {
   "cell_type": "code",
   "execution_count": 7,
   "metadata": {},
   "outputs": [],
   "source": [
    "# - Calculate minimum significant p-val threshold from false discovery rate (fdr)\n",
    "def controlfdr2d(pval2dnow,alphafdr):\n",
    "    pvalstack=pval2dnow.stack(x=['lat','lon'])\n",
    "    pvalstack=pvalstack[pvalstack.notnull()]\n",
    "    sortedpvalstack = pvalstack.sortby(pvalstack).values\n",
    "    N = sortedpvalstack.size\n",
    "    pfdrarr = alphafdr*np.arange(1,N+1)/N\n",
    "    pthreshfdr = sortedpvalstack[(pfdrarr-sortedpvalstack)>=0].max()\n",
    "    return pthreshfdr"
   ]
  },
  {
   "cell_type": "markdown",
   "metadata": {},
   "source": [
    "### Define fxn to find spots where all non-nan values are zero"
   ]
  },
  {
   "cell_type": "code",
   "execution_count": 8,
   "metadata": {},
   "outputs": [],
   "source": [
    "# - Find lat and lon where all non-nan time series values are zero\n",
    "def find_where_all_nonnan_zero(var3din):\n",
    "    # - Find spatial pts where all non-nan var3din values over time are zero\n",
    "    var3din_sum=var3din.sum(dim='time', skipna=True).where(~xr.ufuncs.isnan(var3din.mean(dim='time')))\n",
    "    var3din_sum_zero=var3din_sum.where(var3din_sum==0)\n",
    "    # - Get lat,lon where zeros are (https://stackoverflow.com/questions/40592630/get-coordinates-of-non-nan-values-of-xarray-dataset)\n",
    "    var3din_sum_zero_stacked = var3din_sum_zero.stack(x=['lat','lon'])\n",
    "    var3din_all_zeros=var3din_sum_zero_stacked[var3din_sum_zero_stacked.notnull()]\n",
    "    # - Look at time series at the computed lats/lons to make sure all non-nan values are zero\n",
    "    #for i in range(var3din_all_zeros.size):\n",
    "    #    print(var3din.sel(lat=var3din_all_zeros.lat[i], lon=var3din_all_zeros.lon[i]))\n",
    "    return [var3din_all_zeros.lon,var3din_all_zeros.lat]"
   ]
  },
  {
   "cell_type": "markdown",
   "metadata": {},
   "source": [
    "### Define fxn to find spots where p-value is below certain value"
   ]
  },
  {
   "cell_type": "code",
   "execution_count": 9,
   "metadata": {},
   "outputs": [],
   "source": [
    "# - Find lat and lon where all p-values are small\n",
    "def find_where_pval_small(pvalmap,alpha):\n",
    "    # - Find spatial pts where all p-val are smaller than alpha\n",
    "    pvalmap_small_nonnan = pvalmap.where(pvalmap<alpha)\n",
    "    # - Get lat,lon where small p-vals are (https://stackoverflow.com/questions/40592630/get-coordinates-of-non-nan-values-of-xarray-dataset)\n",
    "    pvalmap_small_nonnan_stacked = pvalmap_small_nonnan.stack(x=['lat','lon'])\n",
    "    pvalmap_small = pvalmap_small_nonnan_stacked[pvalmap_small_nonnan_stacked.notnull()]\n",
    "    return [pvalmap_small.lon,pvalmap_small.lat]"
   ]
  },
  {
   "cell_type": "markdown",
   "metadata": {},
   "source": [
    "### Define fxns for boxplotting values over EEZs"
   ]
  },
  {
   "cell_type": "code",
   "execution_count": 27,
   "metadata": {},
   "outputs": [],
   "source": [
    "def get_allenln_eezmask_enlnwrspval(varnow,eeznames,eezmask,dfeeznamesmask):\n",
    "    varallnow = []\n",
    "    varennow = []\n",
    "    varlnnow = []\n",
    "    enlnpvalnow = np.full(len(eeznames), np.nan) \n",
    "    for ieez in range(0,len(eeznames)):\n",
    "        eeznumnow = dfeeznamesmask['numbers'][dfeeznamesmask['names']==eeznames[ieez]].values\n",
    "        allnow = varnow.where(np.isin(eezmask,eeznumnow)).values\n",
    "        allnow = allnow[~np.isnan(allnow)]\n",
    "        ennow = varnow[onienln==1].where(np.isin(eezmask,eeznumnow)).values\n",
    "        ennow = ennow[~np.isnan(ennow)]\n",
    "        lnnow = varnow[onienln==-1].where(np.isin(eezmask,eeznumnow)).values\n",
    "        lnnow = lnnow[~np.isnan(lnnow)]\n",
    "        if len(ennow)>1 and len(lnnow)>1:\n",
    "            _,enlnpvalnow[ieez] = stats.ranksums(ennow,lnnow)\n",
    "        varallnow.append(allnow)\n",
    "        varennow.append(ennow)\n",
    "        varlnnow.append(lnnow)\n",
    "\n",
    "    return varallnow, varennow, varlnnow, enlnpvalnow"
   ]
  },
  {
   "cell_type": "code",
   "execution_count": null,
   "metadata": {},
   "outputs": [],
   "source": [
    "def get_seas_eezmask_seaskwpval(varnow,eeznames,eezmask,dfeeznamesmask):\n",
    "    varwinnow = []\n",
    "    varsprnow = []\n",
    "    varsumnow = []\n",
    "    varautnow = []\n",
    "    seaspvalnow = np.full(len(eeznames), np.nan) \n",
    "    for ieez in range(0,len(eeznames)):\n",
    "        eeznumnow = dfeeznamesmask['numbers'][dfeeznamesmask['names']==eeznames[ieez]].values\n",
    "        winnow = varnow.sel(time=varnow['time.season']=='DJF'\n",
    "                  ).where(np.isin(eezmask,eeznumnow)).values\n",
    "        winnow = winnow[~np.isnan(winnow)]\n",
    "        sprnow = varnow.sel(time=varnow['time.season']=='MAM'\n",
    "                  ).where(np.isin(eezmask,eeznumnow)).values\n",
    "        sprnow = sprnow[~np.isnan(sprnow)]\n",
    "        sumnow = varnow.sel(time=varnow['time.season']=='JJA'\n",
    "                  ).where(np.isin(eezmask,eeznumnow)).values\n",
    "        sumnow = sumnow[~np.isnan(sumnow)]\n",
    "        autnow = varnow.sel(time=varnow['time.season']=='SON'\n",
    "                  ).where(np.isin(eezmask,eeznumnow)).values\n",
    "        autnow = autnow[~np.isnan(autnow)]\n",
    "        if len(winnow)>1 and len(sprnow)>1 and len(sumnow)>1 and len(autnow)>1:\n",
    "            _,seaspvalnow[ieez] = stats.kruskal(winnow, sprnow, sumnow, autnow)\n",
    "        varwinnow.append(winnow)\n",
    "        varsprnow.append(sprnow)\n",
    "        varsumnow.append(sumnow)\n",
    "        varautnow.append(autnow)\n",
    "    return varwinnow, varsprnow, varsumnow, varautnow, seaspvalnow"
   ]
  },
  {
   "cell_type": "code",
   "execution_count": 28,
   "metadata": {},
   "outputs": [],
   "source": [
    "def controlfdr1d(pvals1d,alphafdr):\n",
    "    pvals1d = pvals1d[~np.isnan(pvals1d)]\n",
    "    sortedpvals = np.sort(pvals1d)\n",
    "    N = sortedpvals.size\n",
    "    pfdrarr = alphafdr*np.arange(1,N+1)/N\n",
    "    pthreshfdr = sortedpvals[(pfdrarr-sortedpvals)>=0].max()\n",
    "    return pthreshfdr"
   ]
  },
  {
   "cell_type": "code",
   "execution_count": 29,
   "metadata": {},
   "outputs": [],
   "source": [
    "def set_box_color(bp, color):\n",
    "    plt.setp(bp['boxes'], color=color)\n",
    "    plt.setp(bp['whiskers'], color=color)\n",
    "    plt.setp(bp['caps'], color=color)\n",
    "    plt.setp(bp['medians'], color=color)"
   ]
  }
 ],
 "metadata": {
  "kernelspec": {
   "display_name": "Python 3",
   "language": "python",
   "name": "python3"
  },
  "language_info": {
   "codemirror_mode": {
    "name": "ipython",
    "version": 3
   },
   "file_extension": ".py",
   "mimetype": "text/x-python",
   "name": "python",
   "nbconvert_exporter": "python",
   "pygments_lexer": "ipython3",
   "version": "3.7.3"
  }
 },
 "nbformat": 4,
 "nbformat_minor": 4
}
