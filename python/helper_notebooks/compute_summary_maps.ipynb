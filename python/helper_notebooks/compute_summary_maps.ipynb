{
 "cells": [
  {
   "cell_type": "markdown",
   "metadata": {},
   "source": [
    "# Compute summary maps"
   ]
  },
  {
   "cell_type": "markdown",
   "metadata": {},
   "source": [
    "### Compute ranges and cutoffs"
   ]
  },
  {
   "cell_type": "code",
   "execution_count": null,
   "metadata": {},
   "outputs": [],
   "source": [
    "bettoskjr3 = np.linspace(bettoskj_cp_tot_mean.min(),bettoskj_cp_tot_mean.max(),4)\n",
    "bettoskj_r3co1 = bettoskjr3[1]\n",
    "bettoskj_r3co2 = bettoskjr3[2]\n",
    "\n",
    "skjr4 = np.linspace(skj_cp_tot_mean.min(),skj_cp_tot_mean.max(),5)\n",
    "skj_r4co1 = skjr4[1]\n",
    "skj_r4co2 = skjr4[2]\n",
    "skj_r4co3 = skjr4[3]\n",
    "\n",
    "betr4 = np.linspace(bet_cp_tot_mean.min(),bet_cp_tot_mean.max(),5)\n",
    "bet_r4co1 = betr4[1]\n",
    "bet_r4co2 = betr4[2]\n",
    "bet_r4co3 = betr4[3]"
   ]
  },
  {
   "cell_type": "markdown",
   "metadata": {},
   "source": [
    "### Define fxn to compute summary maps"
   ]
  },
  {
   "cell_type": "code",
   "execution_count": 1,
   "metadata": {},
   "outputs": [],
   "source": [
    "def compute_summary_map(skj_cp_tot_now, bet_cp_tot_now, bettoskj_cp_tot_now):\n",
    "    summary_map_now = bettoskj_cp_tot_now.copy()\n",
    "    \n",
    "    # - Low SKJ CPUE, low BET CPUE (LS-LB)\n",
    "    summary_map_now = xr.where((skj_cp_tot_now<=skj_r4co2)\n",
    "                      & (bet_cp_tot_now<=bet_r4co2)\n",
    "                      & (bettoskj_cp_tot_now>=bettoskj_r3co2)\n",
    "                      , 0.5, summary_map_now)\n",
    "    summary_map_now = xr.where((skj_cp_tot_now<=skj_r4co2)\n",
    "                      & (bet_cp_tot_now<=bet_r4co2)\n",
    "                      & (bettoskj_cp_tot_now>bettoskj_r3co1)\n",
    "                      & (bettoskj_cp_tot_now<bettoskj_r3co2)\n",
    "                      , 0.75, summary_map_now)\n",
    "    summary_map_now = xr.where((skj_cp_tot_now<=skj_r4co2)\n",
    "                      & (bet_cp_tot_now<=bet_r4co2)\n",
    "                      & (bettoskj_cp_tot_now<=bettoskj_r3co1)\n",
    "                      , 1, summary_map_now)\n",
    "    \n",
    "    # - Low SKJ CPUE, high BET CPUE (LS-HB)\n",
    "    summary_map_now = xr.where((skj_cp_tot_now<skj_r4co2)\n",
    "                      & (bet_cp_tot_now>bet_r4co2)\n",
    "                      & (bettoskj_cp_tot_now>=bettoskj_r3co2)\n",
    "                      , 1.5, summary_map_now)\n",
    "    summary_map_now = xr.where((skj_cp_tot_now<skj_r4co2)\n",
    "                      & (bet_cp_tot_now>bet_r4co2)\n",
    "                      & (bettoskj_cp_tot_now>bettoskj_r3co1)\n",
    "                      & (bettoskj_cp_tot_now<bettoskj_r3co2)\n",
    "                      , 1.75, summary_map_now)\n",
    "    summary_map_now = xr.where((skj_cp_tot_now<skj_r4co2)\n",
    "                      & (bet_cp_tot_now>bet_r4co2)\n",
    "                      & (bettoskj_cp_tot_now<=bettoskj_r3co1)\n",
    "                      , 2, summary_map_now)\n",
    "    \n",
    "    # - High SKJ CPUE, low BET CPUE (HS-LB)\n",
    "    summary_map_now = xr.where((skj_cp_tot_now>skj_r4co2)\n",
    "                      & (bet_cp_tot_now<bet_r4co2)\n",
    "                      & (bettoskj_cp_tot_now>=bettoskj_r3co2)\n",
    "                      , 2.5, summary_map_now)\n",
    "    summary_map_now = xr.where((skj_cp_tot_now>skj_r4co2)\n",
    "                      & (bet_cp_tot_now<bet_r4co2)\n",
    "                      & (bettoskj_cp_tot_now>bettoskj_r3co1)\n",
    "                      & (bettoskj_cp_tot_now<bettoskj_r3co2)\n",
    "                      , 2.75, summary_map_now)\n",
    "    summary_map_now = xr.where((skj_cp_tot_now>skj_r4co2)\n",
    "                      & (bet_cp_tot_now<bet_r4co2)\n",
    "                      & (bettoskj_cp_tot_now<=bettoskj_r3co1)\n",
    "                      , 3, summary_map_now)\n",
    "    \n",
    "    # - High SKJ CPUE, high BET CPUE (HS-HB)\n",
    "    summary_map_now = xr.where((skj_cp_tot_now>=skj_r4co2)\n",
    "                      & (bet_cp_tot_now>=bet_r4co2)\n",
    "                      & (bettoskj_cp_tot_now>=bettoskj_r3co2)\n",
    "                      , 4.5, summary_map_now)\n",
    "    summary_map_now = xr.where((skj_cp_tot_now>=skj_r4co2)\n",
    "                      & (bet_cp_tot_now>=bet_r4co2)\n",
    "                      & (bettoskj_cp_tot_now>bettoskj_r3co1)\n",
    "                      & (bettoskj_cp_tot_now<bettoskj_r3co2)\n",
    "                      , 4.75, summary_map_now)\n",
    "    summary_map_now = xr.where((skj_cp_tot_now>=skj_r4co2)\n",
    "                      & (bet_cp_tot_now>=bet_r4co2)\n",
    "                      & (bettoskj_cp_tot_now<=bettoskj_r3co1)\n",
    "                      , 5, summary_map_now)\n",
    "    \n",
    "    # - Medium SKJ CPUE, medium BET CPUE (MS-MB)\n",
    "    summary_map_now = xr.where((skj_cp_tot_now<skj_r4co3)\n",
    "                      & (skj_cp_tot_now>skj_r4co1)\n",
    "                      & (bet_cp_tot_now<bet_r4co3)\n",
    "                      & (bet_cp_tot_now>bet_r4co1)\n",
    "                      & (bettoskj_cp_tot_now>=bettoskj_r3co2)\n",
    "                      , 3.5, summary_map_now)\n",
    "    summary_map_now = xr.where((skj_cp_tot_now<skj_r4co3)\n",
    "                      & (skj_cp_tot_now>skj_r4co1)\n",
    "                      & (bet_cp_tot_now<bet_r4co3)\n",
    "                      & (bet_cp_tot_now>bet_r4co1)\n",
    "                      & (bettoskj_cp_tot_now>bettoskj_r3co1)\n",
    "                      & (bettoskj_cp_tot_now<bettoskj_r3co2)\n",
    "                      , 3.75, summary_map_now)\n",
    "    summary_map_now = xr.where((skj_cp_tot_now<skj_r4co3)\n",
    "                      & (skj_cp_tot_now>skj_r4co1)\n",
    "                      & (bet_cp_tot_now<bet_r4co3)\n",
    "                      & (bet_cp_tot_now>bet_r4co1)\n",
    "                      & (bettoskj_cp_tot_now<=bettoskj_r3co1)\n",
    "                      , 4, summary_map_now)\n",
    "    summary_map_now = xr.where(summary_map_now<0.5,0,summary_map_now)\n",
    "    \n",
    "    return summary_map_now"
   ]
  },
  {
   "cell_type": "markdown",
   "metadata": {},
   "source": [
    "### Compute mean summary maps"
   ]
  },
  {
   "cell_type": "code",
   "execution_count": null,
   "metadata": {},
   "outputs": [],
   "source": [
    "summary_map_mean = compute_summary_map(skj_cp_tot_mean, bet_cp_tot_mean, bettoskj_cp_tot_mean)"
   ]
  },
  {
   "cell_type": "markdown",
   "metadata": {},
   "source": [
    "### Compute ENSO summary maps"
   ]
  },
  {
   "cell_type": "code",
   "execution_count": null,
   "metadata": {},
   "outputs": [],
   "source": [
    "summary_map_en = compute_summary_map(skj_cp_tot_en, bet_cp_tot_en, bettoskj_cp_tot_en)\n",
    "summary_map_ln = compute_summary_map(skj_cp_tot_ln, bet_cp_tot_ln, bettoskj_cp_tot_ln)"
   ]
  },
  {
   "cell_type": "markdown",
   "metadata": {},
   "source": [
    "### Compute seasonal summary maps"
   ]
  },
  {
   "cell_type": "code",
   "execution_count": null,
   "metadata": {},
   "outputs": [],
   "source": [
    "summary_map_win = compute_summary_map(skj_cp_tot_seas.sel(season='DJF'),\n",
    "                                      bet_cp_tot_seas.sel(season='DJF'),\n",
    "                                      bettoskj_cp_tot_seas.sel(season='DJF'))\n",
    "summary_map_spr = compute_summary_map(skj_cp_tot_seas.sel(season='MAM'),\n",
    "                                      bet_cp_tot_seas.sel(season='MAM'),\n",
    "                                      bettoskj_cp_tot_seas.sel(season='MAM'))\n",
    "summary_map_sum = compute_summary_map(skj_cp_tot_seas.sel(season='JJA'),\n",
    "                                      bet_cp_tot_seas.sel(season='JJA'),\n",
    "                                      bettoskj_cp_tot_seas.sel(season='JJA'))\n",
    "summary_map_aut = compute_summary_map(skj_cp_tot_seas.sel(season='SON'),\n",
    "                                      bet_cp_tot_seas.sel(season='SON'),\n",
    "                                      bettoskj_cp_tot_seas.sel(season='SON'))"
   ]
  }
 ],
 "metadata": {
  "kernelspec": {
   "display_name": "Python 3",
   "language": "python",
   "name": "python3"
  },
  "language_info": {
   "codemirror_mode": {
    "name": "ipython",
    "version": 3
   },
   "file_extension": ".py",
   "mimetype": "text/x-python",
   "name": "python",
   "nbconvert_exporter": "python",
   "pygments_lexer": "ipython3",
   "version": "3.7.3"
  }
 },
 "nbformat": 4,
 "nbformat_minor": 4
}
