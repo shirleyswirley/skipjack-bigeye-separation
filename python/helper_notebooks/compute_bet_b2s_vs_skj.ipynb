{
 "cells": [
  {
   "cell_type": "markdown",
   "metadata": {},
   "source": [
    "### Compute correl/regress coeff maps"
   ]
  },
  {
   "cell_type": "code",
   "execution_count": 11,
   "metadata": {},
   "outputs": [],
   "source": [
    "alphafdr = 0.1\n",
    "\n",
    "[bvss_cp_tot_rc, _, bvss_cp_tot_rc_pval,\n",
    " bvss_cp_tot_cc, bvss_cp_tot_cc_pval, _\n",
    "]=gettemprcmap_loop(skj_cp_tot,bet_cp_tot,'bvss_cp_tot')\n",
    "bvss_cp_tot_rc_ptf = controlfdr2d(bvss_cp_tot_rc_pval,alphafdr)\n",
    "bvss_cp_tot_cc_ptf = controlfdr2d(bvss_cp_tot_cc_pval,alphafdr)\n",
    "\n",
    "[b2svss_cp_tot_rc, _, b2svss_cp_tot_rc_pval,\n",
    " b2svss_cp_tot_cc, b2svss_cp_tot_cc_pval, _\n",
    "]=gettemprcmap_loop(skj_cp_tot,bettoskj_cp_tot,'b2svss_cp_tot')\n",
    "b2svss_cp_tot_rc_ptf = controlfdr2d(b2svss_cp_tot_rc_pval,alphafdr)\n",
    "b2svss_cp_tot_cc_ptf = controlfdr2d(b2svss_cp_tot_cc_pval,alphafdr)"
   ]
  }
 ],
 "metadata": {
  "kernelspec": {
   "display_name": "Python 3",
   "language": "python",
   "name": "python3"
  },
  "language_info": {
   "codemirror_mode": {
    "name": "ipython",
    "version": 3
   },
   "file_extension": ".py",
   "mimetype": "text/x-python",
   "name": "python",
   "nbconvert_exporter": "python",
   "pygments_lexer": "ipython3",
   "version": "3.7.3"
  }
 },
 "nbformat": 4,
 "nbformat_minor": 4
}
