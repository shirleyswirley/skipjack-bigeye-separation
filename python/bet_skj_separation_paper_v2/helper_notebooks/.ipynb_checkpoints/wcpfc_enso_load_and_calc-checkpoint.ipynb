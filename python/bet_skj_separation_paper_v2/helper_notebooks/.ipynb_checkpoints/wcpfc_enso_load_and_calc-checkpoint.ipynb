{
 "cells": [
  {
   "cell_type": "markdown",
   "metadata": {},
   "source": [
    "# Load monthly 5 by 5 degree WCPFC catch and effort data + define lon, lat"
   ]
  },
  {
   "cell_type": "markdown",
   "metadata": {},
   "source": [
    "Variables defined are:  \n",
    "wf, begdate, enddate, timemocatch, lon, lat"
   ]
  },
  {
   "cell_type": "code",
   "execution_count": null,
   "metadata": {},
   "outputs": [],
   "source": [
    "ncfile = dpath + 'WCPFC/5by5deg/ByMonth/PurseSeine_0/WCPFC_purseseine_bysettype_monthly_5deg.nc'\n",
    "wf = xr.open_dataset(ncfile)"
   ]
  },
  {
   "cell_type": "markdown",
   "metadata": {},
   "source": [
    "### Correct the time axis"
   ]
  },
  {
   "cell_type": "code",
   "execution_count": null,
   "metadata": {},
   "outputs": [],
   "source": [
    "# - Time goes from Jan 1967 - Dec 2017 --> 612 months\n",
    "begdate = datetime.date(year = 1967, month = 1, day = 1)\n",
    "enddate = datetime.date(year = 2017, month = 12, day = 1)\n",
    "timemocatch = pd.date_range(begdate, enddate, freq='MS')\n",
    "wf['time'] = timemocatch"
   ]
  },
  {
   "cell_type": "markdown",
   "metadata": {},
   "source": [
    "### Define lon, lat"
   ]
  },
  {
   "cell_type": "code",
   "execution_count": null,
   "metadata": {},
   "outputs": [],
   "source": [
    "lon = wf['lon']\n",
    "lat = wf['lat']"
   ]
  },
  {
   "cell_type": "markdown",
   "metadata": {},
   "source": [
    "# Load monthly ENSO time series"
   ]
  },
  {
   "cell_type": "markdown",
   "metadata": {},
   "source": [
    "Variables loaded/calculated are:  \n",
    "oni, onien, oniln, onienln, onitime"
   ]
  },
  {
   "cell_type": "code",
   "execution_count": null,
   "metadata": {},
   "outputs": [],
   "source": [
    "# - Load ONI \n",
    "dfoni = pd.read_csv(dpath+'ENSOindices/oni/oniindex1950_2018.txt',names=['Date','ONI']);\n",
    "\n",
    "# - Month fractions corresp to jan, feb, mar, etc. in the ONI txt file\n",
    "monthfracs = [0,0.0834,0.1666,0.25,0.3334,0.4166,0.5,0.5834,0.6666,0.75,0.8334,0.9166];\n",
    "\n",
    "# - Get ONI ts over desired timeframe\n",
    "onibegmoidx = dfoni.index[dfoni['Date'] == (begdate.year + monthfracs[begdate.month-1])][0]\n",
    "oniendmoidx = dfoni.index[dfoni['Date'] == (enddate.year + monthfracs[enddate.month-1])][0]\n",
    "oni = dfoni['ONI'].iloc[onibegmoidx:(oniendmoidx+1)].values\n",
    "onitime = pd.date_range(begdate, enddate, freq='MS') # should be 612 months long"
   ]
  },
  {
   "cell_type": "code",
   "execution_count": null,
   "metadata": {},
   "outputs": [],
   "source": [
    "# - Create EN/LN month classifications\n",
    "onien = [0]*len(oni) # 1 = el nino month\n",
    "oniln = [0]*len(oni) # 1 = la nina month\n",
    "\n",
    "# - Classify El Nino months\n",
    "cmcounter = 0; # consecutive months counter\n",
    "for imonth in range(len(oni)):\n",
    "    if oni[imonth]>=0.5:\n",
    "        cmcounter=cmcounter+1;\n",
    "    elif oni[imonth]<0.5:\n",
    "        cmcounter=0;\n",
    "    if cmcounter>=5:\n",
    "        onien[imonth-cmcounter:imonth]=[1]*cmcounter;\n",
    "\n",
    "# - Classify La Nina months\n",
    "cmcounter = 0; # consecutive months counter\n",
    "for imonth in range(len(oni)):\n",
    "    if oni[imonth]<=-0.5:\n",
    "        cmcounter=cmcounter+1;\n",
    "    elif oni[imonth]>-0.5:\n",
    "        cmcounter=0;\n",
    "    if cmcounter>=5:\n",
    "        oniln[imonth-cmcounter:imonth]=[1]*cmcounter;"
   ]
  },
  {
   "cell_type": "code",
   "execution_count": null,
   "metadata": {},
   "outputs": [],
   "source": [
    "# - Put everything in DataArrays\n",
    "oni = xr.DataArray(oni, dims=('time'), coords={'time': onitime})\n",
    "onien = xr.DataArray(onien, dims=('time'), coords={'time': onitime})\n",
    "oniln = xr.DataArray(oniln, dims=('time'), coords={'time': onitime})\n",
    "onienln = xr.zeros_like(onien, dtype='int')\n",
    "onienln[onien==1]=1 # el nino = 1\n",
    "onienln[oniln==1]=-1 # la nina = -1"
   ]
  },
  {
   "cell_type": "code",
   "execution_count": null,
   "metadata": {},
   "outputs": [],
   "source": [
    "plotensoidx=1\n",
    "if plotensoidx==1:\n",
    "    fig = plt.figure(figsize=(11,4))\n",
    "    plt.plot(onitime,oni)\n",
    "    plt.plot(onitime,onien)\n",
    "    plt.plot(onitime,oniln)\n",
    "    #plt.plot(onitime,onienln)\n",
    "    plt.legend([\"oni\",\"onien\",\"oniln\",\"onienln\"])\n",
    "    plt.title('ENSO index (ONI)')"
   ]
  },
  {
   "cell_type": "markdown",
   "metadata": {},
   "source": [
    "# Calculate WCPFC total (over all set types) effort, SKJ + BET catch/CPUE, BET:SKJ CPUE ratio"
   ]
  },
  {
   "cell_type": "markdown",
   "metadata": {},
   "source": [
    "Variables calced are:  \n",
    "skj_c_tot, bet_c_tot, sets_tot,  \n",
    "skj_cp_tot, bet_cp_tot, bettoskj_cp_tot"
   ]
  },
  {
   "cell_type": "code",
   "execution_count": null,
   "metadata": {},
   "outputs": [],
   "source": [
    "# - The following are 3-D (time, lon, lat):\n",
    "#skj_c_tot = wf.skj_c_una + wf.skj_c_log + wf.skj_c_dfad + wf.skj_c_afad + wf.skj_c_oth\n",
    "#bet_c_tot = wf.bet_c_una + wf.bet_c_log + wf.bet_c_dfad + wf.bet_c_afad + wf.bet_c_oth\n",
    "#sets_tot = wf.sets_una + wf.sets_log + wf.sets_dfad + wf.sets_afad + wf.sets_oth\n",
    "skj_c_tot = wf.skj_c_log + wf.skj_c_dfad + wf.skj_c_afad\n",
    "bet_c_tot = wf.bet_c_log + wf.bet_c_dfad + wf.bet_c_afad\n",
    "sets_tot = wf.sets_log + wf.sets_dfad + wf.sets_afad\n",
    "skj_cp_tot = skj_c_tot/sets_tot\n",
    "skj_cp_tot = skj_cp_tot.where(~np.isinf(skj_cp_tot), np.nan)\n",
    "bet_cp_tot = bet_c_tot/sets_tot\n",
    "bet_cp_tot = bet_cp_tot.where(~np.isinf(bet_cp_tot), np.nan)\n",
    "bettoskj_cp_tot = bet_cp_tot/skj_cp_tot"
   ]
  },
  {
   "cell_type": "code",
   "execution_count": null,
   "metadata": {},
   "outputs": [],
   "source": [
    "# - Name the dataarrays for later merging into datasets\n",
    "skj_c_tot.name = 'skj_c_tot'\n",
    "bet_c_tot.name = 'bet_c_tot'\n",
    "skj_cp_tot.name = 'skj_cp_tot'\n",
    "bet_cp_tot.name = 'bet_cp_tot'\n",
    "bettoskj_cp_tot.name = 'bettoskj_cp_tot'"
   ]
  },
  {
   "cell_type": "markdown",
   "metadata": {},
   "source": [
    "# Calculate WCPFC total (over all set types) effort, SKJ + BET CPUE, BET:SKJ CPUE ratio monthly climatology and anomalies"
   ]
  },
  {
   "cell_type": "markdown",
   "metadata": {},
   "source": [
    "Variables calced are:  \n",
    "skj_cp_tot_seas, bet_cp_tot_seas, bettoskj_cp_tot_seas,  \n",
    "skj_cp_tot_clim, bet_cp_tot_clim, bettoskj_cp_tot_clim,  \n",
    "skj_cp_tot_anom, bet_cp_tot_anom, bettoskj_cp_tot_anom"
   ]
  },
  {
   "cell_type": "code",
   "execution_count": null,
   "metadata": {},
   "outputs": [],
   "source": [
    "# - The following are all 3-D (time, lon, lat):\n",
    "skj_cp_tot_seas = skj_cp_tot.groupby('time.season').mean('time')\n",
    "bet_cp_tot_seas = bet_cp_tot.groupby('time.season').mean('time')\n",
    "bettoskj_cp_tot_seas = bettoskj_cp_tot.groupby('time.season').mean('time')\n",
    "\n",
    "skj_cp_tot_clim = skj_cp_tot.groupby('time.month').mean('time')\n",
    "bet_cp_tot_clim = bet_cp_tot.groupby('time.month').mean('time')\n",
    "bettoskj_cp_tot_clim = bettoskj_cp_tot.groupby('time.month').mean('time')\n",
    "\n",
    "skj_cp_tot_anom = skj_cp_tot.groupby('time.month') - skj_cp_tot_clim\n",
    "bet_cp_tot_anom = bet_cp_tot.groupby('time.month') - bet_cp_tot_clim\n",
    "bettoskj_cp_tot_anom = bettoskj_cp_tot.groupby('time.month') - bettoskj_cp_tot_clim"
   ]
  },
  {
   "cell_type": "code",
   "execution_count": null,
   "metadata": {},
   "outputs": [],
   "source": [
    "# - Name the dataarrays for later merging into datasets\n",
    "skj_cp_tot_seas.name = 'skj_cp_tot_seas'\n",
    "bet_cp_tot_seas.name = 'bet_cp_tot_seas'\n",
    "bettoskj_cp_tot_seas.name = 'bettoskj_cp_tot_seas'\n",
    "\n",
    "skj_cp_tot_clim.name = 'skj_cp_tot_clim'\n",
    "bet_cp_tot_clim.name = 'bet_cp_tot_clim'\n",
    "bettoskj_cp_tot_clim.name = 'bettoskj_cp_tot_clim'\n",
    "\n",
    "skj_cp_tot_anom.name = 'skj_cp_tot_anom'\n",
    "bet_cp_tot_anom.name = 'bet_cp_tot_anom'\n",
    "bettoskj_cp_tot_anom.name = 'bettoskj_cp_tot_anom'"
   ]
  },
  {
   "cell_type": "markdown",
   "metadata": {},
   "source": [
    "# Calculate mean and ENSO anomaly composites of total (over all set types) SKJ + BET CPUE, BET:SKJ CPUE"
   ]
  },
  {
   "cell_type": "markdown",
   "metadata": {},
   "source": [
    "Variables calced are:  \n",
    "skj_cp_tot_mean, bet_cp_tot_mean, bettoskj_cp_tot_mean,  \n",
    "skj_cp_tot_anom_en, bet_cp_tot_anom_en, bettoskj_cp_tot_anom_en,  \n",
    "skj_cp_tot_anom_ln, bet_cp_tot_anom_ln, bettoskj_cp_tot_anom_ln "
   ]
  },
  {
   "cell_type": "code",
   "execution_count": null,
   "metadata": {},
   "outputs": [],
   "source": [
    "# - The following are 2-D (lon, lat):\n",
    "\n",
    "skj_cp_tot_mean = skj_cp_tot.mean('time')\n",
    "bet_cp_tot_mean = bet_cp_tot.mean('time')\n",
    "bettoskj_cp_tot_mean = bettoskj_cp_tot.mean('time')\n",
    "\n",
    "skj_cp_tot_anom_en = skj_cp_tot_anom[onienln==1].mean(dim='time')\n",
    "skj_cp_tot_anom_ln = skj_cp_tot_anom[onienln==-1].mean(dim='time')\n",
    "\n",
    "bet_cp_tot_anom_en = bet_cp_tot_anom[onienln==1].mean(dim='time')\n",
    "bet_cp_tot_anom_ln = bet_cp_tot_anom[onienln==-1].mean(dim='time')\n",
    "\n",
    "bettoskj_cp_tot_anom_en = bettoskj_cp_tot_anom[onienln==1].mean(dim='time')\n",
    "bettoskj_cp_tot_anom_ln = bettoskj_cp_tot_anom[onienln==-1].mean(dim='time')"
   ]
  },
  {
   "cell_type": "markdown",
   "metadata": {},
   "source": [
    "# Compute EN vs. LN anomaly composite p-val maps"
   ]
  },
  {
   "cell_type": "markdown",
   "metadata": {},
   "source": [
    "Variables calced are:  \n",
    "skj_cp_tot_anom_enln_wrs_pval, skj_cp_tot_anom_enln_wrs_ptf,  \n",
    "bet_cp_tot_anom_enln_wrs_pval, bet_cp_tot_anom_enln_wrs_ptf,  \n",
    "bettoskj_cp_tot_anom_enln_wrs_pval, bettoskj_cp_tot_anom_enln_wrs_ptf"
   ]
  },
  {
   "cell_type": "code",
   "execution_count": null,
   "metadata": {},
   "outputs": [],
   "source": [
    "alphafdr = 0.1\n",
    "\n",
    "skj_cp_tot_anom_enln_wrs_pval = wrspvalmap_loop(\n",
    "    skj_cp_tot_anom[onienln==1],skj_cp_tot_anom[onienln==-1],'skj_cp_tot_anom_enln')\n",
    "skj_cp_tot_anom_enln_wrs_ptf = controlfdr2d(skj_cp_tot_anom_enln_wrs_pval,alphafdr) \n",
    "\n",
    "bet_cp_tot_anom_enln_wrs_pval = wrspvalmap_loop(\n",
    "    bet_cp_tot_anom[onienln==1],bet_cp_tot_anom[onienln==-1],'bet_cp_tot_anom_enln')\n",
    "bet_cp_tot_anom_enln_wrs_ptf = controlfdr2d(bet_cp_tot_anom_enln_wrs_pval,alphafdr) \n",
    "\n",
    "bettoskj_cp_tot_anom_enln_wrs_pval = wrspvalmap_loop(\n",
    "    bettoskj_cp_tot_anom[onienln==1],bettoskj_cp_tot_anom[onienln==-1],'bettoskj_cp_tot_anom_enln')\n",
    "bettoskj_cp_tot_anom_enln_wrs_ptf = controlfdr2d(bettoskj_cp_tot_anom_enln_wrs_pval,alphafdr)"
   ]
  },
  {
   "cell_type": "markdown",
   "metadata": {},
   "source": [
    "# Calculate total and deseasonalized stdevs of total (over all set types) SKJ + BET CPUE, BET:SKJ CPUE"
   ]
  },
  {
   "cell_type": "markdown",
   "metadata": {},
   "source": [
    "Variables calced are:  \n",
    "skj_cp_tot_std, bet_cp_tot_std, bettoskj_cp_tot_std,  \n",
    "skj_cp_tot_anom_std, bet_cp_tot_anom_std, bettoskj_cp_tot_anom_std"
   ]
  },
  {
   "cell_type": "code",
   "execution_count": null,
   "metadata": {},
   "outputs": [],
   "source": [
    "# - The following are 2-D (lon, lat):\n",
    "\n",
    "skj_cp_tot_std = skj_cp_tot.std('time')\n",
    "bet_cp_tot_std = bet_cp_tot.std('time')\n",
    "bettoskj_cp_tot_std = bettoskj_cp_tot.std('time')\n",
    "\n",
    "skj_cp_tot_anom_std = skj_cp_tot_anom.std('time')\n",
    "bet_cp_tot_anom_std = bet_cp_tot_anom.std('time')\n",
    "bettoskj_cp_tot_anom_std = bettoskj_cp_tot_anom.std('time')"
   ]
  }
 ],
 "metadata": {
  "kernelspec": {
   "display_name": "Python 3",
   "language": "python",
   "name": "python3"
  },
  "language_info": {
   "codemirror_mode": {
    "name": "ipython",
    "version": 3
   },
   "file_extension": ".py",
   "mimetype": "text/x-python",
   "name": "python",
   "nbconvert_exporter": "python",
   "pygments_lexer": "ipython3",
   "version": "3.7.3"
  }
 },
 "nbformat": 4,
 "nbformat_minor": 4
}
