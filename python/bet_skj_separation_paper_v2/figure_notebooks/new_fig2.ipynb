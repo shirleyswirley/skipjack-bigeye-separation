{
 "cells": [
  {
   "cell_type": "code",
   "execution_count": 36,
   "metadata": {},
   "outputs": [],
   "source": [
    "# - Decide if plotting absolutes or normalized\n",
    "# by total in main notebook code\n",
    "#absnormnow = 'abs' # choose: abs, norm"
   ]
  },
  {
   "cell_type": "code",
   "execution_count": null,
   "metadata": {},
   "outputs": [],
   "source": [
    "# - Define subplot-variable plot params\n",
    "if absnormnow=='abs':\n",
    "    unitsnow = 4*['[metric tons/set]','[metric tons/set]','']\n",
    "    vminsnow = 4*[0, 0, 0] \n",
    "    vmaxsnow = 4*[50, 8, 0.3] \n",
    "    #vminsnow = 4*[skj_cp_tot_std.min(), bet_cp_tot_std.min(), 0] \n",
    "    #vmaxsnow = 4*[skj_cp_tot_std.max(), bet_cp_tot_std.max(), 0.4] \n",
    "    mapsnow = [skj_cp_tot_std, bet_cp_tot_std, bettoskj_cp_tot_std,\n",
    "               skj_cp_tot_clim_std, bet_cp_tot_clim_std, bettoskj_cp_tot_clim_std,\n",
    "               skj_cp_tot_anom_std, bet_cp_tot_anom_std, bettoskj_cp_tot_anom_std,\n",
    "               skj_cp_tot_anom_enln_std, bet_cp_tot_anom_enln_std, bettoskj_cp_tot_anom_enln_std] \n",
    "elif absnormnow=='norm':\n",
    "    unitsnow = ['[metric tons/set]','[metric tons/set]','',\n",
    "                'Fraction of total σ','Fraction of total σ','Fraction of total σ',\n",
    "                'Fraction of total σ','Fraction of total σ','Fraction of total σ',\n",
    "                'Fraction of total σ','Fraction of total σ','Fraction of total σ']\n",
    "    vminsnow = [skj_cp_tot_std.min(), bet_cp_tot_std.min(), 0,\n",
    "                0,0,0,0,0,0,0,0,0] \n",
    "    vmaxsnow = [skj_cp_tot_std.max(), bet_cp_tot_std.max(), 0.4,\n",
    "                1,1,1,1,1,1,1,1,1] \n",
    "    mapsnow = [skj_cp_tot_std, bet_cp_tot_std, bettoskj_cp_tot_std,\n",
    "               skj_cp_tot_clim_std/skj_cp_tot_std,\n",
    "               bet_cp_tot_clim_std/bet_cp_tot_std,\n",
    "               bettoskj_cp_tot_clim_std/bettoskj_cp_tot_std,\n",
    "               skj_cp_tot_anom_std/skj_cp_tot_std,\n",
    "               bet_cp_tot_anom_std/bet_cp_tot_std,\n",
    "               bettoskj_cp_tot_anom_std/bettoskj_cp_tot_std,\n",
    "               skj_cp_tot_anom_enln_std/skj_cp_tot_std,\n",
    "               bet_cp_tot_anom_enln_std/bet_cp_tot_std,\n",
    "               bettoskj_cp_tot_anom_enln_std/bettoskj_cp_tot_std] \n",
    "\n",
    "cmsnow = 12*[cm.viridis]\n",
    "ploteezsnow = 12*[0]\n",
    "titlesnow = ['SKJ CPUE total σ', 'BET CPUE total σ',\n",
    "             'BET:SKJ CPUE total σ',\n",
    "             'SKJ CPUE climatological σ', 'BET CPUE climatological σ',\n",
    "             'BET:SKJ CPUE climatological σ',\n",
    "             'SKJ CPUE monthly anomalous σ', 'BET CPUE monthly anomalous σ',\n",
    "             'BET:SKJ CPUE monthly anomalous σ',\n",
    "             'SKJ CPUE ENSO anomalous σ', 'BET CPUE ENSO anomalous σ',\n",
    "             'BET:SKJ CPUE ENSO anomalous σ']"
   ]
  },
  {
   "cell_type": "code",
   "execution_count": null,
   "metadata": {},
   "outputs": [],
   "source": [
    "# - Set proj and define axes\n",
    "fig,axes = plt.subplots(nrows=4, ncols=3, figsize=(16,15),\n",
    "    subplot_kw={'projection': ccrs.PlateCarree(central_longitude=200)})\n",
    "\n",
    "# - Make maps pretty + plot\n",
    "isp = 0\n",
    "for irow in range(axes.shape[0]):\n",
    "    for icol in range(axes.shape[1]):\n",
    "        ax = axes[irow][icol]\n",
    "        exec(open('helper_scripts/create_map_bgs.py').read())\n",
    "        \n",
    "        mapsnow[isp].plot(\n",
    "            ax=ax, transform=ccrs.PlateCarree(), cmap=cmsnow[isp],\n",
    "            vmin=vminsnow[isp], vmax=vmaxsnow[isp],\n",
    "            cbar_kwargs={'pad': 0.02, 'label': unitsnow[isp]})\n",
    "        \n",
    "        if ploteezsnow[isp]==1:\n",
    "            nueezs.plot(ax=ax, transform=ccrs.PlateCarree(),\n",
    "                color=eezfcnow, edgecolor=eezlcnow, linewidth=eezlwnow)\n",
    "            \n",
    "        ax.set_xlabel(''); ax.set_ylabel('')\n",
    "        ax.set_title(titlesnow[isp])\n",
    "        isp = isp + 1\n",
    "        \n",
    "fig.savefig(figpath + 'new_mainfig2_stdevs_' + absnormnow + '_maps.png',\n",
    "            bbox_inches='tight', pad_inches = 0, dpi = 200)"
   ]
  }
 ],
 "metadata": {
  "kernelspec": {
   "display_name": "Python 3",
   "language": "python",
   "name": "python3"
  },
  "language_info": {
   "codemirror_mode": {
    "name": "ipython",
    "version": 3
   },
   "file_extension": ".py",
   "mimetype": "text/x-python",
   "name": "python",
   "nbconvert_exporter": "python",
   "pygments_lexer": "ipython3",
   "version": "3.7.3"
  }
 },
 "nbformat": 4,
 "nbformat_minor": 4
}
