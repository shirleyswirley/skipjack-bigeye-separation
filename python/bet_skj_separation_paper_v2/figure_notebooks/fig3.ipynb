{
 "cells": [
  {
   "cell_type": "code",
   "execution_count": null,
   "metadata": {},
   "outputs": [],
   "source": [
    "# - Define plot params\n",
    "dfallvarsnow = dfallvars.dropna(subset=['skj_cp_tot',\n",
    "    'bet_cp_tot','bettoskj_cp_tot'], how='any')\n",
    "# ...keep only rows where bettoskj_cp_tot is\n",
    "# not nan to make plotting faster\n",
    "colornow = dfallvarsnow['oni']\n",
    "sizenow = 20\n",
    "alphanow = 0.5"
   ]
  },
  {
   "cell_type": "code",
   "execution_count": null,
   "metadata": {},
   "outputs": [],
   "source": [
    "unitsnow = '[metric tons/set]'\n",
    "fig,axes = plt.subplots(nrows=1, ncols=3, figsize = (9, 2.95))\n",
    "\n",
    "# - bettoskj vs. skj\n",
    "sc = axes[0].scatter(dfallvarsnow['skj_cp_tot'], dfallvarsnow['bettoskj_cp_tot'],\n",
    "                 c=colornow, vmin=-abs(colornow).max(), vmax=abs(colornow).max(),\n",
    "                 s=sizenow, alpha=alphanow, cmap=cm.seismic)\n",
    "axes[0].set_xlabel('SKJ CPUE ' + unitsnow)\n",
    "axes[0].set_ylabel('BET:SKJ CPUE')\n",
    "axes[0].set_xticks(np.arange(0, 76, 25))\n",
    "\n",
    "# - bettoskj vs. longitude\n",
    "sc = axes[1].scatter(dfallvarsnow['lon'], dfallvarsnow['bettoskj_cp_tot'],\n",
    "                 c=colornow, vmin=-abs(colornow).max(), vmax=abs(colornow).max(),\n",
    "                 s=sizenow, alpha=alphanow, cmap=cm.seismic)\n",
    "axes[1].set_xlabel('Longitude')\n",
    "axes[1].set_ylabel('BET:SKJ CPUE')\n",
    "xticksnow = np.arange(125, 201, 25)\n",
    "xticklabelsnow = []\n",
    "for tick in xticksnow:\n",
    "    if tick<180:\n",
    "        xticklabelsnow.append(str(tick) + '°E')\n",
    "    elif tick>180:\n",
    "        xticklabelsnow.append(str(360-tick) + '°W')\n",
    "    elif tick==180:\n",
    "        xticklabelsnow.append(str(tick) + '°')\n",
    "axes[1].set_xticks(xticksnow)\n",
    "axes[1].set_xticklabels(xticklabelsnow)\n",
    "axes[1].tick_params(axis ='x', rotation = -45) \n",
    "\n",
    "# - bettoskj vs. latitude\n",
    "sc = axes[2].scatter(dfallvarsnow['lat'],dfallvarsnow['bettoskj_cp_tot'],\n",
    "                 c=colornow, vmin=-abs(colornow).max(), vmax=abs(colornow).max(),\n",
    "                 s=sizenow, alpha=alphanow, cmap=cm.seismic)\n",
    "axes[2].set_xlabel('Latitude')\n",
    "axes[2].set_ylabel('BET:SKJ CPUE');\n",
    "xticksnow = np.arange(-40, 41, 20)\n",
    "xticklabelsnow = []\n",
    "for tick in xticksnow:\n",
    "    if tick<0:\n",
    "        xticklabelsnow.append(str(abs(tick)) + '°S')\n",
    "    elif tick>0:\n",
    "        xticklabelsnow.append(str(tick) + '°N')\n",
    "    elif tick==0:\n",
    "        xticklabelsnow.append(str(tick) + '°')\n",
    "axes[2].set_xticks(xticksnow)\n",
    "axes[2].set_xticklabels(xticklabelsnow)\n",
    "axes[2].tick_params(axis ='x', rotation = -45) \n",
    "\n",
    "fig.tight_layout()\n",
    "fig.subplots_adjust(right=0.95)\n",
    "cbar_ax = fig.add_axes([0.98, 0.3, 0.02, 0.65]) #[x0, y0, width, height] \n",
    "fig.colorbar(sc, cax=cbar_ax, label='ONI [°C]')\n",
    "\n",
    "fig.savefig(figpath + 'mainfig3_b2svsscpue_totals_coloredbyoni.png',\n",
    "            bbox_inches='tight', pad_inches = 0.05, dpi = 200)"
   ]
  }
 ],
 "metadata": {
  "kernelspec": {
   "display_name": "Python 3",
   "language": "python",
   "name": "python3"
  },
  "language_info": {
   "codemirror_mode": {
    "name": "ipython",
    "version": 3
   },
   "file_extension": ".py",
   "mimetype": "text/x-python",
   "name": "python",
   "nbconvert_exporter": "python",
   "pygments_lexer": "ipython3",
   "version": "3.7.3"
  }
 },
 "nbformat": 4,
 "nbformat_minor": 4
}
