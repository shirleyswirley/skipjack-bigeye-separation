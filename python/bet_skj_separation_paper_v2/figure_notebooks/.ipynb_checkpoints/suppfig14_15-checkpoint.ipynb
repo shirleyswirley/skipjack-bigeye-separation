{
 "cells": [
  {
   "cell_type": "code",
   "execution_count": 36,
   "metadata": {},
   "outputs": [],
   "source": [
    "# - Decide if plotting climatology or anom ENSO\n",
    "# standard deviations in main notebook code\n",
    "#stdevtypenow = 'anom_enln' # choose: anom_enln, clim"
   ]
  },
  {
   "cell_type": "code",
   "execution_count": null,
   "metadata": {},
   "outputs": [],
   "source": [
    "# - Define subplot-variable plot params\n",
    "if stdevtypenow=='anom_enln':\n",
    "    mapsnow = [sst_anom_enln_std, temp100_anom_enln_std, tcd_anom_enln_std,\n",
    "               sss_anom_enln_std, o2100_anom_enln_std, po2100_anom_enln_std,\n",
    "               thd_anom_enln_std, np.log10(chl_anom_enln_std), mld_anom_enln_std,\n",
    "               ssha_anom_enln_std]\n",
    "    titlesuffixnow = ' ENSO anomalous σ'\n",
    "elif stdevtypenow=='clim':\n",
    "    #vminsnow = [skj_cp_tot_std.min(), bet_cp_tot_std.min(), 0,\n",
    "    #            0,0,0,0,0,0,0,0,0] \n",
    "    #vmaxsnow = [skj_cp_tot_std.max(), bet_cp_tot_std.max(), 0.4,\n",
    "    #            1,1,1,1,1,1,1,1,1] \n",
    "    mapsnow = [sst_clim_std, temp100_clim_std, tcd_clim_std,\n",
    "               sss_clim_std, o2100_clim_std, po2100_clim_std,\n",
    "               thd_clim_std, np.log10(chl_clim_std), mld_clim_std,\n",
    "               ssha_clim_std]\n",
    "    titlesuffixnow = ' climatological σ'\n",
    "    \n",
    "cmsnow = 12*[cm.viridis]\n",
    "ploteezsnow = 12*[0]\n",
    "unitsnow = ['°C','°C','m','psu',\n",
    "            'umol/kg','kPa','m',\n",
    "            'log(mg/m$^3$)','m','cm']\n",
    "#titlesnow = ['Sea surface temperature (SST)','T$_{100m}$',\n",
    "#             'Thermocline depth (TCD)','Sea surface salinity (SSS)',\n",
    "#             'O$_{2,100m}$','PO$_{2,100m}$','Tuna hypoxic depth (THD)',\n",
    "#             'log(Chorophyll a)','Mixed layer depth (MLD)',\n",
    "#             'Sea surface height anomaly (SSHA)']\n",
    "titlesnow = ['SST','T$_{100m}$','TCD','SSS',\n",
    "             'O$_{2,100m}$','PO$_{2,100m}$','THD',\n",
    "             'CHL','MLD','SSHA']"
   ]
  },
  {
   "cell_type": "code",
   "execution_count": null,
   "metadata": {},
   "outputs": [],
   "source": [
    "# - Set proj and define axes\n",
    "fig,axes = plt.subplots(nrows=4, ncols=3, figsize=(16,15),\n",
    "    subplot_kw={'projection': ccrs.PlateCarree(central_longitude=200)})\n",
    "\n",
    "# - Make maps pretty + plot\n",
    "isp = 0\n",
    "for irow in range(axes.shape[0]):\n",
    "    for icol in range(axes.shape[1]):\n",
    "        ax = axes[irow][icol]\n",
    "        exec(open('helper_scripts/create_map_bgs.py').read())\n",
    "        \n",
    "        mapsnow[isp].plot(\n",
    "            ax=ax, transform=ccrs.PlateCarree(), cmap=cmsnow[isp],\n",
    "            #vmin=vminsnow[isp], vmax=vmaxsnow[isp],\n",
    "            cbar_kwargs={'pad': 0.02, 'label': unitsnow[isp]})\n",
    "        \n",
    "        if ploteezsnow[isp]==1:\n",
    "            nueezs.plot(ax=ax, transform=ccrs.PlateCarree(),\n",
    "                color=eezfcnow, edgecolor=eezlcnow, linewidth=eezlwnow)\n",
    "            \n",
    "        ax.set_xlabel(''); ax.set_ylabel('')\n",
    "        ax.set_title(titlesnow[isp] + titlesuffixnow)\n",
    "        isp = isp + 1\n",
    "        \n",
    "#fig.savefig(figpath + 'new_mainfig2_stdevs_' + absnormnow + '_maps.png',\n",
    "#            bbox_inches='tight', pad_inches = 0, dpi = 200)"
   ]
  }
 ],
 "metadata": {
  "kernelspec": {
   "display_name": "Python 3",
   "language": "python",
   "name": "python3"
  },
  "language_info": {
   "codemirror_mode": {
    "name": "ipython",
    "version": 3
   },
   "file_extension": ".py",
   "mimetype": "text/x-python",
   "name": "python",
   "nbconvert_exporter": "python",
   "pygments_lexer": "ipython3",
   "version": "3.7.3"
  }
 },
 "nbformat": 4,
 "nbformat_minor": 4
}
