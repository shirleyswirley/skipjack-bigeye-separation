{
 "cells": [
  {
   "cell_type": "markdown",
   "metadata": {},
   "source": [
    "# Group EN/LN/all values over EEZs"
   ]
  },
  {
   "cell_type": "code",
   "execution_count": 30,
   "metadata": {},
   "outputs": [],
   "source": [
    "nueezsnow = ['Palau','Micronesia','Papua New Guinea','Solomon Islands','Nauru','Marshall Islands',\n",
    "          'Kiribati (Gilbert Islands)','Tuvalu','Kiribati (Phoenix Islands)','Kiribati (Line Islands)'];\n",
    "nueezsnow_abbrev = ['PLW','FSM','PNG','SLB','NRU','MHL','KIR-G','TUV','KIR-P','KIR-L']\n",
    "alphafdr = 0.1\n",
    "\n",
    "skj_cp_tot_all_nueezs,skj_cp_tot_en_nueezs,skj_cp_tot_ln_nueezs,skj_cp_tot_enlnwrspv_nueezs = \\\n",
    "    get_allenln_eezmask_enlnwrspval(skj_cp_tot, nueezsnow, nueezmask, df_nuenn)\n",
    "skj_cp_tot_enlnwrsptf_nueezs = controlfdr1d(skj_cp_tot_enlnwrspv_nueezs,alphafdr)\n",
    "skj_cp_tot_enlnwrssignifidxs_nueezs = np.where(skj_cp_tot_enlnwrspv_nueezs<skj_cp_tot_enlnwrsptf_nueezs)[0]\n",
    "\n",
    "bet_cp_tot_all_nueezs,bet_cp_tot_en_nueezs,bet_cp_tot_ln_nueezs,bet_cp_tot_enlnwrspv_nueezs = \\\n",
    "    get_allenln_eezmask_enlnwrspval(bet_cp_tot, nueezsnow, nueezmask, df_nuenn)\n",
    "bet_cp_tot_enlnwrsptf_nueezs = controlfdr1d(skj_cp_tot_enlnwrspv_nueezs,alphafdr)\n",
    "bet_cp_tot_enlnwrssignifidxs_nueezs = np.where(skj_cp_tot_enlnwrspv_nueezs<skj_cp_tot_enlnwrsptf_nueezs)[0]\n",
    "\n",
    "bettoskj_cp_tot_all_nueezs,bettoskj_cp_tot_en_nueezs,bettoskj_cp_tot_ln_nueezs,bettoskj_cp_tot_enlnwrspv_nueezs = \\\n",
    "    get_allenln_eezmask_enlnwrspval(bettoskj_cp_tot, nueezsnow, nueezmask, df_nuenn)\n",
    "bettoskj_cp_tot_enlnwrsptf_nueezs = controlfdr1d(bettoskj_cp_tot_enlnwrspv_nueezs,alphafdr)\n",
    "bettoskj_cp_tot_enlnwrssignifidxs_nueezs = np.where(bettoskj_cp_tot_enlnwrspv_nueezs<bettoskj_cp_tot_enlnwrsptf_nueezs)[0]\n",
    "\n",
    "skjmbet_cp_tot_all_nueezs,skjmbet_cp_tot_en_nueezs,skjmbet_cp_tot_ln_nueezs,skjmbet_cp_tot_enlnwrspv_nueezs = \\\n",
    "    get_allenln_eezmask_enlnwrspval(skj_cp_tot-bet_cp_tot, nueezsnow, nueezmask, df_nuenn)\n",
    "skjmbet_cp_tot_enlnwrsptf_nueezs = controlfdr1d(skjmbet_cp_tot_enlnwrspv_nueezs,alphafdr)\n",
    "skjmbet_cp_tot_enlnwrssignifidxs_nueezs = np.where(skjmbet_cp_tot_enlnwrspv_nueezs<skjmbet_cp_tot_enlnwrsptf_nueezs)[0]"
   ]
  },
  {
   "cell_type": "markdown",
   "metadata": {},
   "source": [
    "# Boxplot EN/all/LN values over EEZs"
   ]
  },
  {
   "cell_type": "code",
   "execution_count": null,
   "metadata": {},
   "outputs": [],
   "source": [
    "ticks = nueezsnow_abbrev\n",
    "fig,axes=plt.subplots(nrows=3,ncols=1,figsize=(6,10))\n",
    "\n",
    "# - SKJ CPUE\n",
    "axnow = axes[0]\n",
    "titlenow = 'SKJ catch within PNA EEZs'\n",
    "unitsnow = 'Catch [metric tons]'\n",
    "ennow = skj_cp_tot_en_nueezs\n",
    "allnow = skj_cp_tot_all_nueezs\n",
    "lnnow = skj_cp_tot_ln_nueezs\n",
    "plotlegend=1; setylimnow=1; yminnow, ymaxnow = 0, 66\n",
    "plotsignif=1; signifmarkpos=-1; signifmarkcolnow='black'\n",
    "signifidxsnow = skj_cp_tot_enlnwrssignifidxs_nueezs \n",
    "exec(open('helper_scripts/enln_boxplots.py').read())\n",
    "\n",
    "# - BET CPUE\n",
    "axnow = axes[1]\n",
    "titlenow = 'BET catch within PNA EEZs'\n",
    "unitsnow = 'Catch [metric tons]'\n",
    "ennow = bet_cp_tot_en_nueezs\n",
    "allnow = bet_cp_tot_all_nueezs\n",
    "lnnow = bet_cp_tot_ln_nueezs\n",
    "plotlegend=1; setylimnow=1; yminnow, ymaxnow = 0, 17 \n",
    "plotsignif=1; signifmarkpos=-1; signifmarkcolnow='black'\n",
    "signifidxsnow = bet_cp_tot_enlnwrssignifidxs_nueezs \n",
    "exec(open('helper_scripts/enln_boxplots.py').read())\n",
    "\n",
    "# - BET:SKJ CPUE\n",
    "axnow = axes[2]\n",
    "titlenow = 'BET:SKJ CPUE within PNA EEZs'\n",
    "unitsnow = ''\n",
    "ennow = bettoskj_cp_tot_en_nueezs\n",
    "allnow = bettoskj_cp_tot_all_nueezs\n",
    "lnnow = bettoskj_cp_tot_ln_nueezs\n",
    "plotlegend=1; setylimnow=1; yminnow, ymaxnow = 0, 0.32\n",
    "plotsignif=1; signifmarkpos=-1; signifmarkcolnow='black'\n",
    "signifidxsnow = bettoskj_cp_tot_enlnwrssignifidxs_nueezs \n",
    "exec(open('helper_scripts/enln_boxplots.py').read())\n",
    "\n",
    "fig.savefig(figpath + 'mainfig5_bscpue_ensoboxplot.png', bbox_inches='tight', pad_inches = 0, dpi = 200)"
   ]
  }
 ],
 "metadata": {
  "kernelspec": {
   "display_name": "Python 3",
   "language": "python",
   "name": "python3"
  },
  "language_info": {
   "codemirror_mode": {
    "name": "ipython",
    "version": 3
   },
   "file_extension": ".py",
   "mimetype": "text/x-python",
   "name": "python",
   "nbconvert_exporter": "python",
   "pygments_lexer": "ipython3",
   "version": "3.7.3"
  }
 },
 "nbformat": 4,
 "nbformat_minor": 4
}
