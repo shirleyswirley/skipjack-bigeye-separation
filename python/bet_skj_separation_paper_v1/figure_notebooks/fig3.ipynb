{
 "cells": [
  {
   "cell_type": "code",
   "execution_count": null,
   "metadata": {},
   "outputs": [],
   "source": [
    "# - CREATE SCATTERPLOTS OF BET:SKJ CPUE VS. SKJ CPUE (totals), LON, LAT\n",
    "unitsnow = '[metric tons/set]'\n",
    "fig,axes = plt.subplots(nrows=1, ncols=3, figsize = (9, 2.25))\n",
    "\n",
    "# - color by oni\n",
    "colornow = df_tot_nn['oni']\n",
    "\n",
    "# - bettoskj vs. skj\n",
    "sc = axes[0].scatter(df_tot_nn['skj_cp_tot'], df_tot_nn['bettoskj_cp_tot'],\n",
    "                 c=colornow, vmin=-abs(colornow).max(), vmax=abs(colornow).max(),\n",
    "                 s=10, alpha=0.5, cmap=cm.seismic)\n",
    "plt.colorbar(sc, ax=axes[0], label='ONI [°C]')\n",
    "axes[0].set_xlabel('SKJ CPUE ' + unitsnow)\n",
    "axes[0].set_ylabel('BET:SKJ CPUE')\n",
    "\n",
    "# - bettoskj vs. longitude\n",
    "sc = axes[1].scatter(df_tot_nn['lon'], df_tot_nn['bettoskj_cp_tot'],\n",
    "                 c=colornow, vmin=-abs(colornow).max(), vmax=abs(colornow).max(),\n",
    "                 s=10, alpha=0.5, cmap=cm.seismic)\n",
    "plt.colorbar(sc, ax=axes[1], label='ONI [°C]')\n",
    "axes[1].set_xlabel('Longitude')\n",
    "axes[1].set_ylabel('BET:SKJ CPUE')\n",
    "\n",
    "# - bettoskj vs. latitude\n",
    "sc = axes[2].scatter(df_tot_nn['lat'],df_tot_nn['bettoskj_cp_tot'],\n",
    "                 c=colornow, vmin=-abs(colornow).max(), vmax=abs(colornow).max(),\n",
    "                 s=10, alpha=0.5, cmap=cm.seismic)\n",
    "plt.colorbar(sc, ax=axes[2], label='ONI [°C]')\n",
    "axes[2].set_xlabel('Latitude')\n",
    "axes[2].set_ylabel('BET:SKJ CPUE');\n",
    "\n",
    "fig.tight_layout()\n",
    "fig.savefig(figpath + 'mainfig3_b2svsscpue_totals_coloredbyoni.png', bbox_inches='tight', pad_inches = 0.05, dpi = 200)"
   ]
  }
 ],
 "metadata": {
  "kernelspec": {
   "display_name": "Python 3",
   "language": "python",
   "name": "python3"
  },
  "language_info": {
   "codemirror_mode": {
    "name": "ipython",
    "version": 3
   },
   "file_extension": ".py",
   "mimetype": "text/x-python",
   "name": "python",
   "nbconvert_exporter": "python",
   "pygments_lexer": "ipython3",
   "version": "3.7.3"
  }
 },
 "nbformat": 4,
 "nbformat_minor": 4
}
