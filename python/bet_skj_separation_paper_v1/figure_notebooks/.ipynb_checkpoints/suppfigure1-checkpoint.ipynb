{
 "cells": [
  {
   "cell_type": "code",
   "execution_count": null,
   "metadata": {},
   "outputs": [],
   "source": [
    "ivunitsall = ['degC','degC','m','psu',\n",
    "              'umol/kg','kPa','m',\n",
    "              'log(mg/m$^3$)','m','cm']\n",
    "ivnicenamesall = ['SST','T$_{100m}$','TCD','SSS',\n",
    "                  'O$_{2,100m}$','PO$_{2,100m}$','THD',\n",
    "                  'log(CHL)','MLD','SSHA']\n",
    "dvnicenamesall = ['Skipjack CPUE','Skipjack CPUE','Skipjack CPUE','Skipjack CPUE',\n",
    "                  'Skipjack CPUE','Skipjack CPUE','Skipjack CPUE',\n",
    "                  'Skipjack CPUE','Skipjack CPUE','Skipjack CPUE']\n",
    "ivall = [iv_sstskjcp, iv_temp100skjcp, iv_tcdskjcp, iv_sssskjcp,\n",
    "         iv_o2100skjcp, iv_po2100skjcp, iv_thdskjcp,\n",
    "         iv_logchlskjcp, iv_mldskjcp, iv_sshaskjcp]\n",
    "binedgesall = [binedges_sstskjcp, binedges_temp100skjcp, binedges_tcdskjcp, binedges_sssskjcp,\n",
    "               binedges_o2100skjcp, binedges_po2100skjcp, binedges_thdskjcp,\n",
    "               binedges_logchlskjcp, binedges_mldskjcp, binedges_sshaskjcp]\n",
    "bincentersall = [bincenters_sstskjcp, bincenters_temp100skjcp, bincenters_tcdskjcp, bincenters_sssskjcp,\n",
    "                 bincenters_o2100skjcp, bincenters_po2100skjcp, bincenters_thdskjcp,\n",
    "                 bincenters_logchlskjcp, bincenters_mldskjcp, bincenters_sshaskjcp]\n",
    "ivcountsall = [ivcounts_sstskjcp, ivcounts_temp100skjcp, ivcounts_tcdskjcp, ivcounts_sssskjcp,\n",
    "               ivcounts_o2100skjcp, ivcounts_po2100skjcp, ivcounts_thdskjcp,\n",
    "               ivcounts_logchlskjcp, ivcounts_mldskjcp, ivcounts_sshaskjcp]\n",
    "dvcountsall = [dvcounts_sstskjcp, dvcounts_temp100skjcp, dvcounts_tcdskjcp, dvcounts_sssskjcp,\n",
    "               dvcounts_o2100skjcp, dvcounts_po2100skjcp, dvcounts_thdskjcp,\n",
    "               dvcounts_logchlskjcp, dvcounts_mldskjcp, dvcounts_sshaskjcp]\n",
    "dvquotall = [dvquot_sstskjcp, dvquot_temp100skjcp, dvquot_tcdskjcp, dvquot_sssskjcp,\n",
    "             dvquot_o2100skjcp, dvquot_po2100skjcp, dvquot_thdskjcp,\n",
    "             dvquot_logchlskjcp, dvquot_mldskjcp, dvquot_sshaskjcp]\n",
    "qlimsreplaceTall = [qlimsreplaceT_sstskjcp, qlimsreplaceT_temp100skjcp, qlimsreplaceT_tcdskjcp, qlimsreplaceT_sssskjcp,\n",
    "             qlimsreplaceT_o2100skjcp, qlimsreplaceT_po2100skjcp, qlimsreplaceT_thdskjcp,\n",
    "             qlimsreplaceT_logchlskjcp, qlimsreplaceT_mldskjcp, qlimsreplaceT_sshaskjcp]\n",
    "qlimsreplaceFall = [qlimsreplaceT_sstskjcp, qlimsreplaceT_temp100skjcp, qlimsreplaceT_tcdskjcp, qlimsreplaceT_sssskjcp,\n",
    "             qlimsreplaceT_o2100skjcp, qlimsreplaceT_po2100skjcp, qlimsreplaceT_thdskjcp,\n",
    "             qlimsreplaceT_logchlskjcp, qlimsreplaceT_mldskjcp, qlimsreplaceT_sshaskjcp]"
   ]
  },
  {
   "cell_type": "code",
   "execution_count": null,
   "metadata": {},
   "outputs": [],
   "source": [
    "plotbarorhist='bar'; plotlegend=1;\n",
    "plotqlimsreplaceT=1; plotqlimsreplaceF=0\n",
    "nrows=5; ncols=2\n",
    "fig,axes = plt.subplots(nrows=nrows, ncols=ncols, figsize=(16,18))\n",
    "isp = 0 # subplot index\n",
    "for yax in range(0,nrows):\n",
    "    for xax in range(0,ncols):\n",
    "        ivunits = ivunitsall[isp]\n",
    "        ivnicename = ivnicenamesall[isp]; dvnicename = dvnicenamesall[isp]\n",
    "        iv = ivall[isp]\n",
    "        binedges = binedgesall[isp]; bincenters = bincentersall[isp]\n",
    "        ivcounts = ivcountsall[isp]; dvcounts = dvcountsall[isp]\n",
    "        dvquot = dvquotall[isp]\n",
    "        qlimsreplaceT = qlimsreplaceTall[isp]; qlimsreplaceF = qlimsreplaceFall[isp]\n",
    "        if ncols>1 and nrows>1:\n",
    "            ax = axes[yax][xax]\n",
    "        elif ncols==1 and nrows>1:\n",
    "            ax = axes[yax] \n",
    "        elif ncols>1 and nrows==1:\n",
    "            ax = axes[xax] \n",
    "        exec(open(\"helper_scripts/plot_qa.py\").read())\n",
    "        isp = isp+1\n",
    "fig.tight_layout()\n",
    "fig.savefig(figpath + 'suppfig1_skjcpue_quotientanalysis.png', bbox_inches='tight', pad_inches = 0, dpi = 200)"
   ]
  }
 ],
 "metadata": {
  "kernelspec": {
   "display_name": "Python 3",
   "language": "python",
   "name": "python3"
  },
  "language_info": {
   "codemirror_mode": {
    "name": "ipython",
    "version": 3
   },
   "file_extension": ".py",
   "mimetype": "text/x-python",
   "name": "python",
   "nbconvert_exporter": "python",
   "pygments_lexer": "ipython3",
   "version": "3.7.3"
  }
 },
 "nbformat": 4,
 "nbformat_minor": 4
}
