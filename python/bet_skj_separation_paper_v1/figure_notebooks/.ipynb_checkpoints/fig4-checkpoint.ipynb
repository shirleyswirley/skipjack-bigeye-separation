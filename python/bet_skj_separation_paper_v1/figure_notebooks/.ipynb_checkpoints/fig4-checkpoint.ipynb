{
 "cells": [
  {
   "cell_type": "markdown",
   "metadata": {},
   "source": [
    "# Compute EN vs. LN p-val maps"
   ]
  },
  {
   "cell_type": "code",
   "execution_count": 18,
   "metadata": {},
   "outputs": [],
   "source": [
    "alphafdr = 0.1\n",
    "\n",
    "skj_cp_tot_anom_enln_wrs_pval = wrspvalmap_loop(\n",
    "    skj_cp_tot_anom[onienln==1],skj_cp_tot_anom[onienln==-1],'skj_cp_tot_anom_enln')\n",
    "skj_cp_tot_anom_enln_wrs_ptf = controlfdr2d(skj_cp_tot_anom_enln_wrs_pval,alphafdr) \n",
    "\n",
    "bet_cp_tot_anom_enln_wrs_pval = wrspvalmap_loop(\n",
    "    bet_cp_tot_anom[onienln==1],bet_cp_tot_anom[onienln==-1],'bet_cp_tot_anom_enln')\n",
    "bet_cp_tot_anom_enln_wrs_ptf = controlfdr2d(bet_cp_tot_anom_enln_wrs_pval,alphafdr) \n",
    "\n",
    "bettoskj_cp_tot_anom_enln_wrs_pval = wrspvalmap_loop(\n",
    "    bettoskj_cp_tot_anom[onienln==1],bettoskj_cp_tot_anom[onienln==-1],'bettoskj_cp_tot_anom_enln')\n",
    "bettoskj_cp_tot_anom_enln_wrs_ptf = controlfdr2d(bettoskj_cp_tot_anom_enln_wrs_pval,alphafdr)"
   ]
  },
  {
   "cell_type": "markdown",
   "metadata": {},
   "source": [
    "# Plot"
   ]
  },
  {
   "cell_type": "code",
   "execution_count": null,
   "metadata": {},
   "outputs": [],
   "source": [
    "# - Define constant plot params\n",
    "stipsizenow = 10\n",
    "stipmarknow = 'o'\n",
    "stipfacecolnow = 'none'\n",
    "stipedgeltcolnow = 'lightgray'\n",
    "stipedgedkcolnow = 'darkslategray'\n",
    "stipewnow = 0.5 # marker edge width\n",
    "cmnow = cm.PuOr\n",
    "extendnow = 'both'"
   ]
  },
  {
   "cell_type": "code",
   "execution_count": null,
   "metadata": {},
   "outputs": [],
   "source": [
    "# - Define subplot-variable plot params\n",
    "stipltdkcosnow = 0.5*np.asarray(vmaxsnow) # light/dark stip cutoff value\n",
    "mapsnow = [skj_cp_tot_anom[onienln==1].mean(dim='time'),\n",
    "           bet_cp_tot_anom[onienln==1].mean(dim='time'),\n",
    "           bettoskj_cp_tot_anom[onienln==1].mean(dim='time'),\n",
    "           skj_cp_tot_anom[onienln==-1].mean(dim='time'),\n",
    "           bet_cp_tot_anom[onienln==-1].mean(dim='time'),\n",
    "           bettoskj_cp_tot_anom[onienln==-1].mean(dim='time')]\n",
    "pvsnow = [skj_cp_tot_anom_enln_wrs_pval,\n",
    "          bet_cp_tot_anom_enln_wrs_pval,\n",
    "          bettoskj_cp_tot_anom_enln_wrs_pval,\n",
    "          skj_cp_tot_anom_enln_wrs_pval,\n",
    "          bet_cp_tot_anom_enln_wrs_pval,\n",
    "          bettoskj_cp_tot_anom_enln_wrs_pval]\n",
    "ptfsnow = [skj_cp_tot_anom_enln_wrs_ptf,\n",
    "           bet_cp_tot_anom_enln_wrs_ptf,\n",
    "           bettoskj_cp_tot_anom_enln_wrs_ptf,\n",
    "           skj_cp_tot_anom_enln_wrs_ptf,\n",
    "           bet_cp_tot_anom_enln_wrs_ptf,\n",
    "           bettoskj_cp_tot_anom_enln_wrs_ptf]\n",
    "#vminsnow = [-10, -1.6, -0.065, -10, -1.6, -0.065]\n",
    "vminsnow = [-7, -1.5, -0.06, -7, -1.5, -0.06]\n",
    "#vmaxsnow = [10, 1.6, 0.065, 10, 1.6, 0.065]\n",
    "vmaxsnow = [7, 1.5, 0.06, 7, 1.5, 0.06]\n",
    "titlesnow = ['SKJ CPUE - El Niño anom', 'BET CPUE - El Niño anom',\n",
    "             'BET:SKJ CPUE - El Niño anom',\n",
    "             'SKJ CPUE - La Niña anom', 'BET CPUE - La Niña anom',\n",
    "             'BET:SKJ CPUE - La Niña anom']\n",
    "unitsnow = ['[metric tons/set]', '[metric tons/set]', '',\n",
    "            '[metric tons/set]', '[metric tons/set]', '']\n",
    "signifstipsnow = [1,1,1,1,1,1]\n",
    "ploteezsnow = [0,0,0,0,0,0]"
   ]
  },
  {
   "cell_type": "code",
   "execution_count": null,
   "metadata": {},
   "outputs": [],
   "source": [
    "# - Set proj and define axes\n",
    "fig,axes = plt.subplots(nrows=2, ncols=3, figsize=(16,7.5),\n",
    "                        subplot_kw={'projection': ccrs.PlateCarree(central_longitude=200)})\n",
    "\n",
    "# - Make maps pretty + plot\n",
    "isp = 0\n",
    "for irow in range(axes.shape[0]):\n",
    "    for icol in range(axes.shape[1]):\n",
    "        ax = axes[irow][icol]\n",
    "        exec(open('helper_scripts/create_map_bgs.py').read())\n",
    "        \n",
    "        mapsnow[isp].plot(\n",
    "            ax=ax, transform=ccrs.PlateCarree(), cmap=cmnow,\n",
    "            vmin=vminsnow[isp], vmax=vmaxsnow[isp],\n",
    "            cbar_kwargs={'pad': 0.02, 'label': unitsnow[isp],\n",
    "                         'extend': extendnow})\n",
    "        \n",
    "        if ploteezsnow[isp]==1:\n",
    "            nueezs.plot(ax=ax, transform=ccrs.PlateCarree(),\n",
    "                color=eezfcnow, edgecolor=eezlcnow, linewidth=eezlwnow)\n",
    "            \n",
    "        if signifstipsnow[isp]==1:\n",
    "            [ltcol_signiflonnow,ltcol_signiflatnow]=find_where_pval_small(\n",
    "                pvsnow[isp].where(abs(mapsnow[isp])>stipltdkcosnow[isp]),\n",
    "                ptfsnow[isp])\n",
    "            [dkcol_signiflonnow,dkcol_signiflatnow]=find_where_pval_small(\n",
    "                pvsnow[isp].where(abs(mapsnow[isp])<=stipltdkcosnow[isp]),\n",
    "                ptfsnow[isp])\n",
    "            ax.scatter(ltcol_signiflonnow, ltcol_signiflatnow,\n",
    "                       marker=stipmarknow, linewidths=stipewnow,\n",
    "                       facecolors=stipfacecolnow, edgecolors=stipedgeltcolnow,\n",
    "                       s=stipsizenow, transform=ccrs.PlateCarree())\n",
    "            ax.scatter(dkcol_signiflonnow, dkcol_signiflatnow,\n",
    "                       marker=stipmarknow, linewidths=stipewnow,\n",
    "                       facecolors=stipfacecolnow, edgecolors=stipedgedkcolnow,\n",
    "                       s=stipsizenow, transform=ccrs.PlateCarree())\n",
    "            \n",
    "        ax.set_xlabel(''); ax.set_ylabel('')\n",
    "        ax.set_title(titlesnow[isp])\n",
    "        isp = isp + 1\n",
    "       \n",
    "fig.savefig(figpath + 'mainfig4_bscpue_ensomeans.png', bbox_inches='tight', pad_inches = 0, dpi = 200)"
   ]
  }
 ],
 "metadata": {
  "kernelspec": {
   "display_name": "Python 3",
   "language": "python",
   "name": "python3"
  },
  "language_info": {
   "codemirror_mode": {
    "name": "ipython",
    "version": 3
   },
   "file_extension": ".py",
   "mimetype": "text/x-python",
   "name": "python",
   "nbconvert_exporter": "python",
   "pygments_lexer": "ipython3",
   "version": "3.7.3"
  }
 },
 "nbformat": 4,
 "nbformat_minor": 4
}
