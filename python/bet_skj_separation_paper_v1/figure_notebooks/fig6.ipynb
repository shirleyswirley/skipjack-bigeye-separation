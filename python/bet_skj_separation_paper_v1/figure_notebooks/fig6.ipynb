{
 "cells": [
  {
   "cell_type": "code",
   "execution_count": 43,
   "metadata": {},
   "outputs": [],
   "source": [
    "spcsnamesatp = ['Bigeye','Skipjack']\n",
    "ivunitsatp = ['°C','°C','m','psu',\n",
    "              'umol/kg','kPa','m',\n",
    "              'log(mg/m$^3$)','m','cm']\n",
    "ivnicenamesatp = ['Sea surface temperature (SST)','T$_{100m}$',\n",
    "                  'Thermocline depth (TCD)','Sea surface salinity (SSS)',\n",
    "                  'O$_{2,100m}$','PO$_{2,100m}$','Tuna hypoxic depth (THD)',\n",
    "                  'log(Chorophyll a)','Mixed layer depth (MLD)','Sea surface height anomalies (SSHA)']\n",
    "dvnicenamesatp = [['Bigeye CPUE','Bigeye CPUE','Bigeye CPUE','Bigeye CPUE',\n",
    "                  'Bigeye CPUE','Bigeye CPUE','Bigeye CPUE',\n",
    "                  'Bigeye CPUE','Bigeye CPUE','Bigeye CPUE'],\n",
    "                  ['Skipjack CPUE','Skipjack CPUE','Skipjack CPUE','Skipjack CPUE',\n",
    "                  'Skipjack CPUE','Skipjack CPUE','Skipjack CPUE',\n",
    "                  'Skipjack CPUE','Skipjack CPUE','Skipjack CPUE']]\n",
    "binedgesatp = [[binedges_sstbetcp, binedges_temp100betcp, binedges_tcdbetcp, binedges_sssbetcp,\n",
    "               binedges_o2100betcp, binedges_po2100betcp, binedges_thdbetcp,\n",
    "               binedges_logchlbetcp, binedges_mldbetcp, binedges_sshabetcp],\n",
    "               [binedges_sstskjcp, binedges_temp100skjcp, binedges_tcdskjcp, binedges_sssskjcp,\n",
    "               binedges_o2100skjcp, binedges_po2100skjcp, binedges_thdskjcp,\n",
    "               binedges_logchlskjcp, binedges_mldskjcp, binedges_sshaskjcp]]\n",
    "dvquotatp = [[dvquot_sstbetcp, dvquot_temp100betcp, dvquot_tcdbetcp, dvquot_sssbetcp,\n",
    "               dvquot_o2100betcp, dvquot_po2100betcp, dvquot_thdbetcp,\n",
    "               dvquot_logchlbetcp, dvquot_mldbetcp, dvquot_sshabetcp],\n",
    "               [dvquot_sstskjcp, dvquot_temp100skjcp, dvquot_tcdskjcp, dvquot_sssskjcp,\n",
    "               dvquot_o2100skjcp, dvquot_po2100skjcp, dvquot_thdskjcp,\n",
    "               dvquot_logchlskjcp, dvquot_mldskjcp, dvquot_sshaskjcp]]\n",
    "qlimsreplaceTatp = [[qlimsreplaceT_sstbetcp, qlimsreplaceT_temp100betcp, qlimsreplaceT_tcdbetcp, qlimsreplaceT_sssbetcp,\n",
    "               qlimsreplaceT_o2100betcp, qlimsreplaceT_po2100betcp, qlimsreplaceT_thdbetcp,\n",
    "               qlimsreplaceT_logchlbetcp, qlimsreplaceT_mldbetcp, qlimsreplaceT_sshabetcp],\n",
    "               [qlimsreplaceT_sstskjcp, qlimsreplaceT_temp100skjcp, qlimsreplaceT_tcdskjcp, qlimsreplaceT_sssskjcp,\n",
    "               qlimsreplaceT_o2100skjcp, qlimsreplaceT_po2100skjcp, qlimsreplaceT_thdskjcp,\n",
    "               qlimsreplaceT_logchlskjcp, qlimsreplaceT_mldskjcp, qlimsreplaceT_sshaskjcp]]"
   ]
  },
  {
   "cell_type": "code",
   "execution_count": null,
   "metadata": {},
   "outputs": [],
   "source": [
    "nivs=10; nspcs=2\n",
    "cbfriendly = True\n",
    "\n",
    "ysplits = np.linspace(0,1,nspcs+1)\n",
    "\n",
    "nrows=2; ncols=5\n",
    "fig,axes = plt.subplots(nrows=nrows, ncols=ncols, figsize=(15,4), sharey=True)\n",
    "        \n",
    "for ispcs in range(0,nspcs):\n",
    "    iivs = 0 # subplot/IV index\n",
    "    for yax in range(0,nrows):\n",
    "        for xax in range(0,ncols):\n",
    "            ax = axes[yax][xax]\n",
    "    \n",
    "            ivnicename = ivnicenamesatp[iivs]\n",
    "            ivunits = ivunitsatp[iivs]\n",
    "            binedges = binedgesatp[ispcs][iivs]\n",
    "            dvnicename = dvnicenamesatp[ispcs][iivs]\n",
    "            dvquot = dvquotatp[ispcs][iivs]\n",
    "            qlimsreplaceT = qlimsreplaceTatp[ispcs][iivs]\n",
    "            \n",
    "            dfatp = get_dfatp(qlimsreplaceTatp[ispcs][iivs],\n",
    "                              dvquotatp[ispcs][iivs],binedgesatp[ispcs][iivs])\n",
    "            exec(open(\"helper_scripts/plot_atp.py\").read())\n",
    "            \n",
    "            iivs = iivs + 1\n",
    "        \n",
    "fig.tight_layout()\n",
    "fig.savefig(figpath + 'mainfig6_skjbetcpue_atp.png', bbox_inches='tight', pad_inches = 0, dpi = 200)"
   ]
  }
 ],
 "metadata": {
  "kernelspec": {
   "display_name": "Python 3",
   "language": "python",
   "name": "python3"
  },
  "language_info": {
   "codemirror_mode": {
    "name": "ipython",
    "version": 3
   },
   "file_extension": ".py",
   "mimetype": "text/x-python",
   "name": "python",
   "nbconvert_exporter": "python",
   "pygments_lexer": "ipython3",
   "version": "3.7.3"
  }
 },
 "nbformat": 4,
 "nbformat_minor": 4
}
