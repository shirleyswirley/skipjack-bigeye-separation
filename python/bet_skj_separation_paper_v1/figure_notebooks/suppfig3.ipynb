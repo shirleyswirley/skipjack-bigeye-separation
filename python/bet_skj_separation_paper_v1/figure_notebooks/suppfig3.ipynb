{
 "cells": [
  {
   "cell_type": "markdown",
   "metadata": {},
   "source": [
    "### Plot # of months of data overlapping w/ availability of BET:SKJ CPUE data"
   ]
  },
  {
   "cell_type": "code",
   "execution_count": null,
   "metadata": {},
   "outputs": [],
   "source": [
    "# - Set proj and define axes\n",
    "fig,axes = plt.subplots(nrows=4, ncols=3, figsize=(16,15),\n",
    "    subplot_kw={'projection': ccrs.PlateCarree(central_longitude=200)})\n",
    "colsnow = list(dfallvars.columns.values)\n",
    "colsnow = colsnow[1:3]+[colsnow[6]]+colsnow[3:6]+colsnow[7:]\n",
    "titlesnow = ['Skipjack CPUE', 'Bigeye CPUE', 'Sea surface salinity',\n",
    "            'Sea surface temperature', 'Temperature at 100m', 'Thermocline depth',\n",
    "            'O$_{2,100m}$', 'PO$_{2,100m}$', 'Tuna hypoxic depth',\n",
    "            'Chlorophyll a', 'Mixed layer depth', 'Sea surface height anomalies']\n",
    "unitsnow = '[# of months of data]'\n",
    "vmaxsnow = [520, 520, 520, 520, 520, 520, 100, 100, 100, 325, 325, 325]\n",
    "ivar = 0\n",
    "# - Make maps pretty + plot\n",
    "for irow in range(axes.shape[0]):\n",
    "    for icol in range(axes.shape[1]):\n",
    "        ax = axes[irow][icol]\n",
    "        exec(open('helper_scripts/create_map_bgs.py').read())\n",
    "        mapnow = xr.where(dsallvars['bettoskj_cp_tot'].notnull() &\n",
    "            dsallvars[colsnow[ivar]].notnull(), 1, 0)\n",
    "        #mapnow.sum(dim='time').where(skj_cp_tot_mean>=0).plot(\n",
    "        mapnow.sum(dim='time').plot(\n",
    "            ax=ax, transform=ccrs.PlateCarree(),\n",
    "            cmap=cm.viridis, vmin=0, vmax=vmaxsnow[ivar],\n",
    "            cbar_kwargs={'pad': 0.02, 'label': unitsnow})\n",
    "        ax.set_title(titlesnow[ivar]); ax.set_xlabel(''); ax.set_ylabel('');\n",
    "        ivar = ivar + 1 \n",
    "fig.savefig(figpath + 'suppfig3_b2scpue_env_condition_overlapping_data_amts.png', bbox_inches='tight', pad_inches = 0, dpi = 200)"
   ]
  },
  {
   "cell_type": "code",
   "execution_count": null,
   "metadata": {},
   "outputs": [],
   "source": [
    "print('# of monthly mean data pts overlapping w/ skj_cp_tot:')\n",
    "for col in [dfallvars.columns[0]] + list(dfallvars.columns[2:]):\n",
    "    dfnow = dfallvars[['skj_cp_tot',col]].dropna(subset=['skj_cp_tot'])\n",
    "    print(col + ': ' + str(len(dfnow[col].dropna())))"
   ]
  },
  {
   "cell_type": "code",
   "execution_count": null,
   "metadata": {},
   "outputs": [],
   "source": [
    "print('# of monthly mean data pts overlapping w/ bet_cp_tot:')\n",
    "for col in list(dfallvars.columns[0:2]) + list(dfallvars.columns[3:]):\n",
    "    dfnow = dfallvars[['bet_cp_tot',col]].dropna(subset=['bet_cp_tot'])\n",
    "    print(col + ': ' + str(len(dfnow[col].dropna())))"
   ]
  },
  {
   "cell_type": "code",
   "execution_count": null,
   "metadata": {},
   "outputs": [],
   "source": [
    "print('# of monthly mean data pts overlapping w/ bettoskj_cp_tot:')\n",
    "for col in dfallvars.columns[1:]:\n",
    "    dfnow = dfallvars[['bettoskj_cp_tot',col]].dropna(subset=['bettoskj_cp_tot'])\n",
    "    print(col + ': ' + str(len(dfnow[col].dropna())))"
   ]
  }
 ],
 "metadata": {
  "kernelspec": {
   "display_name": "Python 3",
   "language": "python",
   "name": "python3"
  },
  "language_info": {
   "codemirror_mode": {
    "name": "ipython",
    "version": 3
   },
   "file_extension": ".py",
   "mimetype": "text/x-python",
   "name": "python",
   "nbconvert_exporter": "python",
   "pygments_lexer": "ipython3",
   "version": "3.7.3"
  }
 },
 "nbformat": 4,
 "nbformat_minor": 4
}
