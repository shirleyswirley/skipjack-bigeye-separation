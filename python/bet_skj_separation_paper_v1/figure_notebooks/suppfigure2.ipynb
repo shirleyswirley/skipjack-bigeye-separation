{
 "cells": [
  {
   "cell_type": "code",
   "execution_count": 30,
   "metadata": {},
   "outputs": [],
   "source": [
    "ivunitsall = ['degC','degC','m','psu',\n",
    "              'umol/kg','kPa','m',\n",
    "              'log(mg/m$^3$)','m','cm']\n",
    "ivnicenamesall = ['SST','T$_{100m}$','TCD','SSS',\n",
    "                  'O$_{2,100m}$','PO$_{2,100m}$','THD',\n",
    "                  'log(CHL)','MLD','SSHA']\n",
    "dvnicenamesall = ['Bigeye CPUE','Bigeye CPUE','Bigeye CPUE','Bigeye CPUE',\n",
    "                  'Bigeye CPUE','Bigeye CPUE','Bigeye CPUE',\n",
    "                  'Bigeye CPUE','Bigeye CPUE','Bigeye CPUE']\n",
    "ivall = [iv_sstbetcp, iv_temp100betcp, iv_tcdbetcp, iv_sssbetcp,\n",
    "         iv_o2100betcp, iv_po2100betcp, iv_thdbetcp,\n",
    "         iv_logchlbetcp, iv_mldbetcp, iv_sshabetcp]\n",
    "binedgesall = [binedges_sstbetcp, binedges_temp100betcp, binedges_tcdbetcp, binedges_sssbetcp,\n",
    "               binedges_o2100betcp, binedges_po2100betcp, binedges_thdbetcp,\n",
    "               binedges_logchlbetcp, binedges_mldbetcp, binedges_sshabetcp]\n",
    "bincentersall = [bincenters_sstbetcp, bincenters_temp100betcp, bincenters_tcdbetcp, bincenters_sssbetcp,\n",
    "                 bincenters_o2100betcp, bincenters_po2100betcp, bincenters_thdbetcp,\n",
    "                 bincenters_logchlbetcp, bincenters_mldbetcp, bincenters_sshabetcp]\n",
    "ivcountsall = [ivcounts_sstbetcp, ivcounts_temp100betcp, ivcounts_tcdbetcp, ivcounts_sssbetcp,\n",
    "               ivcounts_o2100betcp, ivcounts_po2100betcp, ivcounts_thdbetcp,\n",
    "               ivcounts_logchlbetcp, ivcounts_mldbetcp, ivcounts_sshabetcp]\n",
    "dvcountsall = [dvcounts_sstbetcp, dvcounts_temp100betcp, dvcounts_tcdbetcp, dvcounts_sssbetcp,\n",
    "               dvcounts_o2100betcp, dvcounts_po2100betcp, dvcounts_thdbetcp,\n",
    "               dvcounts_logchlbetcp, dvcounts_mldbetcp, dvcounts_sshabetcp]\n",
    "dvquotall = [dvquot_sstbetcp, dvquot_temp100betcp, dvquot_tcdbetcp, dvquot_sssbetcp,\n",
    "             dvquot_o2100betcp, dvquot_po2100betcp, dvquot_thdbetcp,\n",
    "             dvquot_logchlbetcp, dvquot_mldbetcp, dvquot_sshabetcp]\n",
    "qlimsreplaceTall = [qlimsreplaceT_sstbetcp, qlimsreplaceT_temp100betcp, qlimsreplaceT_tcdbetcp, qlimsreplaceT_sssbetcp,\n",
    "             qlimsreplaceT_o2100betcp, qlimsreplaceT_po2100betcp, qlimsreplaceT_thdbetcp,\n",
    "             qlimsreplaceT_logchlbetcp, qlimsreplaceT_mldbetcp, qlimsreplaceT_sshabetcp]\n",
    "qlimsreplaceFall = [qlimsreplaceT_sstbetcp, qlimsreplaceT_temp100betcp, qlimsreplaceT_tcdbetcp, qlimsreplaceT_sssbetcp,\n",
    "             qlimsreplaceT_o2100betcp, qlimsreplaceT_po2100betcp, qlimsreplaceT_thdbetcp,\n",
    "             qlimsreplaceT_logchlbetcp, qlimsreplaceT_mldbetcp, qlimsreplaceT_sshabetcp]"
   ]
  },
  {
   "cell_type": "code",
   "execution_count": null,
   "metadata": {},
   "outputs": [],
   "source": [
    "plotbarorhist='bar'; plotlegend=1;\n",
    "plotqlimsreplaceT=1; plotqlimsreplaceF=0\n",
    "nrows=5; ncols=2\n",
    "fig,axes = plt.subplots(nrows=nrows, ncols=ncols, figsize=(16,18))\n",
    "isp = 0 # subplot index\n",
    "for yax in range(0,nrows):\n",
    "    for xax in range(0,ncols):\n",
    "        ivunits = ivunitsall[isp]\n",
    "        ivnicename = ivnicenamesall[isp]; dvnicename = dvnicenamesall[isp]\n",
    "        iv = ivall[isp]\n",
    "        binedges = binedgesall[isp]; bincenters = bincentersall[isp]\n",
    "        ivcounts = ivcountsall[isp]; dvcounts = dvcountsall[isp]\n",
    "        dvquot = dvquotall[isp]\n",
    "        qlimsreplaceT = qlimsreplaceTall[isp]; qlimsreplaceF = qlimsreplaceFall[isp]\n",
    "        if ncols>1 and nrows>1:\n",
    "            ax = axes[yax][xax]\n",
    "        elif ncols==1 and nrows>1:\n",
    "            ax = axes[yax] \n",
    "        elif ncols>1 and nrows==1:\n",
    "            ax = axes[xax] \n",
    "        exec(open(\"helper_scripts/plot_qa.py\").read())\n",
    "        isp = isp+1\n",
    "fig.tight_layout()\n",
    "fig.savefig(figpath + 'suppfig2_betcpue_quotientanalysis.png', bbox_inches='tight', pad_inches = 0, dpi = 200)"
   ]
  }
 ],
 "metadata": {
  "kernelspec": {
   "display_name": "Python 3",
   "language": "python",
   "name": "python3"
  },
  "language_info": {
   "codemirror_mode": {
    "name": "ipython",
    "version": 3
   },
   "file_extension": ".py",
   "mimetype": "text/x-python",
   "name": "python",
   "nbconvert_exporter": "python",
   "pygments_lexer": "ipython3",
   "version": "3.7.3"
  }
 },
 "nbformat": 4,
 "nbformat_minor": 4
}
