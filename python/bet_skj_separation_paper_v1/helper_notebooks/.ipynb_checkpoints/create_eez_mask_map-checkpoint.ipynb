{
 "cells": [
  {
   "cell_type": "markdown",
   "metadata": {},
   "source": [
    "### Create EEZ map mask"
   ]
  },
  {
   "cell_type": "code",
   "execution_count": 23,
   "metadata": {},
   "outputs": [],
   "source": [
    "# - Read in tropical Pacific EEZ shape file\n",
    "eezs = gpd.read_file(\n",
    "    dpath + 'EEZs/World_EEZ_v9_20161021_HR_0_360/World_EEZ_v9_2016_HR_0_360_PNA_and_ETP_ctries_only.shp')\n",
    "nuctries = ['Palau','Micronesia','Papua New Guinea','Solomon Islands','Nauru','Marshall Islands','Tuvalu','Kiribati'];\n",
    "nueezs = eezs[eezs['Sovereign1'].isin(nuctries)]"
   ]
  },
  {
   "cell_type": "code",
   "execution_count": 24,
   "metadata": {},
   "outputs": [],
   "source": [
    "# - Create EEZ mask over current lon-lat grid (this will naturally exclude ETP countries)\n",
    "nueeznewnumbers = list(range(0,len(nueezs)))\n",
    "nueeznames = nueezs.Sovereign1.values\n",
    "# Detailed Kiribati names were (look at zero-indexed row # of names in eez df): \n",
    "nueeznames[5] = 'Kiribati (Phoenix Islands)'\n",
    "nueeznames[9] = 'Kiribati (Line Islands)'\n",
    "nueeznames[10] = 'Kiribati (Gilbert Islands)'\n",
    "nueezabbrevs = [w[0:4] for w in nueeznames]\n",
    "# nueezregionmask contains all nu EEZs in the loaded shapefile\n",
    "nueezregionmask = regionmask.Regions_cls('mask', nueeznewnumbers, nueeznames, nueezabbrevs, nueezs.geometry.reset_index(drop=True))\n",
    "# nueezmask contains only EEZs within the current lon-lat grid defined by lon,lat arguments below\n",
    "nueezmask = nueezregionmask.mask(lon,lat,wrap_lon=False)\n",
    "# - Create a table that maps between eez number in eezmask and eeznames\n",
    "df_nuenn = pd.DataFrame({'names':nueeznames, 'numbers':nueeznewnumbers}) #df_enn = df_eeznamesnumbers"
   ]
  }
 ],
 "metadata": {
  "kernelspec": {
   "display_name": "Python 3",
   "language": "python",
   "name": "python3"
  },
  "language_info": {
   "codemirror_mode": {
    "name": "ipython",
    "version": 3
   },
   "file_extension": ".py",
   "mimetype": "text/x-python",
   "name": "python",
   "nbconvert_exporter": "python",
   "pygments_lexer": "ipython3",
   "version": "3.7.3"
  }
 },
 "nbformat": 4,
 "nbformat_minor": 4
}
