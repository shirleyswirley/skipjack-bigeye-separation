{
 "cells": [
  {
   "cell_type": "markdown",
   "metadata": {},
   "source": [
    "### Compute correl/regress coeff maps"
   ]
  },
  {
   "cell_type": "code",
   "execution_count": null,
   "metadata": {},
   "outputs": [],
   "source": [
    "alphafdr = 0.1\n",
    "\n",
    "bsvsenv_ivnamelist = ['sst','temp100','tcd','sss',\n",
    "                      'o2100','po2100','thd',\n",
    "                      'logchl','mld','ssha']\n",
    "bsvsenv_ivnicenamelist = ['SST','T$_{100m}$','TCD','SSS',\n",
    "                          'O$_{2,100m}$','PO$_{2,100m}$','THD',\n",
    "                          'log(CHL)','MLD','SSHA']\n",
    "\n",
    "bettoskjvsenv_cp_tot_rc = [None]*len(bsvsenv_ivnamelist) \n",
    "bettoskjvsenv_cp_tot_rc_pval = [None]*len(bsvsenv_ivnamelist) \n",
    "bettoskjvsenv_cp_tot_rc_ptf = [None]*len(bsvsenv_ivnamelist)\n",
    "bettoskjvsenv_cp_tot_cc = [None]*len(bsvsenv_ivnamelist) \n",
    "bettoskjvsenv_cp_tot_cc_pval = [None]*len(bsvsenv_ivnamelist) \n",
    "bettoskjvsenv_cp_tot_cc_ptf = [None]*len(bsvsenv_ivnamelist)\n",
    "\n",
    "betvsenv_cp_tot_rc = [None]*len(bsvsenv_ivnamelist) \n",
    "betvsenv_cp_tot_rc_pval = [None]*len(bsvsenv_ivnamelist) \n",
    "betvsenv_cp_tot_rc_ptf = [None]*len(bsvsenv_ivnamelist)\n",
    "betvsenv_cp_tot_cc = [None]*len(bsvsenv_ivnamelist) \n",
    "betvsenv_cp_tot_cc_pval = [None]*len(bsvsenv_ivnamelist) \n",
    "betvsenv_cp_tot_cc_ptf = [None]*len(bsvsenv_ivnamelist)\n",
    "\n",
    "skjvsenv_cp_tot_rc = [None]*len(bsvsenv_ivnamelist) \n",
    "skjvsenv_cp_tot_rc_pval = [None]*len(bsvsenv_ivnamelist) \n",
    "skjvsenv_cp_tot_rc_ptf = [None]*len(bsvsenv_ivnamelist)\n",
    "skjvsenv_cp_tot_cc = [None]*len(bsvsenv_ivnamelist) \n",
    "skjvsenv_cp_tot_cc_pval = [None]*len(bsvsenv_ivnamelist) \n",
    "skjvsenv_cp_tot_cc_ptf = [None]*len(bsvsenv_ivnamelist)\n",
    "\n",
    "for iiv in range(0,len(bsvsenv_ivnamelist)):\n",
    "    [skjvsenv_cp_tot_rc[iiv], _, skjvsenv_cp_tot_rc_pval[iiv],\n",
    "     skjvsenv_cp_tot_cc[iiv], skjvsenv_cp_tot_cc_pval[iiv], _\n",
    "    ]=gettemprcmap_loop(dsallvars[bsvsenv_ivnamelist[iiv]],\n",
    "                        dsallvars['skj_cp_tot'],\n",
    "                        'skjvs'+bsvsenv_ivnamelist[iiv])\n",
    "    skjvsenv_cp_tot_rc_ptf[iiv] = controlfdr2d(skjvsenv_cp_tot_rc_pval[iiv],alphafdr)\n",
    "    skjvsenv_cp_tot_cc_ptf[iiv] = controlfdr2d(skjvsenv_cp_tot_cc_pval[iiv],alphafdr)\n",
    "    \n",
    "    [betvsenv_cp_tot_rc[iiv], _, betvsenv_cp_tot_rc_pval[iiv],\n",
    "     betvsenv_cp_tot_cc[iiv], betvsenv_cp_tot_cc_pval[iiv], _\n",
    "    ]=gettemprcmap_loop(dsallvars[bsvsenv_ivnamelist[iiv]],\n",
    "                        dsallvars['bet_cp_tot'],\n",
    "                        'betvs'+bsvsenv_ivnamelist[iiv])\n",
    "    betvsenv_cp_tot_rc_ptf[iiv] = controlfdr2d(betvsenv_cp_tot_rc_pval[iiv],alphafdr)\n",
    "    betvsenv_cp_tot_cc_ptf[iiv] = controlfdr2d(betvsenv_cp_tot_cc_pval[iiv],alphafdr)\n",
    "    \n",
    "    [bettoskjvsenv_cp_tot_rc[iiv], _, bettoskjvsenv_cp_tot_rc_pval[iiv],\n",
    "     bettoskjvsenv_cp_tot_cc[iiv], bettoskjvsenv_cp_tot_cc_pval[iiv], _\n",
    "    ]=gettemprcmap_loop(dsallvars[bsvsenv_ivnamelist[iiv]],\n",
    "                        dsallvars['bettoskj_cp_tot'],\n",
    "                        'bettoskjvs'+bsvsenv_ivnamelist[iiv])\n",
    "    bettoskjvsenv_cp_tot_rc_ptf[iiv] = controlfdr2d(bettoskjvsenv_cp_tot_rc_pval[iiv],alphafdr)\n",
    "    bettoskjvsenv_cp_tot_cc_ptf[iiv] = controlfdr2d(bettoskjvsenv_cp_tot_cc_pval[iiv],alphafdr)\n",
    "\n",
    "bsvsenv_dvnamelist = ['skj','bet','bettoskj']\n",
    "bsvsenv_dvnicenamelist = ['SKJ CPUE','BET CPUE','BET:SKJ CPUE']\n",
    "bsvsenv_all_maps_cc = [skjvsenv_cp_tot_cc, betvsenv_cp_tot_cc, bettoskjvsenv_cp_tot_cc]\n",
    "bsvsenv_all_maps_cc_pval = [skjvsenv_cp_tot_cc_pval, betvsenv_cp_tot_cc_pval, bettoskjvsenv_cp_tot_cc_pval]\n",
    "bsvsenv_all_maps_cc_ptf = [skjvsenv_cp_tot_cc_ptf, betvsenv_cp_tot_cc_ptf, bettoskjvsenv_cp_tot_cc_ptf]"
   ]
  }
 ],
 "metadata": {
  "kernelspec": {
   "display_name": "Python 3",
   "language": "python",
   "name": "python3"
  },
  "language_info": {
   "codemirror_mode": {
    "name": "ipython",
    "version": 3
   },
   "file_extension": ".py",
   "mimetype": "text/x-python",
   "name": "python",
   "nbconvert_exporter": "python",
   "pygments_lexer": "ipython3",
   "version": "3.7.3"
  }
 },
 "nbformat": 4,
 "nbformat_minor": 4
}
