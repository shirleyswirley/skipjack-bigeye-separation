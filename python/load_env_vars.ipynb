{
 "cells": [
  {
   "cell_type": "code",
   "execution_count": 4,
   "metadata": {},
   "outputs": [],
   "source": [
    "from calc_po2 import calc_po2\n",
    "#import sys; del sys.modules['calc_po2']\n",
    "import gsw\n",
    "from glob import glob\n",
    "from scipy import interpolate as spinterpolate"
   ]
  },
  {
   "cell_type": "markdown",
   "metadata": {},
   "source": [
    "# Load WOD18 data"
   ]
  },
  {
   "cell_type": "code",
   "execution_count": 5,
   "metadata": {},
   "outputs": [],
   "source": [
    "# Load o2, temp, sal from WOD18 nc files (already on good grid)\n",
    "# -->Get sst, o2100, sss\n",
    "# -->Compute thd, tcd, po20to100avg, temp0to100avg"
   ]
  },
  {
   "cell_type": "code",
   "execution_count": 6,
   "metadata": {},
   "outputs": [],
   "source": [
    "ncfile = dpath + 'WOD18/o2_195501-201807_5deg.nc'\n",
    "o2 = xr.open_dataset(ncfile) # umol/kg\n",
    "o2 = o2['O2']; o2.name = 'o2'\n",
    "ncfile = dpath + 'WOD18/sal_195501-201807_5deg.nc'\n",
    "sal = xr.open_dataset(ncfile) # psu\n",
    "sal = sal['Sal']; sal.name = 'sal'\n",
    "ncfile = dpath + 'WOD18/temp_195501-201807_5deg.nc'\n",
    "temp = xr.open_dataset(ncfile) # degC\n",
    "temp = temp['Temp']; temp.name = 'temp'"
   ]
  },
  {
   "cell_type": "markdown",
   "metadata": {},
   "source": [
    "### Correct the time axis"
   ]
  },
  {
   "cell_type": "code",
   "execution_count": 7,
   "metadata": {},
   "outputs": [],
   "source": [
    "# - Time goes from Jan 1955 - Jul 2018 --> 763 months\n",
    "begdatewod = datetime.date(year = 1955, month = 1, day = 1)\n",
    "enddatewod = datetime.date(year = 2018, month = 7, day = 1)\n",
    "timemowod = pd.date_range(begdatewod, enddatewod, freq='MS')"
   ]
  },
  {
   "cell_type": "code",
   "execution_count": 8,
   "metadata": {},
   "outputs": [],
   "source": [
    "o2['time'] = timemowod\n",
    "sal['time'] = timemowod\n",
    "temp['time'] = timemowod"
   ]
  },
  {
   "cell_type": "markdown",
   "metadata": {},
   "source": [
    "### Change from -180-180 to 0-360 lon"
   ]
  },
  {
   "cell_type": "code",
   "execution_count": 9,
   "metadata": {},
   "outputs": [],
   "source": [
    "# https://github.com/pydata/xarray/issues/577 - wrap 0 to 360\n",
    "# https://github.com/pydata/xarray/issues/1875 - roll\n",
    "temp['lon'] = np.mod(temp['lon'], 360)\n",
    "temp = temp.reindex({'lon': np.sort(temp['lon'])}) # or: temp = temp.roll(lon=36)\n",
    "o2['lon'] = np.mod(o2['lon'], 360)\n",
    "o2 = o2.reindex({'lon': np.sort(o2['lon'])}) # or: o2 = o2.roll(lon=36)\n",
    "sal['lon'] = np.mod(sal['lon'], 360)\n",
    "sal = sal.reindex({'lon': np.sort(sal['lon'])}) # or: sal = sal.roll(lon=36)"
   ]
  },
  {
   "cell_type": "markdown",
   "metadata": {},
   "source": [
    "### Calculate derived variables"
   ]
  },
  {
   "cell_type": "markdown",
   "metadata": {},
   "source": [
    "sst, o2100, sss"
   ]
  },
  {
   "cell_type": "code",
   "execution_count": 10,
   "metadata": {},
   "outputs": [],
   "source": [
    "sst = temp.isel(depth=0); sst.name = 'sst'\n",
    "o2100 = o2.sel(depth=100); o2100.name = 'o2100'\n",
    "sss = sal.isel(depth=0); sss.name = 'sss'"
   ]
  },
  {
   "cell_type": "markdown",
   "metadata": {},
   "source": [
    "absolute salinity"
   ]
  },
  {
   "cell_type": "code",
   "execution_count": 11,
   "metadata": {},
   "outputs": [],
   "source": [
    "# Calculate absolute salinity\n",
    "# https://teos-10.github.io/GSW-Python/conversions.html\n",
    "loadabsal = 1\n",
    "if loadabsal==0:\n",
    "    absal = sal * np.nan\n",
    "    for ilat in range(sal.lat.size):\n",
    "        for ilon in range(sal.lon.size):\n",
    "            absal[:,:,ilat,ilon] = gsw.conversions.SA_from_SP(sal[:,:,ilat,ilon], sal.depth, sal.lon[ilon], sal.lat[ilat])\n",
    "    absal.name = 'absal'\n",
    "    absal.to_netcdf(dpath + 'WOD18/absal_195501-201807_5deg.nc')\n",
    "elif loadabsal==1:\n",
    "    ncfile = dpath + 'WOD18/absal_195501-201807_5deg.nc'\n",
    "    absal = xr.open_dataset(ncfile) # g/kg\n",
    "    absal = absal['absal']\n",
    "# Test:\n",
    "#absal.mean(dim='time').sel(depth=5).plot()\n",
    "#sal.mean(dim='time').sel(depth=5).plot()"
   ]
  },
  {
   "cell_type": "markdown",
   "metadata": {},
   "source": [
    "potential temperature"
   ]
  },
  {
   "cell_type": "code",
   "execution_count": 12,
   "metadata": {},
   "outputs": [],
   "source": [
    "# Calculate potential temperature\n",
    "# https://teos-10.github.io/GSW-Python/conversions.html\n",
    "loadpottemp = 1\n",
    "if loadpottemp==0:\n",
    "    pottemp = temp * np.nan\n",
    "    for ilat in range(temp.lat.size):\n",
    "        for ilon in range(temp.lon.size):\n",
    "            pottemp[:,:,ilat,ilon] = gsw.conversions.pt0_from_t(absal[:,:,ilat,ilon], temp[:,:,ilat,ilon], temp.depth)\n",
    "    pottemp.name = 'pottemp'\n",
    "    pottemp.to_netcdf(dpath + 'WOD18/pottemp_195501-201807_5deg.nc')\n",
    "elif loadpottemp==1:\n",
    "    ncfile = dpath + 'WOD18/pottemp_195501-201807_5deg.nc'\n",
    "    pottemp = xr.open_dataset(ncfile) # degC\n",
    "    pottemp = pottemp['pottemp']\n",
    "# Test:\n",
    "#(pottemp.mean(dim='time').sel(depth=5000)-temp.mean(dim='time').sel(depth=5000)).plot() # should be all negative"
   ]
  },
  {
   "cell_type": "markdown",
   "metadata": {},
   "source": [
    "po2"
   ]
  },
  {
   "cell_type": "code",
   "execution_count": 13,
   "metadata": {},
   "outputs": [],
   "source": [
    "# Compute po2\n",
    "loadpo2 = 1\n",
    "if loadpo2==0:\n",
    "    po2 = calc_po2(o2,temp,sal,o2.depth)\n",
    "    po2.name = 'po2'\n",
    "    po2.to_netcdf(dpath + 'WOD18/po2_195501-201807_5deg.nc')\n",
    "elif loadpo2==1:\n",
    "    ncfile = dpath + 'WOD18/po2_195501-201807_5deg.nc' \n",
    "    po2 = xr.open_dataset(ncfile) # kPa\n",
    "    po2 = po2['po2']\n",
    "# Test:\n",
    "#po2.mean(dim='time').sel(depth=100).plot()\n",
    "#o2.mean(dim='time').sel(depth=100).plot()"
   ]
  },
  {
   "cell_type": "markdown",
   "metadata": {},
   "source": [
    "tuna hypoxic depth (thd)"
   ]
  },
  {
   "cell_type": "code",
   "execution_count": 14,
   "metadata": {},
   "outputs": [],
   "source": [
    "# Compute THD\n",
    "loadthd = 1\n",
    "if loadthd==0:\n",
    "    thd = xr.full_like(o2100,np.nan)\n",
    "    thd.name = 'thd'; thd.attrs['units'] = 'm';\n",
    "    thd.attrs['long_name'] = 'tuna hypoxic depth (15kPa)'\n",
    "    for ilon in range(thd.lon.size):\n",
    "        print(ilon)\n",
    "        for ilat in range(thd.lat.size):\n",
    "            for itime in range(thd.time.size):\n",
    "                po2profnow = po2.isel(lat=ilat,lon=ilon,time=itime)\n",
    "                po2profnow = po2profnow[~np.isnan(po2profnow)]\n",
    "                if len(po2profnow)>0: # get rid of case in which po2profnow is all nans\n",
    "                    if (po2profnow.min()<=thp) & (po2profnow.max()>=thp):\n",
    "                        didxdeep = np.argmax(po2profnow<=thp).values\n",
    "                        if didxdeep>0:\n",
    "                        # get rid of case in which you have a strangely tiny po2 pressure < thp\n",
    "                        # at the very top of the profile (i.e., either start measuring in mid depth of\n",
    "                        # OMZ or you have erroneously small po2 pressure at/near the surface)\n",
    "                            interpf = spinterpolate.interp1d(\n",
    "                                po2profnow.isel(depth=slice(didxdeep-1,didxdeep+1)),\n",
    "                                po2profnow['depth'].isel(depth=slice(didxdeep-1,didxdeep+1)))\n",
    "                            thd[itime,ilat,ilon] = interpf(thp)\n",
    "    thd.to_netcdf(dpath + 'WOD18/thd_195501-201807_5deg.nc')\n",
    "elif loadthd==1:\n",
    "    ncfile = dpath + 'WOD18/thd_195501-201807_5deg.nc' \n",
    "    thd = xr.open_dataset(ncfile) # m\n",
    "    thd = thd['thd']\n",
    "# Test:\n",
    "#thd.mean(dim='time').plot()"
   ]
  },
  {
   "cell_type": "code",
   "execution_count": 15,
   "metadata": {},
   "outputs": [],
   "source": [
    "# Loop over looking at every single po2 profile within chosen range\n",
    "# %matplotlib inline\n",
    "# \n",
    "# from IPython.display import clear_output\n",
    "# \n",
    "# thp = 15 # kPa\n",
    "# lonnow = thd.lon.sel(lon=slice(100,270))\n",
    "# latnow = thd.lat.sel(lat=slice(-15,15))\n",
    "# po2now = po2.sel(lon=slice(100,270),lat=slice(-15,15))\n",
    "# \n",
    "# #for ilon in range(thd.lon.size):\n",
    "# for ilon in range(lonnow.size):\n",
    "#     #for ilat in range(thd.lat.size):\n",
    "#     for ilat in range(latnow.size):\n",
    "#         for itime in range(thd.time.size):\n",
    "#             po2profnow = po2now.isel(lat=ilat,lon=ilon,time=itime)\n",
    "#             if (po2profnow.min()<thp) & (po2profnow.max()>thp):\n",
    "#             #if (po2profnow.min()>thp):\n",
    "#             #if (po2profnow.max()<thp):\n",
    "#                 clear_output(wait=True)\n",
    "#                 po2profnow.plot(y='depth',yincrease=False)\n",
    "#                 plt.title('lon=' + str(lonnow[ilon].values) + ',lat=' + str(latnow[ilat].values) + ',time=' + str(thd.time[itime].values)[:10])\n",
    "#                 plt.ylim(500,0)\n",
    "#                 plt.pause(1)"
   ]
  },
  {
   "cell_type": "markdown",
   "metadata": {},
   "source": [
    "thermocline depth (TCD)"
   ]
  },
  {
   "cell_type": "code",
   "execution_count": 17,
   "metadata": {},
   "outputs": [],
   "source": [
    "# Compute TCD\n",
    "loadtcd = 1; tcdtype = 'variable'; # choose 'variable','20degC'\n",
    "if loadtcd==0:\n",
    "    tcd = xr.full_like(sst,np.nan)\n",
    "    tcd.name = 'tcd'; tcd.attrs['units'] = 'm';\n",
    "    tcd.attrs['long_name'] = 'thermocline depth (' + tcdtype + 'isotherm method)'\n",
    "    if tcdtype=='20degC':\n",
    "        ttcnow = 20;\n",
    "    elif tcdtype=='variable':\n",
    "        # Calculate thermocline temperature 3D (x,y,time) map for variable isotherm method\n",
    "        tmld = sst-0.8\n",
    "        ttc = tmld-0.25*(tmld-temp.sel(depth=400))\n",
    "        # Test:\n",
    "        #tmld.mean(dim='time').plot()\n",
    "        #ttc.mean(dim='time').plot()\n",
    "    for ilon in range(tcd.lon.size):\n",
    "        for ilat in range(tcd.lat.size):\n",
    "            for itime in range(tcd.time.size):\n",
    "                tempprofnow = temp.isel(lat=ilat,lon=ilon,time=itime)\n",
    "                tempprofnow = tempprofnow[~np.isnan(tempprofnow)]\n",
    "                if len(tempprofnow)>0: # get rid of case in which tempprofnow is all nans\n",
    "                    if tcdtype=='variable':\n",
    "                        ttcnow = ttc.isel(lat=ilat,lon=ilon,time=itime).values\n",
    "                    if (tempprofnow.min()<=ttcnow) & (tempprofnow.max()>=ttcnow):\n",
    "                        didxdeep = np.argmax(tempprofnow<=ttcnow).values\n",
    "                        if didxdeep>0:\n",
    "                        # get rid of case in which you have a strangely tiny temp pressure < ttcnow\n",
    "                        # at the very top of the profile (i.e., either start measuring in mid depth of\n",
    "                        # OMZ or you have erroneously small temp pressure at/near the surface)\n",
    "                            interpf = spinterpolate.interp1d(\n",
    "                                tempprofnow.isel(depth=slice(didxdeep-1,didxdeep+1)),\n",
    "                                tempprofnow['depth'].isel(depth=slice(didxdeep-1,didxdeep+1)))\n",
    "                            tcd[itime,ilat,ilon] = interpf(ttcnow)\n",
    "    tcd.to_netcdf(dpath + 'WOD18/tcd_195501-201807_5deg.nc')\n",
    "elif loadtcd==1:\n",
    "    ncfile = dpath + 'WOD18/tcd_195501-201807_5deg.nc' \n",
    "    tcd = xr.open_dataset(ncfile) # m\n",
    "    tcd = tcd['tcd']"
   ]
  },
  {
   "cell_type": "markdown",
   "metadata": {},
   "source": [
    "po20to100avg, temp0to100avg"
   ]
  },
  {
   "cell_type": "code",
   "execution_count": 18,
   "metadata": {},
   "outputs": [],
   "source": [
    "# Compute po20to100avg\n",
    "# Note: don't need wted avg with depth b/c 0-100m has uniform 5-m depth intervals \n",
    "po20to100avg = po2.sel(depth=slice(0,100)).mean(dim='depth')\n",
    "po20to100avg.name = 'po20to100avg'; po20to100avg.attrs['units'] = 'm kPa'\n",
    "po20to100avg.attrs['long_name'] = 'po2 integrated down to 100-m depth'\n",
    "# Test 1:\n",
    "#po20to100avg.mean(dim='time').plot()\n",
    "# Test 2:\n",
    "# # count number of non-zero measurements btwn 0 and 100 m\n",
    "# po20to100count = po2.sel(depth=slice(0,100)).count(dim='depth')\n",
    "# po20to100countnz = po20to100count.where(po20to100count>=1, np.NaN)\n",
    "# # look and make sure that most profiles have more than a few measurements btwn 0 and 100 m\n",
    "# # --> yup! looks good\n",
    "# po20to100countnz.plot.hist(bins=25)"
   ]
  },
  {
   "cell_type": "code",
   "execution_count": 19,
   "metadata": {},
   "outputs": [],
   "source": [
    "# Compute temp0to100avg\n",
    "# Note: don't need wted avg with depth b/c 0-100m has uniform 5-m depth intervals \n",
    "temp0to100avg = temp.sel(depth=slice(0,100)).mean(dim='depth')\n",
    "temp0to100avg.name = 'temp0to100avg'; temp0to100avg.attrs['units'] = 'm kPa'\n",
    "temp0to100avg.attrs['long_name'] = 'temp integrated down to 100-m depth'\n",
    "# # Test 1:\n",
    "# temp0to100avg.mean(dim='time').plot()\n",
    "# # Test 2:\n",
    "# # count number of non-zero measurements btwn 0 and 100 m\n",
    "# temp0to100count = temp.sel(depth=slice(0,100)).count(dim='depth')\n",
    "# temp0to100countnz = temp0to100count.where(temp0to100count>=1, np.NaN)\n",
    "# # look and make sure that most profiles have more than a few measurements btwn 0 and 100 m\n",
    "# # --> yup! looks good\n",
    "# temp0to100countnz.plot.hist(bins=25)"
   ]
  },
  {
   "cell_type": "markdown",
   "metadata": {},
   "source": [
    "# Load chl data"
   ]
  },
  {
   "cell_type": "code",
   "execution_count": 20,
   "metadata": {},
   "outputs": [],
   "source": [
    "ncfile = dpath + 'chl/ESACCI-OC-L3S-CHLOR_A-MERGED-1M_MONTHLY_5degWCPFCgrid_GEO_PML_OCx-199709-201812-fv4.0.nc'\n",
    "chl = xr.open_dataset(ncfile) # mg/m^3"
   ]
  },
  {
   "cell_type": "markdown",
   "metadata": {},
   "source": [
    "### Correct the time axis"
   ]
  },
  {
   "cell_type": "code",
   "execution_count": 21,
   "metadata": {},
   "outputs": [],
   "source": [
    "# - Time goes from Sep 1997 - Dec 2018 --> 256 months\n",
    "begdatechl = datetime.date(year = 1997, month = 9, day = 1)\n",
    "enddatechl = datetime.date(year = 2018, month = 12, day = 1)\n",
    "timemochl = pd.date_range(begdatechl, enddatechl, freq='MS')\n",
    "chl['TIME'] = timemochl"
   ]
  },
  {
   "cell_type": "markdown",
   "metadata": {},
   "source": [
    "### Rename"
   ]
  },
  {
   "cell_type": "code",
   "execution_count": 22,
   "metadata": {},
   "outputs": [],
   "source": [
    "logchl = np.log10(chl['CHLA'])\n",
    "logchl = logchl.rename({'LON':'lon', 'LAT':'lat', 'TIME':'time'})\n",
    "logchl.name = 'logchl'"
   ]
  },
  {
   "cell_type": "markdown",
   "metadata": {},
   "source": [
    "# Load MLD data"
   ]
  },
  {
   "cell_type": "code",
   "execution_count": 23,
   "metadata": {},
   "outputs": [],
   "source": [
    "ncfile = dpath + 'ecco/MXLDEPTH.0001.WCPFC5deggrid.nc'\n",
    "MLD = xr.open_dataset(ncfile) # m\n",
    "mld = MLD['MLD']"
   ]
  },
  {
   "cell_type": "markdown",
   "metadata": {},
   "source": [
    "### Correct the time axis"
   ]
  },
  {
   "cell_type": "code",
   "execution_count": 24,
   "metadata": {},
   "outputs": [],
   "source": [
    "# - Time goes from Jan 1992 - Dec 2011 --> 240 months\n",
    "begdatemld = datetime.date(year = 1992, month = 1, day = 1)\n",
    "enddatemld = datetime.date(year = 2011, month = 12, day = 1)\n",
    "timemomld = pd.date_range(begdatemld, enddatemld, freq='MS')\n",
    "mld['TIME'] = timemomld"
   ]
  },
  {
   "cell_type": "markdown",
   "metadata": {},
   "source": [
    "### Rename"
   ]
  },
  {
   "cell_type": "code",
   "execution_count": 25,
   "metadata": {},
   "outputs": [],
   "source": [
    "mld = mld.rename({'LON':'lon', 'LAT':'lat', 'TIME':'time'})\n",
    "mld.name = 'mld'"
   ]
  },
  {
   "cell_type": "markdown",
   "metadata": {},
   "source": [
    "# Load SSHA data"
   ]
  },
  {
   "cell_type": "code",
   "execution_count": null,
   "metadata": {},
   "outputs": [],
   "source": [
    "# # - this doesn't really load ssha #'s for some reason\n",
    "# combinedssha = xr.open_mfdataset(dpath + 'aviso/msla/*.nc', combine='by_coords', concat_dim='TIME',\n",
    "#                   data_vars='minimal', coords='minimal', compat='override')\n",
    "# # The above command concatenates variables along the \"time\" dimension,\n",
    "# # but only those that already contain the \"time\" dimension (data_vars='minimal', coords='minimal').\n",
    "# # Variables that lack the \"time\" dimension are taken from the first dataset (compat='override')."
   ]
  },
  {
   "cell_type": "code",
   "execution_count": 205,
   "metadata": {},
   "outputs": [],
   "source": [
    "combinedssha = xr.merge([xr.open_dataset(f) for f in glob(dpath + 'aviso/msla/*.nc')])\n",
    "ssha = 100*combinedssha['SSHA'] # cm"
   ]
  },
  {
   "cell_type": "markdown",
   "metadata": {},
   "source": [
    "### Correct the time axis"
   ]
  },
  {
   "cell_type": "code",
   "execution_count": 207,
   "metadata": {},
   "outputs": [],
   "source": [
    "# - Time goes from Jan 1993 - Dec 2018 --> 312 months\n",
    "begdatessha = datetime.date(year = 1993, month = 1, day = 1)\n",
    "enddatessha = datetime.date(year = 2018, month = 12, day = 1)\n",
    "timemossha = pd.date_range(begdatessha, enddatessha, freq='MS')\n",
    "ssha['TIME'] = timemossha"
   ]
  },
  {
   "cell_type": "markdown",
   "metadata": {},
   "source": [
    "### Rename"
   ]
  },
  {
   "cell_type": "code",
   "execution_count": 208,
   "metadata": {},
   "outputs": [],
   "source": [
    "ssha = ssha.rename({'LON':'lon', 'LAT':'lat', 'TIME':'time'})\n",
    "ssha.name = 'ssha'"
   ]
  }
 ],
 "metadata": {
  "kernelspec": {
   "display_name": "Python 3",
   "language": "python",
   "name": "python3"
  },
  "language_info": {
   "codemirror_mode": {
    "name": "ipython",
    "version": 3
   },
   "file_extension": ".py",
   "mimetype": "text/x-python",
   "name": "python",
   "nbconvert_exporter": "python",
   "pygments_lexer": "ipython3",
   "version": "3.7.3"
  }
 },
 "nbformat": 4,
 "nbformat_minor": 4
}
