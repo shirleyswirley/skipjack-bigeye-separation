{
 "cells": [
  {
   "cell_type": "code",
   "execution_count": 32,
   "metadata": {},
   "outputs": [],
   "source": [
    "%matplotlib inline"
   ]
  },
  {
   "cell_type": "code",
   "execution_count": 1,
   "metadata": {},
   "outputs": [],
   "source": [
    "import datetime\n",
    "import matplotlib.pyplot as plt\n",
    "import netCDF4 as nc\n",
    "import numpy as np\n",
    "import os\n",
    "import pandas as pd"
   ]
  },
  {
   "cell_type": "code",
   "execution_count": 2,
   "metadata": {},
   "outputs": [
    {
     "data": {
      "text/plain": [
       "'/opt/skipjack-bigeye-separation/python'"
      ]
     },
     "execution_count": 2,
     "metadata": {},
     "output_type": "execute_result"
    }
   ],
   "source": [
    "# - See what dir we're in\n",
    "os.getcwd()"
   ]
  },
  {
   "cell_type": "code",
   "execution_count": null,
   "metadata": {},
   "outputs": [],
   "source": [
    "import scipy as sp\n",
    "from reverse_colormap import reverse_colormap\n",
    "import cmocean\n",
    "from mpl_toolkits.basemap import Basemap, addcyclic, shiftgrid"
   ]
  },
  {
   "cell_type": "code",
   "execution_count": 3,
   "metadata": {},
   "outputs": [],
   "source": [
    "dpath = '/opt/skipjack-bigeye-separation/data/'"
   ]
  },
  {
   "cell_type": "markdown",
   "metadata": {},
   "source": [
    "# Load monthly 5 by 5 degree WCPFC catch and effort data"
   ]
  },
  {
   "cell_type": "markdown",
   "metadata": {},
   "source": [
    "Variables loaded are:  \n",
    "lon, lat, time,\n",
    "skj_c_una, skj_c_log, skj_c_dfad, skj_c_afad, skj_c_oth,  \n",
    "bet_c_una, bet_c_log, bet_c_dfad, bet_c_afad, bet_c_oth,  \n",
    "sets_una, sets_log, sets_dfad, sets_afad, sets_oth"
   ]
  },
  {
   "cell_type": "code",
   "execution_count": 4,
   "metadata": {},
   "outputs": [],
   "source": [
    "ncfile = dpath + 'WCPFC/5by5deg/ByMonth/PurseSeine_0/WCPFC_purseseine_bysettype_monthly_5deg.nc'\n",
    "fh = nc.Dataset(ncfile, mode='r') # fh = file handle"
   ]
  },
  {
   "cell_type": "code",
   "execution_count": 6,
   "metadata": {},
   "outputs": [],
   "source": [
    "lon = fh.variables['lon'][:]\n",
    "lat = fh.variables['lat'][:]\n",
    "time = fh.variables['time'][:] # monthly data starts jan-1967"
   ]
  },
  {
   "cell_type": "code",
   "execution_count": 7,
   "metadata": {},
   "outputs": [],
   "source": [
    "# - Dimensions of following variables are time, y, x\n",
    "skj_c_una = fh.variables['skj_c_una'][:];\n",
    "skj_c_log = fh.variables['skj_c_log'][:];\n",
    "skj_c_dfad = fh.variables['skj_c_dfad'][:];\n",
    "skj_c_afad = fh.variables['skj_c_afad'][:];\n",
    "skj_c_oth = fh.variables['skj_c_oth'][:];\n",
    "\n",
    "bet_c_una = fh.variables['bet_c_una'][:];\n",
    "bet_c_log = fh.variables['bet_c_log'][:];\n",
    "bet_c_dfad = fh.variables['bet_c_dfad'][:];\n",
    "bet_c_afad = fh.variables['bet_c_afad'][:];\n",
    "bet_c_oth = fh.variables['bet_c_oth'][:];\n",
    "\n",
    "sets_una = fh.variables['sets_una'][:];\n",
    "sets_log = fh.variables['sets_log'][:];\n",
    "sets_dfad = fh.variables['sets_dfad'][:];\n",
    "sets_afad = fh.variables['sets_afad'][:];\n",
    "sets_oth = fh.variables['sets_oth'][:];"
   ]
  },
  {
   "cell_type": "code",
   "execution_count": 8,
   "metadata": {},
   "outputs": [],
   "source": [
    "fh.close()"
   ]
  },
  {
   "cell_type": "code",
   "execution_count": 9,
   "metadata": {},
   "outputs": [
    {
     "name": "stdout",
     "output_type": "stream",
     "text": [
      "[112.5 117.5 122.5 127.5 132.5 137.5 142.5 147.5 152.5 157.5 162.5 167.5\n",
      " 172.5 177.5 182.5 187.5 192.5 197.5 202.5 207.5 212.5 217.5 222.5 227.5]\n",
      "<class 'numpy.ma.core.MaskedArray'>\n",
      "[-52.5 -47.5 -42.5 -37.5 -32.5 -27.5 -22.5 -17.5 -12.5  -7.5  -2.5   2.5\n",
      "   7.5  12.5  17.5  22.5  27.5  32.5  37.5  42.5  47.5]\n",
      "(612,)\n",
      "(612, 21, 24)\n"
     ]
    }
   ],
   "source": [
    "# - Check that everything looks as expected\n",
    "print(lon)\n",
    "print(type(lon))\n",
    "print(lat)\n",
    "print(time.shape)\n",
    "print(np.shape(skj_c_una))"
   ]
  },
  {
   "cell_type": "markdown",
   "metadata": {},
   "source": [
    "# Define beginning and end dates for catch data"
   ]
  },
  {
   "cell_type": "markdown",
   "metadata": {},
   "source": [
    "Variables created are:  \n",
    "begdate, enddate, timemocatch"
   ]
  },
  {
   "cell_type": "code",
   "execution_count": 10,
   "metadata": {},
   "outputs": [],
   "source": [
    "# - Time goes from Jan 1967 - Dec 2017 --> 612 months\n",
    "begdate = datetime.date(year = 1967, month = 1, day = 1)\n",
    "enddate = datetime.date(year = 2017, month = 12, day = 1)\n",
    "timemocatch = pd.date_range(begdate, enddate, freq='MS')\n",
    "#np.array(timemocatch)"
   ]
  },
  {
   "cell_type": "markdown",
   "metadata": {},
   "source": [
    "# Load monthly ENSO time series"
   ]
  },
  {
   "cell_type": "markdown",
   "metadata": {},
   "source": [
    "Variables loaded/calculated are:  \n",
    "oni, onien, oniln, onitime"
   ]
  },
  {
   "cell_type": "code",
   "execution_count": 22,
   "metadata": {},
   "outputs": [],
   "source": [
    "# - Load ONI \n",
    "dfoni = pd.read_csv(dpath+'ENSOindices/oni/oniindex1950_2018.txt',names=['Date','ONI']);\n",
    "#dfoni.head(2)\n",
    "\n",
    "# - Month fractions corresp to jan, feb, mar, etc. in the ONI txt file\n",
    "monthfracs = [0,0.0834,0.1666,0.25,0.3334,0.4166,0.5,0.5834,0.6666,0.75,0.8334,0.9166];\n",
    "\n",
    "# - Get ONI ts over desired timeframe\n",
    "onibegmoidx = dfoni.index[dfoni['Date'] == (begdate.year + monthfracs[begdate.month-1])][0]\n",
    "oniendmoidx = dfoni.index[dfoni['Date'] == (enddate.year + monthfracs[enddate.month-1])][0]\n",
    "oni = dfoni['ONI'].iloc[onibegmoidx:(oniendmoidx+1)].values\n",
    "onitime = pd.date_range(begdate, enddate, freq='MS') # should be 612 months long"
   ]
  },
  {
   "cell_type": "code",
   "execution_count": 27,
   "metadata": {},
   "outputs": [],
   "source": [
    "# - Create EN/LN month classifications\n",
    "onien = [0]*len(oni) # 1 = el nino month\n",
    "oniln = [0]*len(oni) # 1 = la nina month\n",
    "\n",
    "# - Classify El Nino months\n",
    "cmcounter = 0; # consecutive months counter\n",
    "for imonth in range(len(oni)):\n",
    "    if oni[imonth]>=0.5:\n",
    "        cmcounter=cmcounter+1;\n",
    "    elif oni[imonth]<0.5:\n",
    "        cmcounter=0;\n",
    "    if cmcounter>=5:\n",
    "        onien[imonth-cmcounter:imonth]=[1]*cmcounter;\n",
    "\n",
    "# - Classify La Nina months\n",
    "cmcounter = 0; # consecutive months counter\n",
    "for imonth in range(len(oni)):\n",
    "    if oni[imonth]<=-0.5:\n",
    "        cmcounter=cmcounter+1;\n",
    "    elif oni[imonth]>-0.5:\n",
    "        cmcounter=0;\n",
    "    if cmcounter>=5:\n",
    "        oniln[imonth-cmcounter:imonth]=[1]*cmcounter;"
   ]
  },
  {
   "cell_type": "code",
   "execution_count": 30,
   "metadata": {},
   "outputs": [
    {
     "data": {
      "text/plain": [
       "numpy.ndarray"
      ]
     },
     "execution_count": 30,
     "metadata": {},
     "output_type": "execute_result"
    }
   ],
   "source": [
    "type(oni)"
   ]
  },
  {
   "cell_type": "code",
   "execution_count": 31,
   "metadata": {},
   "outputs": [
    {
     "data": {
      "image/png": "[encoded data removed]",
      "text/plain": [
       "<Figure size 792x288 with 1 Axes>"
      ]
     },
     "metadata": {
      "needs_background": "light"
     },
     "output_type": "display_data"
    }
   ],
   "source": [
    "plotensoidx=1\n",
    "\n",
    "if plotensoidx==1:\n",
    "    fig = plt.figure(figsize=(11,4))\n",
    "    plt.plot(onitime,oni)\n",
    "    plt.plot(onitime,onien)\n",
    "    plt.plot(onitime,oniln)\n",
    "    plt.legend([\"oni\",\"onien\",\"oniln\"])"
   ]
  },
  {
   "cell_type": "markdown",
   "metadata": {},
   "source": [
    "# Calculate WCPFC total catch, CPUE, effot, bet:skj catch ratio, bet:skj CPUE ratio"
   ]
  },
  {
   "cell_type": "markdown",
   "metadata": {},
   "source": [
    "Variables calced are:  \n",
    "skj_c_tot, bet_c_tot, sets_tot, skj_cp_tot, bet_cp_tot, bettoskj_c_tot, bettoskj_cp_tot"
   ]
  },
  {
   "cell_type": "code",
   "execution_count": 34,
   "metadata": {},
   "outputs": [],
   "source": [
    "skj_c_tot = skj_c_una + skj_c_log + skj_c_dfad + skj_c_afad + skj_c_oth\n",
    "bet_c_tot = bet_c_una + bet_c_log + bet_c_dfad + bet_c_afad + bet_c_oth\n",
    "sets_tot = sets_una + sets_log + sets_dfad + sets_afad + sets_oth\n",
    "skj_cp_tot = skj_c_tot/sets_tot\n",
    "bet_cp_tot = bet_c_tot/sets_tot\n",
    "bettoskj_c_tot = bet_c_tot/skj_c_tot\n",
    "bettoskj_cp_tot = bet_c_tot/skj_cp_tot"
   ]
  },
  {
   "cell_type": "markdown",
   "metadata": {},
   "source": [
    "# Calculate mean and ENSO composites of total catch, CPUE, effort bet:skj catch and CPUE"
   ]
  },
  {
   "cell_type": "code",
   "execution_count": 37,
   "metadata": {},
   "outputs": [],
   "source": [
    "skj_c_tot_mean = np.mean(skj_c_tot,axis=0)\n",
    "skj_c_tot_en = np.mean(np.squeeze(skj_c_tot[np.where(onien),:,:]),axis=0)\n",
    "skj_c_tot_ln = np.mean(np.squeeze(skj_c_tot[np.where(oniln),:,:]),axis=0)\n",
    "\n",
    "bet_c_tot_mean = np.mean(bet_c_tot,axis=0)\n",
    "bet_c_tot_en = np.mean(np.squeeze(bet_c_tot[np.where(onien),:,:]),axis=0)\n",
    "bet_c_tot_ln = np.mean(np.squeeze(bet_c_tot[np.where(oniln),:,:]),axis=0)\n",
    "\n",
    "skj_cp_tot_mean = np.mean(skj_cp_tot,axis=0)\n",
    "skj_cp_tot_en = np.mean(np.squeeze(skj_cp_tot[np.where(onien),:,:]),axis=0)\n",
    "skj_cp_tot_ln = np.mean(np.squeeze(skj_cp_tot[np.where(oniln),:,:]),axis=0)\n",
    "\n",
    "bet_cp_tot_mean = np.mean(bet_cp_tot,axis=0)\n",
    "bet_cp_tot_en = np.mean(np.squeeze(bet_cp_tot[np.where(onien),:,:]),axis=0)\n",
    "bet_cp_tot_ln = np.mean(np.squeeze(bet_cp_tot[np.where(oniln),:,:]),axis=0)\n",
    "\n",
    "sets_tot_mean = np.mean(sets_tot,axis=0)\n",
    "sets_tot_en = np.mean(np.squeeze(sets_tot[np.where(onien),:,:]),axis=0)\n",
    "sets_tot_ln = np.mean(np.squeeze(sets_tot[np.where(oniln),:,:]),axis=0)\n",
    "\n",
    "bettoskj_c_tot_mean = np.mean(bettoskj_c_tot,axis=0)\n",
    "bettoskj_c_tot_en = np.mean(np.squeeze(bettoskj_c_tot[np.where(onien),:,:]),axis=0)\n",
    "bettoskj_c_tot_ln = np.mean(np.squeeze(bettoskj_c_tot[np.where(oniln),:,:]),axis=0)"
   ]
  },
  {
   "cell_type": "code",
   "execution_count": null,
   "metadata": {},
   "outputs": [],
   "source": []
  }
 ],
 "metadata": {
  "kernelspec": {
   "display_name": "Python 3",
   "language": "python",
   "name": "python3"
  },
  "language_info": {
   "codemirror_mode": {
    "name": "ipython",
    "version": 3
   },
   "file_extension": ".py",
   "mimetype": "text/x-python",
   "name": "python",
   "nbconvert_exporter": "python",
   "pygments_lexer": "ipython3",
   "version": "3.7.3"
  }
 },
 "nbformat": 4,
 "nbformat_minor": 4
}
