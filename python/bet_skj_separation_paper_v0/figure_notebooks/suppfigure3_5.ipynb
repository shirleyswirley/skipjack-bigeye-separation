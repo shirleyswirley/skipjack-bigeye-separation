{
 "cells": [
  {
   "cell_type": "code",
   "execution_count": null,
   "metadata": {},
   "outputs": [],
   "source": [
    "nrows = 4; ncols = 3\n",
    "for ifig in range(0,len(bsvsenv_all_maps_cc)):\n",
    "    \n",
    "    # - Set proj and define axes\n",
    "    fig,axes = plt.subplots(nrows=nrows, ncols=ncols, figsize=(16,15),\n",
    "        subplot_kw={'projection': ccrs.PlateCarree(central_longitude=200)})\n",
    "    \n",
    "    # - Make maps pretty\n",
    "    for _, ax in enumerate(fig.axes):\n",
    "        exec(open('helper_scripts/create_map_bgs.py').read())\n",
    "    \n",
    "    iiv = 0\n",
    "    for yax in range(0,nrows):\n",
    "        for xax in range(0,ncols):\n",
    "            \n",
    "            if iiv<len(bsvsenv_all_maps_cc[ifig]):\n",
    "                # - Plot correl + pval\n",
    "                bsvsenv_all_maps_cc[ifig][iiv].plot(\n",
    "                    ax=axes[yax][xax], transform=ccrs.PlateCarree(),\n",
    "                    cmap=cm.seismic, vmin=-1, vmax=1,\n",
    "                    cbar_kwargs={'pad': 0.02, 'label': 'Pearson\\'s R'});\n",
    "                [signiflonnow,signiflatnow]=find_where_pval_small(\n",
    "                    bsvsenv_all_maps_cc_pval[ifig][iiv],\n",
    "                    bsvsenv_all_maps_cc_ptf[ifig][iiv])\n",
    "                axes[yax][xax].scatter(signiflonnow, signiflatnow,\n",
    "                                       c='yellow', s=2, transform=ccrs.PlateCarree());\n",
    "                axes[yax][xax].set_xlabel(''); axes[yax][xax].set_ylabel('');\n",
    "                axes[yax][xax].set_title(bsvsenv_dvnicenamelist[ifig] + ' vs. ' + \n",
    "                                         bsvsenv_ivnicenamelist[iiv] + ' correlation')\n",
    "            else:\n",
    "                axes[yax][xax].set_visible(False)\n",
    "                \n",
    "            iiv = iiv + 1\n",
    "            \n",
    "    fig.savefig(figpath + 'suppfig' + str(ifig+3) + '_' + bsvsenv_dvnamelist[ifig] + 'vsenv_cc_maps.png',\n",
    "                bbox_inches='tight', pad_inches = 0, dpi = 200)"
   ]
  }
 ],
 "metadata": {
  "kernelspec": {
   "display_name": "Python 3",
   "language": "python",
   "name": "python3"
  },
  "language_info": {
   "codemirror_mode": {
    "name": "ipython",
    "version": 3
   },
   "file_extension": ".py",
   "mimetype": "text/x-python",
   "name": "python",
   "nbconvert_exporter": "python",
   "pygments_lexer": "ipython3",
   "version": "3.7.3"
  }
 },
 "nbformat": 4,
 "nbformat_minor": 4
}
