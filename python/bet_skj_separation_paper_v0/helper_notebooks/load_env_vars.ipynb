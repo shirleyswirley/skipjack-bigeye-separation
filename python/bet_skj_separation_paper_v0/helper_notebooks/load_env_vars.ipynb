{
 "cells": [
  {
   "cell_type": "markdown",
   "metadata": {},
   "source": [
    "# Load WOD18 data"
   ]
  },
  {
   "cell_type": "markdown",
   "metadata": {},
   "source": [
    "Loaded vars are: temp, sal, o2  \n",
    "Derived vars are: sst, temp100, tcd, sss, o2, o2100, po2, po2100, thd"
   ]
  },
  {
   "cell_type": "markdown",
   "metadata": {},
   "source": [
    "#### Load temp, sal, o2 from WOD18 nc files"
   ]
  },
  {
   "cell_type": "code",
   "execution_count": 6,
   "metadata": {},
   "outputs": [],
   "source": [
    "ncfile = dpath + 'WOD18/temp_195501-201807_5deg.nc'\n",
    "temp = xr.open_dataset(ncfile) # degC\n",
    "temp = temp['Temp']; temp.name = 'temp'\n",
    "\n",
    "ncfile = dpath + 'WOD18/sal_195501-201807_5deg.nc'\n",
    "sal = xr.open_dataset(ncfile) # psu\n",
    "sal = sal['Sal']; sal.name = 'sal'\n",
    "\n",
    "ncfile = dpath + 'WOD18/o2_195501-201807_5deg.nc'\n",
    "o2 = xr.open_dataset(ncfile) # umol/kg\n",
    "o2 = o2['O2']; o2.name = 'o2'"
   ]
  },
  {
   "cell_type": "markdown",
   "metadata": {},
   "source": [
    "#### Correct the time axis"
   ]
  },
  {
   "cell_type": "code",
   "execution_count": 7,
   "metadata": {},
   "outputs": [],
   "source": [
    "# - Time goes from Jan 1955 - Jul 2018 --> 763 months\n",
    "begdatewod = datetime.date(year = 1955, month = 1, day = 1)\n",
    "enddatewod = datetime.date(year = 2018, month = 7, day = 1)\n",
    "timemowod = pd.date_range(begdatewod, enddatewod, freq='MS')"
   ]
  },
  {
   "cell_type": "code",
   "execution_count": 8,
   "metadata": {},
   "outputs": [],
   "source": [
    "o2['time'] = timemowod\n",
    "sal['time'] = timemowod\n",
    "temp['time'] = timemowod"
   ]
  },
  {
   "cell_type": "markdown",
   "metadata": {},
   "source": [
    "#### Change lon from -180-180 to 0-360"
   ]
  },
  {
   "cell_type": "code",
   "execution_count": 9,
   "metadata": {},
   "outputs": [],
   "source": [
    "temp['lon'] = np.mod(temp['lon'], 360)\n",
    "temp = temp.reindex({'lon': np.sort(temp['lon'])}) # or: temp = temp.roll(lon=36)\n",
    "o2['lon'] = np.mod(o2['lon'], 360)\n",
    "o2 = o2.reindex({'lon': np.sort(o2['lon'])}) # or: o2 = o2.roll(lon=36)\n",
    "sal['lon'] = np.mod(sal['lon'], 360)\n",
    "sal = sal.reindex({'lon': np.sort(sal['lon'])}) # or: sal = sal.roll(lon=36)"
   ]
  },
  {
   "cell_type": "markdown",
   "metadata": {},
   "source": [
    "#### Calculate derived variables"
   ]
  },
  {
   "cell_type": "code",
   "execution_count": 10,
   "metadata": {},
   "outputs": [],
   "source": [
    "# - Grab sst, temp100, sss, o2100\n",
    "sst = temp.isel(depth=0); sst.name = 'sst'\n",
    "sst.attrs['long_name'] = 'sea surface temperature'\n",
    "\n",
    "temp100 = temp.sel(depth=100); temp100.name = 'temp100'\n",
    "temp100.attrs['long_name'] = 'temperature at 100m'\n",
    "\n",
    "sss = sal.isel(depth=0); sss.name = 'sss'\n",
    "sss.attrs['long_name'] = 'sea surface salinity'\n",
    "\n",
    "o2100 = o2.sel(depth=100); o2100.name = 'o2100'\n",
    "o2100.attrs['long_name'] = 'o2 at 100m'"
   ]
  },
  {
   "cell_type": "code",
   "execution_count": 13,
   "metadata": {},
   "outputs": [],
   "source": [
    "# - Compute po2; grab po2100\n",
    "loadpo2 = 1\n",
    "if loadpo2==0:\n",
    "    po2 = calc_po2(o2,temp,sal,o2.depth)\n",
    "    po2.name = 'po2'\n",
    "    po2.attrs['long_name'] = 'oxygen partial pressure'\n",
    "    po2.attrs['units'] = 'kPa'\n",
    "    po2.to_netcdf(dpath + 'WOD18/po2_195501-201807_5deg.nc')\n",
    "elif loadpo2==1:\n",
    "    ncfile = dpath + 'WOD18/po2_195501-201807_5deg.nc' \n",
    "    po2 = xr.open_dataset(ncfile) # kPa\n",
    "    po2 = po2['po2']\n",
    "po2100 = po2.sel(depth=100); po2100.name = 'po2100'\n",
    "po2100.attrs['long_name'] = 'po2 at 100m'\n",
    "po2100.attrs['units'] = 'kPa'"
   ]
  },
  {
   "cell_type": "code",
   "execution_count": 14,
   "metadata": {},
   "outputs": [],
   "source": [
    "# - Compute tuna hypoxic depth (THD)\n",
    "loadthd = 1\n",
    "if loadthd==0:\n",
    "    thd = xr.full_like(o2100,np.nan)\n",
    "    thd.name = 'thd'; thd.attrs['units'] = 'm';\n",
    "    thd.attrs['long_name'] = 'tuna hypoxic depth (15kPa)'\n",
    "    for ilon in range(thd.lon.size):\n",
    "        print(ilon)\n",
    "        for ilat in range(thd.lat.size):\n",
    "            for itime in range(thd.time.size):\n",
    "                po2profnow = po2.isel(lat=ilat,lon=ilon,time=itime)\n",
    "                po2profnow = po2profnow[~np.isnan(po2profnow)]\n",
    "                if len(po2profnow)>0: # get rid of case in which po2profnow is all nans\n",
    "                    if (po2profnow.min()<=thp) & (po2profnow.max()>=thp):\n",
    "                        didxdeep = np.argmax(po2profnow<=thp).values\n",
    "                        if didxdeep>0:\n",
    "                        # get rid of case in which you have a strangely tiny po2 pressure < thp\n",
    "                        # at the very top of the profile (i.e., either start measuring in mid depth of\n",
    "                        # OMZ or you have erroneously small po2 pressure at/near the surface)\n",
    "                            interpf = spinterpolate.interp1d(\n",
    "                                po2profnow.isel(depth=slice(didxdeep-1,didxdeep+1)),\n",
    "                                po2profnow['depth'].isel(depth=slice(didxdeep-1,didxdeep+1)))\n",
    "                            thd[itime,ilat,ilon] = interpf(thp)\n",
    "    thd.to_netcdf(dpath + 'WOD18/thd_195501-201807_5deg.nc')\n",
    "elif loadthd==1:\n",
    "    ncfile = dpath + 'WOD18/thd_195501-201807_5deg.nc' \n",
    "    thd = xr.open_dataset(ncfile) # m\n",
    "    thd = thd['thd']"
   ]
  },
  {
   "cell_type": "code",
   "execution_count": 17,
   "metadata": {},
   "outputs": [],
   "source": [
    "# Compute thermocline depth (TCD)\n",
    "loadtcd = 1; tcdtype = 'variable'; # choose 'variable','20degC'\n",
    "if loadtcd==0:\n",
    "    tcd = xr.full_like(sst,np.nan)\n",
    "    tcd.name = 'tcd'; tcd.attrs['units'] = 'm';\n",
    "    tcd.attrs['long_name'] = 'thermocline depth (' + tcdtype + 'isotherm method)'\n",
    "    if tcdtype=='20degC':\n",
    "        ttcnow = 20;\n",
    "    elif tcdtype=='variable':\n",
    "        # Calculate thermocline temperature 3D (x,y,time) map for variable isotherm method\n",
    "        tmld = sst-0.8\n",
    "        ttc = tmld-0.25*(tmld-temp.sel(depth=400))\n",
    "    for ilon in range(tcd.lon.size):\n",
    "        for ilat in range(tcd.lat.size):\n",
    "            for itime in range(tcd.time.size):\n",
    "                tempprofnow = temp.isel(lat=ilat,lon=ilon,time=itime)\n",
    "                tempprofnow = tempprofnow[~np.isnan(tempprofnow)]\n",
    "                if len(tempprofnow)>0: # get rid of case in which tempprofnow is all nans\n",
    "                    if tcdtype=='variable':\n",
    "                        ttcnow = ttc.isel(lat=ilat,lon=ilon,time=itime).values\n",
    "                    if (tempprofnow.min()<=ttcnow) & (tempprofnow.max()>=ttcnow):\n",
    "                        didxdeep = np.argmax(tempprofnow<=ttcnow).values\n",
    "                        if didxdeep>0:\n",
    "                        # get rid of case in which you have a strangely tiny temp pressure < ttcnow\n",
    "                        # at the very top of the profile (i.e., either start measuring in mid depth of\n",
    "                        # OMZ or you have erroneously small temp pressure at/near the surface)\n",
    "                            interpf = spinterpolate.interp1d(\n",
    "                                tempprofnow.isel(depth=slice(didxdeep-1,didxdeep+1)),\n",
    "                                tempprofnow['depth'].isel(depth=slice(didxdeep-1,didxdeep+1)))\n",
    "                            tcd[itime,ilat,ilon] = interpf(ttcnow)\n",
    "    tcd.to_netcdf(dpath + 'WOD18/tcd_195501-201807_5deg.nc')\n",
    "elif loadtcd==1:\n",
    "    ncfile = dpath + 'WOD18/tcd_195501-201807_5deg.nc' \n",
    "    tcd = xr.open_dataset(ncfile) # m\n",
    "    tcd = tcd['tcd']"
   ]
  },
  {
   "cell_type": "markdown",
   "metadata": {},
   "source": [
    "# Load chl data"
   ]
  },
  {
   "cell_type": "code",
   "execution_count": 20,
   "metadata": {},
   "outputs": [],
   "source": [
    "ncfile = dpath + 'chl/ESACCI-OC-L3S-CHLOR_A-MERGED-1M_MONTHLY_5degWCPFCgrid_GEO_PML_OCx-199709-201812-fv4.0.nc'\n",
    "chl = xr.open_dataset(ncfile) # mg/m^3"
   ]
  },
  {
   "cell_type": "markdown",
   "metadata": {},
   "source": [
    "#### Correct the time axis"
   ]
  },
  {
   "cell_type": "code",
   "execution_count": 21,
   "metadata": {},
   "outputs": [],
   "source": [
    "# - Time goes from Sep 1997 - Dec 2018 --> 256 months\n",
    "begdatechl = datetime.date(year = 1997, month = 9, day = 1)\n",
    "enddatechl = datetime.date(year = 2018, month = 12, day = 1)\n",
    "timemochl = pd.date_range(begdatechl, enddatechl, freq='MS')\n",
    "chl['TIME'] = timemochl"
   ]
  },
  {
   "cell_type": "markdown",
   "metadata": {},
   "source": [
    "#### Rename"
   ]
  },
  {
   "cell_type": "code",
   "execution_count": 22,
   "metadata": {},
   "outputs": [],
   "source": [
    "logchl = np.log10(chl['CHLA'])\n",
    "logchl = logchl.rename({'LON':'lon', 'LAT':'lat', 'TIME':'time'})\n",
    "logchl.name = 'logchl'"
   ]
  },
  {
   "cell_type": "markdown",
   "metadata": {},
   "source": [
    "# Load MLD data"
   ]
  },
  {
   "cell_type": "code",
   "execution_count": 23,
   "metadata": {},
   "outputs": [],
   "source": [
    "ncfile = dpath + 'ecco/MXLDEPTH_1992_01-2017_12.WCPFC5deggrid.nc'\n",
    "MLD = xr.open_dataset(ncfile) # m\n",
    "mld = MLD['MLD']\n",
    "mld = mld.where(mld!=0)"
   ]
  },
  {
   "cell_type": "markdown",
   "metadata": {},
   "source": [
    "#### Correct the time axis"
   ]
  },
  {
   "cell_type": "code",
   "execution_count": null,
   "metadata": {},
   "outputs": [],
   "source": [
    "# - Time goes from Jan 1992 - Dec 2017 --> 312 months\n",
    "begdatemld = datetime.date(year = 1992, month = 1, day = 1)\n",
    "enddatemld = datetime.date(year = 2017, month = 12, day = 1)\n",
    "timemomld = pd.date_range(begdatemld, enddatemld, freq='MS')\n",
    "mld['TIME'] = timemomld"
   ]
  },
  {
   "cell_type": "markdown",
   "metadata": {},
   "source": [
    "#### Rename"
   ]
  },
  {
   "cell_type": "code",
   "execution_count": 25,
   "metadata": {},
   "outputs": [],
   "source": [
    "mld = mld.rename({'LON':'lon', 'LAT':'lat', 'TIME':'time'})\n",
    "mld.name = 'mld'"
   ]
  },
  {
   "cell_type": "markdown",
   "metadata": {},
   "source": [
    "# Load SSHA data"
   ]
  },
  {
   "cell_type": "code",
   "execution_count": 205,
   "metadata": {},
   "outputs": [],
   "source": [
    "combinedssha = xr.merge([xr.open_dataset(f) for f in glob(dpath + 'aviso/msla/*.nc')])\n",
    "ssha = 100*combinedssha['SSHA'] # cm"
   ]
  },
  {
   "cell_type": "markdown",
   "metadata": {},
   "source": [
    "#### Correct the time axis"
   ]
  },
  {
   "cell_type": "code",
   "execution_count": 207,
   "metadata": {},
   "outputs": [],
   "source": [
    "# - Time goes from Jan 1993 - Dec 2018 --> 312 months\n",
    "begdatessha = datetime.date(year = 1993, month = 1, day = 1)\n",
    "enddatessha = datetime.date(year = 2018, month = 12, day = 1)\n",
    "timemossha = pd.date_range(begdatessha, enddatessha, freq='MS')\n",
    "ssha['TIME'] = timemossha"
   ]
  },
  {
   "cell_type": "markdown",
   "metadata": {},
   "source": [
    "#### Rename"
   ]
  },
  {
   "cell_type": "code",
   "execution_count": 208,
   "metadata": {},
   "outputs": [],
   "source": [
    "ssha = ssha.rename({'LON':'lon', 'LAT':'lat', 'TIME':'time'})\n",
    "ssha.name = 'ssha'"
   ]
  }
 ],
 "metadata": {
  "kernelspec": {
   "display_name": "Python 3",
   "language": "python",
   "name": "python3"
  },
  "language_info": {
   "codemirror_mode": {
    "name": "ipython",
    "version": 3
   },
   "file_extension": ".py",
   "mimetype": "text/x-python",
   "name": "python",
   "nbconvert_exporter": "python",
   "pygments_lexer": "ipython3",
   "version": "3.7.3"
  }
 },
 "nbformat": 4,
 "nbformat_minor": 4
}
