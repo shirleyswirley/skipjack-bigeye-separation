{
 "cells": [
  {
   "cell_type": "markdown",
   "metadata": {},
   "source": [
    "### Plot # of sets (log scale)"
   ]
  },
  {
   "cell_type": "code",
   "execution_count": null,
   "metadata": {},
   "outputs": [],
   "source": [
    "unitsnow = '[log(# of sets)]'\n",
    "setslist = [wf.sets_log, wf.sets_dfad, wf.sets_afad,\n",
    "            sets_tot, wf.sets_una, wf.sets_oth]\n",
    "setstitlelist = ['Natural log/debris sets', 'Drifting FAD sets', 'Anchored FAD sets',\n",
    "                 'Total associated sets', 'Unassociated sets', 'Other sets'] \n",
    "\n",
    "# - Set proj and define axes\n",
    "fig, axes = plt.subplots(nrows=2, ncols=3, figsize=(16,4),\n",
    "    subplot_kw={'projection': ccrs.PlateCarree(central_longitude=200)})\n",
    "\n",
    "# - Make maps pretty + plot\n",
    "isp = 0\n",
    "for irow in range(axes.shape[0]):\n",
    "    for icol in range(axes.shape[1]):\n",
    "        if isp > len(setslist)-1:\n",
    "            axes[irow,icol].set_visible(False)\n",
    "        else:\n",
    "            ax = axes[irow][icol]\n",
    "            exec(open('helper_scripts/create_map_bgs.py').read())\n",
    "            ax.text(-0.08, 1.08, string.ascii_uppercase[isp],\n",
    "                    transform=ax.transAxes, size=18, weight='bold') \n",
    "            setsnow = setslist[isp].sum(dim='time')\n",
    "            setsnow = np.log10(setsnow.where(setsnow>0))\n",
    "            setsnow.plot(\n",
    "                ax=ax, transform=ccrs.PlateCarree(),\n",
    "                cmap=plt.cm.get_cmap('viridis',13), vmin=0, vmax=5.433,\n",
    "                cbar_kwargs={'pad': 0.02, 'label': unitsnow})\n",
    "            ax.set_xlabel(''); ax.set_ylabel('')\n",
    "            ax.set_title(setstitlelist[isp])\n",
    "            isp = isp + 1\n",
    "        \n",
    "# - Save fig\n",
    "fig.savefig(figpath + 'S1_fig.pdf',\n",
    "            bbox_inches='tight', pad_inches = 0, dpi = 300)\n",
    "fig.savefig(figpath + 'S1_fig.png',\n",
    "            bbox_inches='tight', pad_inches = 0, dpi = 300)"
   ]
  }
 ],
 "metadata": {
  "kernelspec": {
   "display_name": "Python 3",
   "language": "python",
   "name": "python3"
  },
  "language_info": {
   "codemirror_mode": {
    "name": "ipython",
    "version": 3
   },
   "file_extension": ".py",
   "mimetype": "text/x-python",
   "name": "python",
   "nbconvert_exporter": "python",
   "pygments_lexer": "ipython3",
   "version": "3.7.3"
  }
 },
 "nbformat": 4,
 "nbformat_minor": 4
}
