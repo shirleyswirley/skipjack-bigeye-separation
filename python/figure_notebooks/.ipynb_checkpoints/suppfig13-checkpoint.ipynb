{
 "cells": [
  {
   "cell_type": "code",
   "execution_count": null,
   "metadata": {},
   "outputs": [],
   "source": [
    "# - Define subplot-variable plot params\n",
    "mapsnow = [ssha_anom_enln_std, ssha_clim_std,\n",
    "           ssha_anom_enln_std-ssha_clim_std,\n",
    "           temp100_anom_enln_std, temp100_clim_std,\n",
    "           temp100_anom_enln_std-temp100_clim_std,\n",
    "           tcd_anom_enln_std, tcd_clim_std,\n",
    "           tcd_anom_enln_std-tcd_clim_std,\n",
    "           sst_anom_enln_std, sst_clim_std,\n",
    "           sst_anom_enln_std-sst_clim_std]\n",
    "vmaxsnow = [15,15,15,\n",
    "            4,4,4,\n",
    "            30,30,30,\n",
    "            1.75,1.75,1.75]    \n",
    "vminsnow = [0,0,-15,\n",
    "            0,0,-4,\n",
    "            0,0,-30,\n",
    "            0,0,-1.75]    \n",
    "cmseqnow = plt.cm.get_cmap('viridis',13)\n",
    "cmdivnow = plt.cm.get_cmap('PuOr',15)\n",
    "cmsnow = [cmseqnow, cmseqnow, cmdivnow,\n",
    "          cmseqnow, cmseqnow, cmdivnow,\n",
    "          cmseqnow, cmseqnow, cmdivnow,\n",
    "          cmseqnow, cmseqnow, cmdivnow]\n",
    "ploteezsnow = 12*[0]\n",
    "unitsnow = ['cm','cm','cm',\n",
    "            '°C','°C','°C',\n",
    "            'm','m','m',\n",
    "            '°C','°C','°C']\n",
    "titlesnow = ['SSHA ENSO anomalous σ', 'SSHA climatological σ',\n",
    "             'SSHA ENSO anom minus clim σ',\n",
    "             '$T_{100m}$ ENSO anomalous σ', '$T_{100m}$ climatological σ',\n",
    "             '$T_{100m}$ anom minus clim σ',\n",
    "             'TCD ENSO anomalous σ', 'TCD climatological σ',\n",
    "             'TCD anom minus clim σ',\n",
    "             'SST ENSO anomalous σ', 'SST climatological σ',\n",
    "             'SST anom minus clim σ']"
   ]
  },
  {
   "cell_type": "code",
   "execution_count": null,
   "metadata": {},
   "outputs": [],
   "source": [
    "# - Set proj and define axes\n",
    "fig,axes = plt.subplots(nrows=4, ncols=3, figsize=(16,9),\n",
    "    subplot_kw={'projection': ccrs.PlateCarree(central_longitude=200)})\n",
    "\n",
    "# - Make maps pretty + plot\n",
    "isp = 0\n",
    "for irow in range(axes.shape[0]):\n",
    "    for icol in range(axes.shape[1]):\n",
    "        ax = axes[irow][icol]\n",
    "        exec(open('helper_scripts/create_map_bgs.py').read())\n",
    "        ax.text(-0.08, 1.08, string.ascii_uppercase[isp],\n",
    "                transform=ax.transAxes, size=16, weight='bold') \n",
    "        \n",
    "        mapsnow[isp].plot(\n",
    "            ax=ax, transform=ccrs.PlateCarree(), cmap=cmsnow[isp],\n",
    "            vmin=vminsnow[isp], vmax=vmaxsnow[isp],\n",
    "            cbar_kwargs={'pad': 0.02, 'label': unitsnow[isp]})\n",
    "        \n",
    "        if ploteezsnow[isp]==1:\n",
    "            nueezs.plot(ax=ax, transform=ccrs.PlateCarree(),\n",
    "                color=eezfcnow, edgecolor=eezlcnow, linewidth=eezlwnow)\n",
    "            \n",
    "        ax.set_xlabel(''); ax.set_ylabel('')\n",
    "        ax.set_title(titlesnow[isp])\n",
    "        isp = isp + 1\n",
    "        \n",
    "fig.savefig(figpath + 'S13_fig.pdf',\n",
    "            bbox_inches='tight', pad_inches = 0, dpi = 300)\n",
    "fig.savefig(figpath + 'S13_fig.png',\n",
    "            bbox_inches='tight', pad_inches = 0, dpi = 300)"
   ]
  }
 ],
 "metadata": {
  "kernelspec": {
   "display_name": "Python 3",
   "language": "python",
   "name": "python3"
  },
  "language_info": {
   "codemirror_mode": {
    "name": "ipython",
    "version": 3
   },
   "file_extension": ".py",
   "mimetype": "text/x-python",
   "name": "python",
   "nbconvert_exporter": "python",
   "pygments_lexer": "ipython3",
   "version": "3.7.3"
  }
 },
 "nbformat": 4,
 "nbformat_minor": 4
}
