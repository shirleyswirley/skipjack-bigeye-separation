{
 "cells": [
  {
   "cell_type": "code",
   "execution_count": null,
   "metadata": {},
   "outputs": [],
   "source": [
    "eezfcnow = 'none'\n",
    "eezlcnow = 'gray'\n",
    "eezlsnow = '-'\n",
    "eezlwnow = 1.5\n",
    "\n",
    "fig,ax = plt.subplots(nrows=1, ncols=1, figsize=(10,8),\n",
    "    subplot_kw={'projection': ccrs.PlateCarree(central_longitude=200)})\n",
    "\n",
    "# - Make maps pretty\n",
    "exec(open('helper_scripts/create_map_bgs.py').read())\n",
    "\n",
    "# - Plot mean skj, bet, bet:skj cpue (fig. 1a-c)\n",
    "# w/ overlay of WCPFC convention area\n",
    "nueezmask.plot(\n",
    "    ax=ax, transform=ccrs.PlateCarree(),\n",
    "    cmap=cm.viridis,\n",
    "    cbar_kwargs={'pad': 0.02})\n",
    "nueezs.plot(ax=ax, transform=ccrs.PlateCarree(),\n",
    "            color=eezfcnow, edgecolor=eezlcnow,\n",
    "            linewidth=eezlwnow, linestyle=eezlsnow)\n",
    "\n",
    "fig.savefig(figpath + 'eez_map_areas_5deg.png',\n",
    "            bbox_inches='tight', pad_inches = 0, dpi = 200)"
   ]
  }
 ],
 "metadata": {
  "kernelspec": {
   "display_name": "Python 3",
   "language": "python",
   "name": "python3"
  },
  "language_info": {
   "codemirror_mode": {
    "name": "ipython",
    "version": 3
   },
   "file_extension": ".py",
   "mimetype": "text/x-python",
   "name": "python",
   "nbconvert_exporter": "python",
   "pygments_lexer": "ipython3",
   "version": "3.7.3"
  }
 },
 "nbformat": 4,
 "nbformat_minor": 4
}
