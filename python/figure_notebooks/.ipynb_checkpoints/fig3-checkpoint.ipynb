{
 "cells": [
  {
   "cell_type": "code",
   "execution_count": 36,
   "metadata": {},
   "outputs": [],
   "source": [
    "# - Decide which var to plot in main notebook code\n",
    "#mapvarnow = 'bettoskj' # choose: bettoskj, skj, bet"
   ]
  },
  {
   "cell_type": "code",
   "execution_count": null,
   "metadata": {},
   "outputs": [],
   "source": [
    "# - Define subplot-variable plot params\n",
    "if mapvarnow=='skj':\n",
    "    unitsnow = 4*['[metric tons/set]']\n",
    "    vminsnow = 4*[0] \n",
    "    vmaxsnow = 4*[50] \n",
    "    mapsnow = [skj_cp_tot_std, skj_cp_tot_clim_std,\n",
    "               skj_cp_tot_anom_std, skj_cp_tot_anom_enln_std]\n",
    "    titlesnow = ['SKJ CPUE total σ', 'SKJ CPUE climatological σ',\n",
    "                 'SKJ CPUE monthly anomalous σ', 'SKJ CPUE ENSO anomalous σ']\n",
    "elif mapvarnow=='bet':\n",
    "    unitsnow = 4*['[metric tons/set]']\n",
    "    vminsnow = 4*[0] \n",
    "    vmaxsnow = 4*[8] \n",
    "    mapsnow = [bet_cp_tot_std, bet_cp_tot_clim_std,\n",
    "               bet_cp_tot_anom_std, bet_cp_tot_anom_enln_std]\n",
    "    titlesnow = ['BET CPUE total σ', 'BET CPUE climatological σ',\n",
    "                 'BET CPUE monthly anomalous σ', 'BET CPUE ENSO anomalous σ']\n",
    "elif mapvarnow=='bettoskj':\n",
    "    unitsnow = 4*['']\n",
    "    vminsnow = 4*[0]\n",
    "    vmaxsnow = 4*[0.3]\n",
    "    mapsnow = [bettoskj_cp_tot_std, bettoskj_cp_tot_clim_std,\n",
    "               bettoskj_cp_tot_anom_std, bettoskj_cp_tot_anom_enln_std]\n",
    "    titlesnow = ['BET:SKJ total σ', 'BET:SKJ climatological σ',\n",
    "                 'BET:SKJ monthly anom σ', 'BET:SKJ ENSO anom σ']\n",
    "\n",
    "cmsnow = 4*[plt.cm.get_cmap('viridis',11)]\n",
    "ploteezsnow = 4*[0]"
   ]
  },
  {
   "cell_type": "code",
   "execution_count": null,
   "metadata": {},
   "outputs": [],
   "source": [
    "# - Set proj and define axes\n",
    "fig,axes = plt.subplots(nrows=2, ncols=2, figsize=(7.5,3.3),\n",
    "    subplot_kw={'projection': ccrs.PlateCarree(central_longitude=200)})\n",
    "\n",
    "# - Make maps pretty + plot\n",
    "isp = 0\n",
    "for irow in range(axes.shape[0]):\n",
    "    for icol in range(axes.shape[1]):\n",
    "        ax = axes[irow][icol]\n",
    "        exec(open('helper_scripts/create_map_bgs.py').read())\n",
    "        ax.text(-0.1, 1.1, string.ascii_uppercase[isp], transform=ax.transAxes,\n",
    "                size=12, weight='bold') \n",
    "        \n",
    "        mapsnow[isp].plot(\n",
    "            ax=ax, transform=ccrs.PlateCarree(), cmap=cmsnow[isp],\n",
    "            vmin=vminsnow[isp], vmax=vmaxsnow[isp],\n",
    "            cbar_kwargs={'pad': 0.02, 'label': unitsnow[isp],\n",
    "                         'shrink': 0.8})\n",
    "        \n",
    "        if ploteezsnow[isp]==1:\n",
    "            nueezs.plot(ax=ax, transform=ccrs.PlateCarree(),\n",
    "                color=eezfcnow, edgecolor=eezlcnow, linewidth=eezlwnow)\n",
    "            \n",
    "        ax.set_xlabel(''); ax.set_ylabel('')\n",
    "        ax.tick_params(axis='x', labelsize=8)\n",
    "        ax.tick_params(axis='y', labelsize=8)\n",
    "        ax.set_title(titlesnow[isp], fontsize=9)\n",
    "        isp = isp + 1\n",
    "\n",
    "# - Save fig\n",
    "fig.savefig(figpath + 'Fig3.png',\n",
    "            bbox_inches='tight', pad_inches = 0, dpi = 300)\n",
    "fig.savefig(figpath + 'Fig3.tif',\n",
    "            bbox_inches='tight', pad_inches = 0, dpi = 300,\n",
    "            pil_kwargs={\"compression\": \"tiff_lzw\"})"
   ]
  },
  {
   "cell_type": "code",
   "execution_count": null,
   "metadata": {},
   "outputs": [],
   "source": []
  }
 ],
 "metadata": {
  "kernelspec": {
   "display_name": "Python 3",
   "language": "python",
   "name": "python3"
  },
  "language_info": {
   "codemirror_mode": {
    "name": "ipython",
    "version": 3
   },
   "file_extension": ".py",
   "mimetype": "text/x-python",
   "name": "python",
   "nbconvert_exporter": "python",
   "pygments_lexer": "ipython3",
   "version": "3.7.3"
  }
 },
 "nbformat": 4,
 "nbformat_minor": 4
}
