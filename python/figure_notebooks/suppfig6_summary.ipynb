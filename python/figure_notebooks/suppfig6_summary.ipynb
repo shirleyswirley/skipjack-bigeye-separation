{
 "cells": [
  {
   "cell_type": "code",
   "execution_count": null,
   "metadata": {},
   "outputs": [],
   "source": [
    "# - Define constant plot params\n",
    "bsstipsizenow = 50 #100\n",
    "bsstipfacecolnow = 'white'\n",
    "bsstipedgecolnow = 'white'\n",
    "bsstipewnow = 0.5 # marker edge width\n",
    "\n",
    "bseezfcnow = 'none'; bseezlcnow = 'black';\n",
    "bseezlsnow = '-'; bseezlwnow = 1"
   ]
  },
  {
   "cell_type": "code",
   "execution_count": null,
   "metadata": {},
   "outputs": [],
   "source": [
    "# - Define subplot-variable plot params\n",
    "fdmapsnow = [fdmapwin7_8, fdmapspr7_8, fdmapsum7_8, fdmapaut7_8]\n",
    "hatchmapsnow = [bettoskj_cp_tot_win, bettoskj_cp_tot_spr,\n",
    "                bettoskj_cp_tot_sum, bettoskj_cp_tot_aut]\n",
    "# remember, need to define these seas mean variables\n",
    "titlesnow = ['Winter summary', 'Spring summary',\n",
    "             'Summer summary', 'Fall summary']"
   ]
  },
  {
   "cell_type": "code",
   "execution_count": null,
   "metadata": {},
   "outputs": [],
   "source": [
    "# - Set proj and define axes\n",
    "fig,axes = plt.subplots(nrows=4, ncols=1, figsize=(16/3,9),\n",
    "                        subplot_kw={'projection': ccrs.PlateCarree(central_longitude=200)})\n",
    "\n",
    "# - Make maps pretty + plot\n",
    "isp = 0;\n",
    "for irow in range(4):\n",
    "    ax = axes[irow]\n",
    "    exec(open('helper_scripts/create_map_bgs.py').read())\n",
    "    \n",
    "    fdmapnow = fdmapsnow[isp]\n",
    "    hatchmapnow = hatchmapsnow[isp]\n",
    "    hatchmapco1now = bettoskj_r3co1 \n",
    "    hatchmapco2now = bettoskj_r3co2\n",
    "    cbarlabelsnow = ['LS-LB','LS-HB','HS-LB','MS-MB','HS-HB']\n",
    "    \n",
    "    #---------make this better later\n",
    "    pltnow = fdmapnow.plot(ax=ax, add_colorbar=False,\n",
    "                           transform=ccrs.PlateCarree(),\n",
    "                           cmap=bs5cmp_nonone, vmin=0.25, vmax=5.25)\n",
    "    \n",
    "    hmap = hatchmapnow.where(hatchmapnow>=hatchmapco2now)\n",
    "    hmap_stacked = hmap.stack(x=['lat','lon'])\n",
    "    hmap_red = hmap_stacked[hmap_stacked.notnull()]\n",
    "    bsstipmarknow = 'x'\n",
    "    ax.scatter(hmap_red.lon, hmap_red.lat,\n",
    "                marker=bsstipmarknow, linewidths=bsstipewnow,\n",
    "                facecolors=bsstipfacecolnow, edgecolors=bsstipedgecolnow,\n",
    "                s=bsstipsizenow, transform=ccrs.PlateCarree())\n",
    "    \n",
    "    hmap = hatchmapnow.where((hatchmapnow<hatchmapco2now)\n",
    "                             &(hatchmapnow>hatchmapco1now))\n",
    "    hmap_stacked = hmap.stack(x=['lat','lon'])\n",
    "    hmap_yellow = hmap_stacked[hmap_stacked.notnull()]\n",
    "    bsstipmarknow = 'None' #'$M$'\n",
    "    ax.scatter(hmap_yellow.lon, hmap_yellow.lat,\n",
    "                marker=bsstipmarknow, linewidths=bsstipewnow,\n",
    "                facecolors=bsstipfacecolnow, edgecolors=bsstipedgecolnow,\n",
    "                s=bsstipsizenow, transform=ccrs.PlateCarree())\n",
    "    \n",
    "    hmap = hatchmapnow.where(hatchmapnow<=hatchmapco1now)\n",
    "    hmap_stacked = hmap.stack(x=['lat','lon'])\n",
    "    hmap_green = hmap_stacked[hmap_stacked.notnull()]\n",
    "    bsstipmarknow = '$\\checkmark$'\n",
    "    ax.scatter(hmap_green.lon, hmap_green.lat,\n",
    "                marker=bsstipmarknow, linewidths=bsstipewnow,\n",
    "                facecolors=bsstipfacecolnow, edgecolors=bsstipedgecolnow,\n",
    "                s=bsstipsizenow, transform=ccrs.PlateCarree())\n",
    "    \n",
    "    cbar = plt.colorbar(pltnow, ax=ax, ticks=np.arange(0.25,5.25,1) + 1/2,\n",
    "                        pad=0.02, label='')\n",
    "    cbar.ax.set_yticklabels(cbarlabelsnow);\n",
    "    \n",
    "    nueezs.plot(ax=ax, transform=ccrs.PlateCarree(),\n",
    "                color=bseezfcnow, edgecolor=bseezlcnow,\n",
    "                linewidth=bseezlwnow, linestyle=bseezlsnow)\n",
    "    #------------------- \n",
    "                \n",
    "    ax.set_xlabel(''); ax.set_ylabel('')\n",
    "    ax.set_title(titlesnow[isp])\n",
    "    isp = isp + 1\n",
    "    \n",
    "fig.savefig(figpath + 'suppfig6_bscpue_summary_maps.png',\n",
    "        bbox_inches='tight', pad_inches = 0, dpi = 200)"
   ]
  }
 ],
 "metadata": {
  "kernelspec": {
   "display_name": "Python 3",
   "language": "python",
   "name": "python3"
  },
  "language_info": {
   "codemirror_mode": {
    "name": "ipython",
    "version": 3
   },
   "file_extension": ".py",
   "mimetype": "text/x-python",
   "name": "python",
   "nbconvert_exporter": "python",
   "pygments_lexer": "ipython3",
   "version": "3.7.3"
  }
 },
 "nbformat": 4,
 "nbformat_minor": 4
}
